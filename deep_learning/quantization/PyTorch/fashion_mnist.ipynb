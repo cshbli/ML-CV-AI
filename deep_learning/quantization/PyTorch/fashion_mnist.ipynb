{
 "cells": [
  {
   "attachments": {},
   "cell_type": "markdown",
   "metadata": {},
   "source": [
    "# Fashion MNIST Toy Model with PyTorch QAT and BST QAT"
   ]
  },
  {
   "cell_type": "code",
   "execution_count": 20,
   "metadata": {},
   "outputs": [
    {
     "name": "stdout",
     "output_type": "stream",
     "text": [
      "1.9.1+cu102\n"
     ]
    }
   ],
   "source": [
    "# Both torch 1.9.1 and 1.13.0 should work\n",
    "import torch\n",
    "from torch import nn\n",
    "\n",
    "print(torch.__version__)"
   ]
  },
  {
   "attachments": {},
   "cell_type": "markdown",
   "metadata": {},
   "source": [
    "## 1. Regular Training with FP32"
   ]
  },
  {
   "attachments": {},
   "cell_type": "markdown",
   "metadata": {},
   "source": [
    "### 1.1 Loading data"
   ]
  },
  {
   "cell_type": "code",
   "execution_count": 21,
   "metadata": {},
   "outputs": [
    {
     "name": "stdout",
     "output_type": "stream",
     "text": [
      "Shape of X [N, C, H, W]: torch.Size([64, 1, 28, 28])\n",
      "Shape of y: torch.Size([64]) torch.int64\n"
     ]
    }
   ],
   "source": [
    "import torchvision\n",
    "from torch.utils.data import DataLoader\n",
    "\n",
    "# Download training data from open datasets.\n",
    "training_data = torchvision.datasets.FashionMNIST(\n",
    "    root=\"data\",\n",
    "    train=True,\n",
    "    download=True,\n",
    "    transform=torchvision.transforms.ToTensor(),\n",
    ")\n",
    "\n",
    "# Download test data from open datasets.\n",
    "test_data = torchvision.datasets.FashionMNIST(\n",
    "    root=\"data\",\n",
    "    train=False,\n",
    "    download=True,\n",
    "    transform=torchvision.transforms.ToTensor(),\n",
    ")\n",
    "\n",
    "batch_size = 64\n",
    "\n",
    "# Create data loaders.\n",
    "train_dataloader = DataLoader(training_data, batch_size=batch_size)\n",
    "test_dataloader = DataLoader(test_data, batch_size=batch_size)\n",
    "\n",
    "for X, y in test_dataloader:\n",
    "    print(f\"Shape of X [N, C, H, W]: {X.shape}\")\n",
    "    print(f\"Shape of y: {y.shape} {y.dtype}\")\n",
    "    break"
   ]
  },
  {
   "attachments": {},
   "cell_type": "markdown",
   "metadata": {},
   "source": [
    "### 1.2 Defining Models"
   ]
  },
  {
   "cell_type": "code",
   "execution_count": 22,
   "metadata": {},
   "outputs": [],
   "source": [
    "# Define model\n",
    "class FashionCNN(nn.Module):\n",
    "    def __init__(self):\n",
    "        super(FashionCNN, self).__init__()\n",
    "\n",
    "        self.layer1 = nn.Sequential(\n",
    "            nn.Conv2d(in_channels=1, out_channels=32, kernel_size=3, padding=1),\n",
    "            nn.BatchNorm2d(32),\n",
    "            nn.ReLU(),\n",
    "            nn.MaxPool2d(kernel_size=2, stride=2)\n",
    "        )\n",
    "        \n",
    "        self.layer2 = nn.Sequential(\n",
    "            nn.Conv2d(in_channels=32, out_channels=64, kernel_size=3),\n",
    "            nn.BatchNorm2d(64),\n",
    "            nn.ReLU(),\n",
    "            nn.MaxPool2d(2)\n",
    "        )\n",
    "        \n",
    "        self.fc1 = nn.Linear(in_features=64*6*6, out_features=600)\n",
    "        self.drop = nn.Dropout(0.25)\n",
    "        self.fc2 = nn.Linear(in_features=600, out_features=120)\n",
    "        self.fc3 = nn.Linear(in_features=120, out_features=10)\n",
    "\n",
    "    def forward(self, x):\n",
    "        out = self.layer1(x)\n",
    "        out = self.layer2(out)\n",
    "        # View avoids explicit data copy\n",
    "        # out = out.view(out.size(0), -1)        \n",
    "        out = torch.reshape(out, (out.size(0), -1))\n",
    "        out = self.fc1(out)\n",
    "        out = self.drop(out)\n",
    "        out = self.fc2(out)\n",
    "        out = self.fc3(out)\n",
    "        \n",
    "        return out"
   ]
  },
  {
   "attachments": {},
   "cell_type": "markdown",
   "metadata": {},
   "source": [
    "### 1.3 Defining Training and Testing Functions"
   ]
  },
  {
   "cell_type": "code",
   "execution_count": 23,
   "metadata": {},
   "outputs": [],
   "source": [
    "# In a single training loop, the model makes predictions on the training dataset (fed to it in batches), \n",
    "# and backpropagates the prediction error to adjust the model’s parameters.\n",
    "def train(dataloader, model, loss_fn, optimizer, device):\n",
    "    size = len(dataloader.dataset)\n",
    "    model.train()\n",
    "    for batch, (X, y) in enumerate(dataloader):\n",
    "        X, y = X.to(device), y.to(device)        \n",
    "\n",
    "        # Compute prediction error\n",
    "        pred = model(X)\n",
    "        loss = loss_fn(pred, y)\n",
    "\n",
    "        # Backpropagation\n",
    "        optimizer.zero_grad()\n",
    "        loss.backward()\n",
    "        optimizer.step()\n",
    "\n",
    "        if batch % 100 == 0:\n",
    "            loss, current = loss.item(), batch * len(X)\n",
    "            print(f\"loss: {loss:>7f}  [{current:>5d}/{size:>5d}]\")\n",
    "\n",
    "# We also check the model’s performance against the test dataset to ensure it is learning.\n",
    "def test(dataloader, model, loss_fn, device):\n",
    "    size = len(dataloader.dataset)\n",
    "    num_batches = len(dataloader)\n",
    "    model.eval()\n",
    "    test_loss, correct = 0, 0\n",
    "    with torch.no_grad():\n",
    "        for X, y in dataloader:\n",
    "            X, y = X.to(device), y.to(device)\n",
    "            pred = model(X)\n",
    "            test_loss += loss_fn(pred, y).item()\n",
    "            correct += (pred.argmax(1) == y).type(torch.float).sum().item()\n",
    "    test_loss /= num_batches\n",
    "    correct /= size\n",
    "    print(f\"Test Error: \\n Accuracy: {(100*correct):>0.1f}%, Avg loss: {test_loss:>8f} \\n\")            "
   ]
  },
  {
   "attachments": {},
   "cell_type": "markdown",
   "metadata": {},
   "source": [
    "### 1.4 Training and Testing"
   ]
  },
  {
   "cell_type": "code",
   "execution_count": 24,
   "metadata": {},
   "outputs": [
    {
     "name": "stdout",
     "output_type": "stream",
     "text": [
      "Using cuda device\n",
      "FashionCNN(\n",
      "  (layer1): Sequential(\n",
      "    (0): Conv2d(1, 32, kernel_size=(3, 3), stride=(1, 1), padding=(1, 1))\n",
      "    (1): BatchNorm2d(32, eps=1e-05, momentum=0.1, affine=True, track_running_stats=True)\n",
      "    (2): ReLU()\n",
      "    (3): MaxPool2d(kernel_size=2, stride=2, padding=0, dilation=1, ceil_mode=False)\n",
      "  )\n",
      "  (layer2): Sequential(\n",
      "    (0): Conv2d(32, 64, kernel_size=(3, 3), stride=(1, 1))\n",
      "    (1): BatchNorm2d(64, eps=1e-05, momentum=0.1, affine=True, track_running_stats=True)\n",
      "    (2): ReLU()\n",
      "    (3): MaxPool2d(kernel_size=2, stride=2, padding=0, dilation=1, ceil_mode=False)\n",
      "  )\n",
      "  (fc1): Linear(in_features=2304, out_features=600, bias=True)\n",
      "  (drop): Dropout(p=0.25, inplace=False)\n",
      "  (fc2): Linear(in_features=600, out_features=120, bias=True)\n",
      "  (fc3): Linear(in_features=120, out_features=10, bias=True)\n",
      ")\n",
      "Epoch 0\n",
      "-------------------------------\n",
      "loss: 2.387211  [    0/60000]\n",
      "loss: 0.429180  [ 6400/60000]\n",
      "loss: 0.272270  [12800/60000]\n",
      "loss: 0.510478  [19200/60000]\n",
      "loss: 0.340889  [25600/60000]\n",
      "loss: 0.469076  [32000/60000]\n",
      "loss: 0.250291  [38400/60000]\n",
      "loss: 0.550942  [44800/60000]\n",
      "loss: 0.370815  [51200/60000]\n",
      "loss: 0.263725  [57600/60000]\n",
      "Test Error: \n",
      " Accuracy: 85.7%, Avg loss: 0.390248 \n",
      "\n",
      "Epoch 1\n",
      "-------------------------------\n",
      "loss: 0.198243  [    0/60000]\n",
      "loss: 0.341159  [ 6400/60000]\n",
      "loss: 0.144928  [12800/60000]\n",
      "loss: 0.326910  [19200/60000]\n",
      "loss: 0.374676  [25600/60000]\n",
      "loss: 0.421695  [32000/60000]\n",
      "loss: 0.225184  [38400/60000]\n",
      "loss: 0.371727  [44800/60000]\n",
      "loss: 0.231108  [51200/60000]\n",
      "loss: 0.263754  [57600/60000]\n",
      "Test Error: \n",
      " Accuracy: 89.6%, Avg loss: 0.293238 \n",
      "\n",
      "Epoch 2\n",
      "-------------------------------\n",
      "loss: 0.139233  [    0/60000]\n",
      "loss: 0.336844  [ 6400/60000]\n",
      "loss: 0.139731  [12800/60000]\n",
      "loss: 0.294628  [19200/60000]\n",
      "loss: 0.399305  [25600/60000]\n",
      "loss: 0.376975  [32000/60000]\n",
      "loss: 0.182012  [38400/60000]\n",
      "loss: 0.352757  [44800/60000]\n",
      "loss: 0.179860  [51200/60000]\n",
      "loss: 0.268542  [57600/60000]\n",
      "Test Error: \n",
      " Accuracy: 89.9%, Avg loss: 0.293201 \n",
      "\n",
      "Epoch 3\n",
      "-------------------------------\n",
      "loss: 0.117059  [    0/60000]\n",
      "loss: 0.306897  [ 6400/60000]\n",
      "loss: 0.111785  [12800/60000]\n",
      "loss: 0.219747  [19200/60000]\n",
      "loss: 0.379221  [25600/60000]\n",
      "loss: 0.345204  [32000/60000]\n",
      "loss: 0.191264  [38400/60000]\n",
      "loss: 0.335722  [44800/60000]\n",
      "loss: 0.159002  [51200/60000]\n",
      "loss: 0.157227  [57600/60000]\n",
      "Test Error: \n",
      " Accuracy: 88.7%, Avg loss: 0.331365 \n",
      "\n",
      "Epoch 4\n",
      "-------------------------------\n",
      "loss: 0.135396  [    0/60000]\n",
      "loss: 0.325178  [ 6400/60000]\n",
      "loss: 0.114946  [12800/60000]\n",
      "loss: 0.227999  [19200/60000]\n",
      "loss: 0.318975  [25600/60000]\n",
      "loss: 0.368616  [32000/60000]\n",
      "loss: 0.103704  [38400/60000]\n",
      "loss: 0.345399  [44800/60000]\n",
      "loss: 0.145959  [51200/60000]\n",
      "loss: 0.161406  [57600/60000]\n",
      "Test Error: \n",
      " Accuracy: 88.9%, Avg loss: 0.343562 \n",
      "\n",
      "Done!\n"
     ]
    }
   ],
   "source": [
    "# Get cpu or gpu device for training.\n",
    "device = \"cuda\" if torch.cuda.is_available() else \"cpu\"\n",
    "print(f\"Using {device} device\")\n",
    "\n",
    "fp_model = FashionCNN()\n",
    "fp_model.to(device)\n",
    "print(fp_model)\n",
    "\n",
    "# Define a loss function\n",
    "loss_fn = nn.CrossEntropyLoss()\n",
    "\n",
    "# Define an optimizer, for this model, Adam is better than SGD\n",
    "# optimizer = torch.optim.SGD(model.parameters(), lr=1e-3)\n",
    "optimizer = torch.optim.Adam(fp_model.parameters(), lr=1e-3)\n",
    "\n",
    "epochs = 5\n",
    "for nepoch in range(epochs):\n",
    "    print(f\"Epoch {nepoch}\\n-------------------------------\")\n",
    "    train(train_dataloader, fp_model, loss_fn, optimizer, device=device)\n",
    "    test(test_dataloader, fp_model, loss_fn, device=device)\n",
    "print(\"Done!\")"
   ]
  },
  {
   "attachments": {},
   "cell_type": "markdown",
   "metadata": {},
   "source": [
    "### 1.5 Saving Models"
   ]
  },
  {
   "cell_type": "code",
   "execution_count": 25,
   "metadata": {},
   "outputs": [
    {
     "name": "stdout",
     "output_type": "stream",
     "text": [
      "Saved PyTorch Model to data/fashion_mnist.pth\n"
     ]
    }
   ],
   "source": [
    "# torch.save(model, \"data/fashion_mnist.pth\")\n",
    "torch.save(fp_model.state_dict(), \"data/fashion_mnist.pth\")\n",
    "print(\"Saved PyTorch Model to data/fashion_mnist.pth\")"
   ]
  },
  {
   "attachments": {},
   "cell_type": "markdown",
   "metadata": {},
   "source": [
    "### 1.6 Export to ONNX"
   ]
  },
  {
   "cell_type": "code",
   "execution_count": 26,
   "metadata": {},
   "outputs": [],
   "source": [
    "# Input to the model\n",
    "x = torch.randn(batch_size, 1, 28, 28, requires_grad=True)\n",
    "fp_model.eval()\n",
    "fp_model.to('cpu')\n",
    "torch_out = fp_model(x)\n",
    "\n",
    "# Export the model\n",
    "torch.onnx.export(fp_model,                     # model being run\n",
    "                  x,                            # model input (or a tuple for multiple inputs)\n",
    "                  \"data/fashion_mnist.onnx\",    # where to save the model (can be a file or file-like object)\n",
    "                  export_params=True,           # store the trained parameter weights inside the model file\n",
    "                  opset_version=13,             # the ONNX version to export the model to\n",
    "                  do_constant_folding=True,     # whether to execute constant folding for optimization\n",
    "                  input_names = ['input'],      # the model's input names\n",
    "                  output_names = ['output'],    # the model's output names\n",
    "                  dynamic_axes={'input' : {0 : 'batch_size'},    # variable length axes\n",
    "                                'output' : {0 : 'batch_size'}})"
   ]
  },
  {
   "attachments": {},
   "cell_type": "markdown",
   "metadata": {},
   "source": [
    "## PyTorch QAT"
   ]
  },
  {
   "attachments": {},
   "cell_type": "markdown",
   "metadata": {},
   "source": [
    "### 2.1 Loading Data\n",
    "\n",
    "It is the same as training a float model."
   ]
  },
  {
   "attachments": {},
   "cell_type": "markdown",
   "metadata": {},
   "source": [
    "### 2.2 Defining Models\n",
    "\n",
    "- Insert QuantStub and DeQuantStub at the beginning and end of the network.\n",
    "- Define `fuse_module` function to fuse CONV+BN etc."
   ]
  },
  {
   "cell_type": "code",
   "execution_count": 27,
   "metadata": {},
   "outputs": [],
   "source": [
    "from torch.quantization import QuantStub, DeQuantStub\n",
    "\n",
    "# Define model\n",
    "class FashionCNNQAT(nn.Module):\n",
    "    def __init__(self):\n",
    "        super().__init__()\n",
    "\n",
    "        self.layer1 = nn.Sequential(\n",
    "            nn.Conv2d(in_channels=1, out_channels=32, kernel_size=3, padding=1),\n",
    "            nn.BatchNorm2d(32),\n",
    "            nn.ReLU(),\n",
    "            nn.MaxPool2d(kernel_size=2, stride=2)\n",
    "        )\n",
    "        \n",
    "        self.layer2 = nn.Sequential(\n",
    "            nn.Conv2d(in_channels=32, out_channels=64, kernel_size=3),\n",
    "            nn.BatchNorm2d(64),\n",
    "            nn.ReLU(),\n",
    "            nn.MaxPool2d(2)\n",
    "        )\n",
    "        \n",
    "        self.fc1 = nn.Linear(in_features=64*6*6, out_features=600)\n",
    "        self.drop = nn.Dropout(0.25)\n",
    "        self.fc2 = nn.Linear(in_features=600, out_features=120)\n",
    "        self.fc3 = nn.Linear(in_features=120, out_features=10)\n",
    "\n",
    "        self.quant = QuantStub()\n",
    "        self.dequant = DeQuantStub()\n",
    "\n",
    "    def forward(self, x):\n",
    "        x = self.quant(x)\n",
    "\n",
    "        out = self.layer1(x)\n",
    "        out = self.layer2(out)\n",
    "        # View avoids explicit data copy\n",
    "        # out = out.view(out.size(0), -1)\n",
    "        out = torch.reshape(out, (out.size(0), -1))\n",
    "        out = self.fc1(out)\n",
    "        out = self.drop(out)\n",
    "        out = self.fc2(out)\n",
    "        out = self.fc3(out)\n",
    "\n",
    "        out = self.dequant(out)\n",
    "        \n",
    "        return out\n",
    "\n",
    "    # Fuse Conv+BN and Conv+BN+Relu modules prior to quantization\n",
    "    # This operation does not change the numerics\n",
    "    def fuse_model(self):\n",
    "        for m in self.modules():\n",
    "            if type(m) == nn.Sequential:\n",
    "                torch.quantization.fuse_modules(m, ['0', '1', '2'], inplace=True)"
   ]
  },
  {
   "attachments": {},
   "cell_type": "markdown",
   "metadata": {},
   "source": [
    "### 2.3 Defining Training and Testing Functions\n",
    "\n",
    "They are the same as training and testing float models."
   ]
  },
  {
   "attachments": {},
   "cell_type": "markdown",
   "metadata": {},
   "source": [
    "### 2.4 Training and Testing"
   ]
  },
  {
   "attachments": {},
   "cell_type": "markdown",
   "metadata": {},
   "source": [
    "#### 2.4.1 Load pretrained float model"
   ]
  },
  {
   "cell_type": "code",
   "execution_count": 28,
   "metadata": {},
   "outputs": [
    {
     "name": "stdout",
     "output_type": "stream",
     "text": [
      "FashionCNNQAT(\n",
      "  (layer1): Sequential(\n",
      "    (0): Conv2d(1, 32, kernel_size=(3, 3), stride=(1, 1), padding=(1, 1))\n",
      "    (1): BatchNorm2d(32, eps=1e-05, momentum=0.1, affine=True, track_running_stats=True)\n",
      "    (2): ReLU()\n",
      "    (3): MaxPool2d(kernel_size=2, stride=2, padding=0, dilation=1, ceil_mode=False)\n",
      "  )\n",
      "  (layer2): Sequential(\n",
      "    (0): Conv2d(32, 64, kernel_size=(3, 3), stride=(1, 1))\n",
      "    (1): BatchNorm2d(64, eps=1e-05, momentum=0.1, affine=True, track_running_stats=True)\n",
      "    (2): ReLU()\n",
      "    (3): MaxPool2d(kernel_size=2, stride=2, padding=0, dilation=1, ceil_mode=False)\n",
      "  )\n",
      "  (fc1): Linear(in_features=2304, out_features=600, bias=True)\n",
      "  (drop): Dropout(p=0.25, inplace=False)\n",
      "  (fc2): Linear(in_features=600, out_features=120, bias=True)\n",
      "  (fc3): Linear(in_features=120, out_features=10, bias=True)\n",
      "  (quant): QuantStub()\n",
      "  (dequant): DeQuantStub()\n",
      ")\n"
     ]
    }
   ],
   "source": [
    "# Load pretrained float model\n",
    "qat_model = FashionCNNQAT()\n",
    "state_dict = torch.load(\"data/fashion_mnist.pth\")\n",
    "qat_model.load_state_dict(state_dict)\n",
    "print(qat_model)"
   ]
  },
  {
   "attachments": {},
   "cell_type": "markdown",
   "metadata": {},
   "source": [
    "#### 2.4.2 Fuse model"
   ]
  },
  {
   "cell_type": "code",
   "execution_count": 29,
   "metadata": {},
   "outputs": [
    {
     "name": "stdout",
     "output_type": "stream",
     "text": [
      "FashionCNNQAT(\n",
      "  (layer1): Sequential(\n",
      "    (0): ConvReLU2d(\n",
      "      (0): Conv2d(1, 32, kernel_size=(3, 3), stride=(1, 1), padding=(1, 1))\n",
      "      (1): ReLU()\n",
      "    )\n",
      "    (1): Identity()\n",
      "    (2): Identity()\n",
      "    (3): MaxPool2d(kernel_size=2, stride=2, padding=0, dilation=1, ceil_mode=False)\n",
      "  )\n",
      "  (layer2): Sequential(\n",
      "    (0): ConvReLU2d(\n",
      "      (0): Conv2d(32, 64, kernel_size=(3, 3), stride=(1, 1))\n",
      "      (1): ReLU()\n",
      "    )\n",
      "    (1): Identity()\n",
      "    (2): Identity()\n",
      "    (3): MaxPool2d(kernel_size=2, stride=2, padding=0, dilation=1, ceil_mode=False)\n",
      "  )\n",
      "  (fc1): Linear(in_features=2304, out_features=600, bias=True)\n",
      "  (drop): Dropout(p=0.25, inplace=False)\n",
      "  (fc2): Linear(in_features=600, out_features=120, bias=True)\n",
      "  (fc3): Linear(in_features=120, out_features=10, bias=True)\n",
      "  (quant): QuantStub()\n",
      "  (dequant): DeQuantStub()\n",
      ")\n"
     ]
    }
   ],
   "source": [
    "qat_model.eval()\n",
    "qat_model.fuse_model()\n",
    "print(qat_model)"
   ]
  },
  {
   "attachments": {},
   "cell_type": "markdown",
   "metadata": {},
   "source": [
    "#### 2.4.3 Prepare for QAT"
   ]
  },
  {
   "attachments": {},
   "cell_type": "markdown",
   "metadata": {},
   "source": [
    "##### Option 1:  Using default qconfig"
   ]
  },
  {
   "cell_type": "code",
   "execution_count": 30,
   "metadata": {},
   "outputs": [],
   "source": [
    "\n",
    "quantization_config = torch.quantization.get_default_qat_qconfig('fbgemm')"
   ]
  },
  {
   "attachments": {},
   "cell_type": "markdown",
   "metadata": {},
   "source": [
    "##### Option 2: Using customerized observers and quantization schemes"
   ]
  },
  {
   "cell_type": "code",
   "execution_count": 31,
   "metadata": {},
   "outputs": [],
   "source": [
    "from torch.quantization.fake_quantize import FakeQuantize\n",
    "from torch.quantization.qconfig import QConfig\n",
    "\n",
    "activation_quant = FakeQuantize.with_args(observer=torch.quantization.default_observer.with_args(dtype=torch.qint8),\n",
    "                                           quant_min=-128,\n",
    "                                           quant_max=127,\n",
    "                                           dtype=torch.qint8,\n",
    "                                           qscheme=torch.per_tensor_affine)\n",
    "\n",
    "weight_quant = FakeQuantize.with_args(observer=torch.quantization.default_observer.with_args(dtype=torch.qint8),\n",
    "                                        quant_min=-128,\n",
    "                                        quant_max=127,\n",
    "                                        dtype=torch.qint8,\n",
    "                                        qscheme=torch.per_tensor_affine)\n",
    "\n",
    "quantization_config = QConfig(activation=activation_quant, weight=weight_quant) "
   ]
  },
  {
   "cell_type": "code",
   "execution_count": 32,
   "metadata": {},
   "outputs": [
    {
     "name": "stdout",
     "output_type": "stream",
     "text": [
      "QConfig(activation=functools.partial(<class 'torch.quantization.fake_quantize.FakeQuantize'>, observer=functools.partial(functools.partial(<class 'torch.quantization.observer.MinMaxObserver'>, reduce_range=True), dtype=torch.qint8), quant_min=-128, quant_max=127, dtype=torch.qint8, qscheme=torch.per_tensor_affine), weight=functools.partial(<class 'torch.quantization.fake_quantize.FakeQuantize'>, observer=functools.partial(functools.partial(<class 'torch.quantization.observer.MinMaxObserver'>, reduce_range=True), dtype=torch.qint8), quant_min=-128, quant_max=127, dtype=torch.qint8, qscheme=torch.per_tensor_affine))\n"
     ]
    }
   ],
   "source": [
    "qat_model.qconfig = quantization_config\n",
    "print(qat_model.qconfig)"
   ]
  },
  {
   "cell_type": "code",
   "execution_count": 33,
   "metadata": {},
   "outputs": [
    {
     "name": "stdout",
     "output_type": "stream",
     "text": [
      "FashionCNNQAT(\n",
      "  (layer1): Sequential(\n",
      "    (0): ConvReLU2d(\n",
      "      1, 32, kernel_size=(3, 3), stride=(1, 1), padding=(1, 1)\n",
      "      (weight_fake_quant): FakeQuantize(\n",
      "        fake_quant_enabled=tensor([1], device='cuda:0', dtype=torch.uint8), observer_enabled=tensor([1], device='cuda:0', dtype=torch.uint8), quant_min=-128, quant_max=127, dtype=torch.qint8, qscheme=torch.per_tensor_affine, ch_axis=-1, scale=tensor([1.], device='cuda:0'), zero_point=tensor([0], device='cuda:0')\n",
      "        (activation_post_process): MinMaxObserver(min_val=inf, max_val=-inf)\n",
      "      )\n",
      "      (activation_post_process): FakeQuantize(\n",
      "        fake_quant_enabled=tensor([1], device='cuda:0', dtype=torch.uint8), observer_enabled=tensor([1], device='cuda:0', dtype=torch.uint8), quant_min=-128, quant_max=127, dtype=torch.qint8, qscheme=torch.per_tensor_affine, ch_axis=-1, scale=tensor([1.], device='cuda:0'), zero_point=tensor([0], device='cuda:0')\n",
      "        (activation_post_process): MinMaxObserver(min_val=inf, max_val=-inf)\n",
      "      )\n",
      "    )\n",
      "    (1): Identity()\n",
      "    (2): Identity()\n",
      "    (3): MaxPool2d(kernel_size=2, stride=2, padding=0, dilation=1, ceil_mode=False)\n",
      "  )\n",
      "  (layer2): Sequential(\n",
      "    (0): ConvReLU2d(\n",
      "      32, 64, kernel_size=(3, 3), stride=(1, 1)\n",
      "      (weight_fake_quant): FakeQuantize(\n",
      "        fake_quant_enabled=tensor([1], device='cuda:0', dtype=torch.uint8), observer_enabled=tensor([1], device='cuda:0', dtype=torch.uint8), quant_min=-128, quant_max=127, dtype=torch.qint8, qscheme=torch.per_tensor_affine, ch_axis=-1, scale=tensor([1.], device='cuda:0'), zero_point=tensor([0], device='cuda:0')\n",
      "        (activation_post_process): MinMaxObserver(min_val=inf, max_val=-inf)\n",
      "      )\n",
      "      (activation_post_process): FakeQuantize(\n",
      "        fake_quant_enabled=tensor([1], device='cuda:0', dtype=torch.uint8), observer_enabled=tensor([1], device='cuda:0', dtype=torch.uint8), quant_min=-128, quant_max=127, dtype=torch.qint8, qscheme=torch.per_tensor_affine, ch_axis=-1, scale=tensor([1.], device='cuda:0'), zero_point=tensor([0], device='cuda:0')\n",
      "        (activation_post_process): MinMaxObserver(min_val=inf, max_val=-inf)\n",
      "      )\n",
      "    )\n",
      "    (1): Identity()\n",
      "    (2): Identity()\n",
      "    (3): MaxPool2d(kernel_size=2, stride=2, padding=0, dilation=1, ceil_mode=False)\n",
      "  )\n",
      "  (fc1): Linear(\n",
      "    in_features=2304, out_features=600, bias=True\n",
      "    (weight_fake_quant): FakeQuantize(\n",
      "      fake_quant_enabled=tensor([1], device='cuda:0', dtype=torch.uint8), observer_enabled=tensor([1], device='cuda:0', dtype=torch.uint8), quant_min=-128, quant_max=127, dtype=torch.qint8, qscheme=torch.per_tensor_affine, ch_axis=-1, scale=tensor([1.], device='cuda:0'), zero_point=tensor([0], device='cuda:0')\n",
      "      (activation_post_process): MinMaxObserver(min_val=inf, max_val=-inf)\n",
      "    )\n",
      "    (activation_post_process): FakeQuantize(\n",
      "      fake_quant_enabled=tensor([1], device='cuda:0', dtype=torch.uint8), observer_enabled=tensor([1], device='cuda:0', dtype=torch.uint8), quant_min=-128, quant_max=127, dtype=torch.qint8, qscheme=torch.per_tensor_affine, ch_axis=-1, scale=tensor([1.], device='cuda:0'), zero_point=tensor([0], device='cuda:0')\n",
      "      (activation_post_process): MinMaxObserver(min_val=inf, max_val=-inf)\n",
      "    )\n",
      "  )\n",
      "  (drop): Dropout(p=0.25, inplace=False)\n",
      "  (fc2): Linear(\n",
      "    in_features=600, out_features=120, bias=True\n",
      "    (weight_fake_quant): FakeQuantize(\n",
      "      fake_quant_enabled=tensor([1], device='cuda:0', dtype=torch.uint8), observer_enabled=tensor([1], device='cuda:0', dtype=torch.uint8), quant_min=-128, quant_max=127, dtype=torch.qint8, qscheme=torch.per_tensor_affine, ch_axis=-1, scale=tensor([1.], device='cuda:0'), zero_point=tensor([0], device='cuda:0')\n",
      "      (activation_post_process): MinMaxObserver(min_val=inf, max_val=-inf)\n",
      "    )\n",
      "    (activation_post_process): FakeQuantize(\n",
      "      fake_quant_enabled=tensor([1], device='cuda:0', dtype=torch.uint8), observer_enabled=tensor([1], device='cuda:0', dtype=torch.uint8), quant_min=-128, quant_max=127, dtype=torch.qint8, qscheme=torch.per_tensor_affine, ch_axis=-1, scale=tensor([1.], device='cuda:0'), zero_point=tensor([0], device='cuda:0')\n",
      "      (activation_post_process): MinMaxObserver(min_val=inf, max_val=-inf)\n",
      "    )\n",
      "  )\n",
      "  (fc3): Linear(\n",
      "    in_features=120, out_features=10, bias=True\n",
      "    (weight_fake_quant): FakeQuantize(\n",
      "      fake_quant_enabled=tensor([1], device='cuda:0', dtype=torch.uint8), observer_enabled=tensor([1], device='cuda:0', dtype=torch.uint8), quant_min=-128, quant_max=127, dtype=torch.qint8, qscheme=torch.per_tensor_affine, ch_axis=-1, scale=tensor([1.], device='cuda:0'), zero_point=tensor([0], device='cuda:0')\n",
      "      (activation_post_process): MinMaxObserver(min_val=inf, max_val=-inf)\n",
      "    )\n",
      "    (activation_post_process): FakeQuantize(\n",
      "      fake_quant_enabled=tensor([1], device='cuda:0', dtype=torch.uint8), observer_enabled=tensor([1], device='cuda:0', dtype=torch.uint8), quant_min=-128, quant_max=127, dtype=torch.qint8, qscheme=torch.per_tensor_affine, ch_axis=-1, scale=tensor([1.], device='cuda:0'), zero_point=tensor([0], device='cuda:0')\n",
      "      (activation_post_process): MinMaxObserver(min_val=inf, max_val=-inf)\n",
      "    )\n",
      "  )\n",
      "  (quant): QuantStub(\n",
      "    (activation_post_process): FakeQuantize(\n",
      "      fake_quant_enabled=tensor([1], device='cuda:0', dtype=torch.uint8), observer_enabled=tensor([1], device='cuda:0', dtype=torch.uint8), quant_min=-128, quant_max=127, dtype=torch.qint8, qscheme=torch.per_tensor_affine, ch_axis=-1, scale=tensor([1.], device='cuda:0'), zero_point=tensor([0], device='cuda:0')\n",
      "      (activation_post_process): MinMaxObserver(min_val=inf, max_val=-inf)\n",
      "    )\n",
      "  )\n",
      "  (dequant): DeQuantStub()\n",
      ")\n"
     ]
    },
    {
     "name": "stderr",
     "output_type": "stream",
     "text": [
      "/home/hongbing/venv/torch1.9.1/lib/python3.8/site-packages/torch/quantization/observer.py:122: UserWarning: Please use quant_min and quant_max to specify the range for observers.                     reduce_range will be deprecated in a future release of PyTorch.\n",
      "  warnings.warn(\n"
     ]
    }
   ],
   "source": [
    "qat_model.train()\n",
    "qat_model.to(device)\n",
    "torch.quantization.prepare_qat(qat_model, inplace=True)\n",
    "print(qat_model)"
   ]
  },
  {
   "attachments": {},
   "cell_type": "markdown",
   "metadata": {},
   "source": [
    "#### 2.4.4 Training and Testing\n",
    "\n",
    "- Training can be done on GPU/CUDA, Testing has to be done on CPU."
   ]
  },
  {
   "cell_type": "code",
   "execution_count": 34,
   "metadata": {},
   "outputs": [
    {
     "name": "stdout",
     "output_type": "stream",
     "text": [
      "Epoch 0\n",
      "-------------------------------\n",
      "loss: 0.151610  [    0/60000]\n",
      "loss: 0.278644  [ 6400/60000]\n",
      "loss: 0.157579  [12800/60000]\n",
      "loss: 0.294432  [19200/60000]\n",
      "loss: 0.347096  [25600/60000]\n",
      "loss: 0.406027  [32000/60000]\n",
      "loss: 0.168670  [38400/60000]\n",
      "loss: 0.294289  [44800/60000]\n",
      "loss: 0.223967  [51200/60000]\n",
      "loss: 0.119438  [57600/60000]\n"
     ]
    },
    {
     "ename": "RuntimeError",
     "evalue": "expected scalar type QUInt8 but found QInt8",
     "output_type": "error",
     "traceback": [
      "\u001b[0;31m---------------------------------------------------------------------------\u001b[0m",
      "\u001b[0;31mRuntimeError\u001b[0m                              Traceback (most recent call last)",
      "Cell \u001b[0;32mIn[34], line 25\u001b[0m\n\u001b[1;32m     23\u001b[0m     quantized_model \u001b[39m=\u001b[39m torch\u001b[39m.\u001b[39mquantization\u001b[39m.\u001b[39mconvert(qat_model\u001b[39m.\u001b[39meval(), inplace\u001b[39m=\u001b[39m\u001b[39mFalse\u001b[39;00m)\n\u001b[1;32m     24\u001b[0m     quantized_model\u001b[39m.\u001b[39meval()\n\u001b[0;32m---> 25\u001b[0m     test(test_dataloader, quantized_model, loss_fn, device\u001b[39m=\u001b[39;49m\u001b[39m'\u001b[39;49m\u001b[39mcpu\u001b[39;49m\u001b[39m'\u001b[39;49m)\n\u001b[1;32m     26\u001b[0m \u001b[39mprint\u001b[39m(\u001b[39m\"\u001b[39m\u001b[39mDone!\u001b[39m\u001b[39m\"\u001b[39m)\n",
      "Cell \u001b[0;32mIn[23], line 31\u001b[0m, in \u001b[0;36mtest\u001b[0;34m(dataloader, model, loss_fn, device)\u001b[0m\n\u001b[1;32m     29\u001b[0m \u001b[39mfor\u001b[39;00m X, y \u001b[39min\u001b[39;00m dataloader:\n\u001b[1;32m     30\u001b[0m     X, y \u001b[39m=\u001b[39m X\u001b[39m.\u001b[39mto(device), y\u001b[39m.\u001b[39mto(device)\n\u001b[0;32m---> 31\u001b[0m     pred \u001b[39m=\u001b[39m model(X)\n\u001b[1;32m     32\u001b[0m     test_loss \u001b[39m+\u001b[39m\u001b[39m=\u001b[39m loss_fn(pred, y)\u001b[39m.\u001b[39mitem()\n\u001b[1;32m     33\u001b[0m     correct \u001b[39m+\u001b[39m\u001b[39m=\u001b[39m (pred\u001b[39m.\u001b[39margmax(\u001b[39m1\u001b[39m) \u001b[39m==\u001b[39m y)\u001b[39m.\u001b[39mtype(torch\u001b[39m.\u001b[39mfloat)\u001b[39m.\u001b[39msum()\u001b[39m.\u001b[39mitem()\n",
      "File \u001b[0;32m~/venv/torch1.9.1/lib/python3.8/site-packages/torch/nn/modules/module.py:1051\u001b[0m, in \u001b[0;36mModule._call_impl\u001b[0;34m(self, *input, **kwargs)\u001b[0m\n\u001b[1;32m   1047\u001b[0m \u001b[39m# If we don't have any hooks, we want to skip the rest of the logic in\u001b[39;00m\n\u001b[1;32m   1048\u001b[0m \u001b[39m# this function, and just call forward.\u001b[39;00m\n\u001b[1;32m   1049\u001b[0m \u001b[39mif\u001b[39;00m \u001b[39mnot\u001b[39;00m (\u001b[39mself\u001b[39m\u001b[39m.\u001b[39m_backward_hooks \u001b[39mor\u001b[39;00m \u001b[39mself\u001b[39m\u001b[39m.\u001b[39m_forward_hooks \u001b[39mor\u001b[39;00m \u001b[39mself\u001b[39m\u001b[39m.\u001b[39m_forward_pre_hooks \u001b[39mor\u001b[39;00m _global_backward_hooks\n\u001b[1;32m   1050\u001b[0m         \u001b[39mor\u001b[39;00m _global_forward_hooks \u001b[39mor\u001b[39;00m _global_forward_pre_hooks):\n\u001b[0;32m-> 1051\u001b[0m     \u001b[39mreturn\u001b[39;00m forward_call(\u001b[39m*\u001b[39;49m\u001b[39minput\u001b[39;49m, \u001b[39m*\u001b[39;49m\u001b[39m*\u001b[39;49mkwargs)\n\u001b[1;32m   1052\u001b[0m \u001b[39m# Do not call functions when jit is used\u001b[39;00m\n\u001b[1;32m   1053\u001b[0m full_backward_hooks, non_full_backward_hooks \u001b[39m=\u001b[39m [], []\n",
      "Cell \u001b[0;32mIn[27], line 33\u001b[0m, in \u001b[0;36mFashionCNNQAT.forward\u001b[0;34m(self, x)\u001b[0m\n\u001b[1;32m     30\u001b[0m \u001b[39mdef\u001b[39;00m \u001b[39mforward\u001b[39m(\u001b[39mself\u001b[39m, x):\n\u001b[1;32m     31\u001b[0m     x \u001b[39m=\u001b[39m \u001b[39mself\u001b[39m\u001b[39m.\u001b[39mquant(x)\n\u001b[0;32m---> 33\u001b[0m     out \u001b[39m=\u001b[39m \u001b[39mself\u001b[39;49m\u001b[39m.\u001b[39;49mlayer1(x)\n\u001b[1;32m     34\u001b[0m     out \u001b[39m=\u001b[39m \u001b[39mself\u001b[39m\u001b[39m.\u001b[39mlayer2(out)\n\u001b[1;32m     35\u001b[0m     \u001b[39m# View avoids explicit data copy\u001b[39;00m\n\u001b[1;32m     36\u001b[0m     \u001b[39m# out = out.view(out.size(0), -1)\u001b[39;00m\n",
      "File \u001b[0;32m~/venv/torch1.9.1/lib/python3.8/site-packages/torch/nn/modules/module.py:1051\u001b[0m, in \u001b[0;36mModule._call_impl\u001b[0;34m(self, *input, **kwargs)\u001b[0m\n\u001b[1;32m   1047\u001b[0m \u001b[39m# If we don't have any hooks, we want to skip the rest of the logic in\u001b[39;00m\n\u001b[1;32m   1048\u001b[0m \u001b[39m# this function, and just call forward.\u001b[39;00m\n\u001b[1;32m   1049\u001b[0m \u001b[39mif\u001b[39;00m \u001b[39mnot\u001b[39;00m (\u001b[39mself\u001b[39m\u001b[39m.\u001b[39m_backward_hooks \u001b[39mor\u001b[39;00m \u001b[39mself\u001b[39m\u001b[39m.\u001b[39m_forward_hooks \u001b[39mor\u001b[39;00m \u001b[39mself\u001b[39m\u001b[39m.\u001b[39m_forward_pre_hooks \u001b[39mor\u001b[39;00m _global_backward_hooks\n\u001b[1;32m   1050\u001b[0m         \u001b[39mor\u001b[39;00m _global_forward_hooks \u001b[39mor\u001b[39;00m _global_forward_pre_hooks):\n\u001b[0;32m-> 1051\u001b[0m     \u001b[39mreturn\u001b[39;00m forward_call(\u001b[39m*\u001b[39;49m\u001b[39minput\u001b[39;49m, \u001b[39m*\u001b[39;49m\u001b[39m*\u001b[39;49mkwargs)\n\u001b[1;32m   1052\u001b[0m \u001b[39m# Do not call functions when jit is used\u001b[39;00m\n\u001b[1;32m   1053\u001b[0m full_backward_hooks, non_full_backward_hooks \u001b[39m=\u001b[39m [], []\n",
      "File \u001b[0;32m~/venv/torch1.9.1/lib/python3.8/site-packages/torch/nn/modules/container.py:139\u001b[0m, in \u001b[0;36mSequential.forward\u001b[0;34m(self, input)\u001b[0m\n\u001b[1;32m    137\u001b[0m \u001b[39mdef\u001b[39;00m \u001b[39mforward\u001b[39m(\u001b[39mself\u001b[39m, \u001b[39minput\u001b[39m):\n\u001b[1;32m    138\u001b[0m     \u001b[39mfor\u001b[39;00m module \u001b[39min\u001b[39;00m \u001b[39mself\u001b[39m:\n\u001b[0;32m--> 139\u001b[0m         \u001b[39minput\u001b[39m \u001b[39m=\u001b[39m module(\u001b[39minput\u001b[39;49m)\n\u001b[1;32m    140\u001b[0m     \u001b[39mreturn\u001b[39;00m \u001b[39minput\u001b[39m\n",
      "File \u001b[0;32m~/venv/torch1.9.1/lib/python3.8/site-packages/torch/nn/modules/module.py:1051\u001b[0m, in \u001b[0;36mModule._call_impl\u001b[0;34m(self, *input, **kwargs)\u001b[0m\n\u001b[1;32m   1047\u001b[0m \u001b[39m# If we don't have any hooks, we want to skip the rest of the logic in\u001b[39;00m\n\u001b[1;32m   1048\u001b[0m \u001b[39m# this function, and just call forward.\u001b[39;00m\n\u001b[1;32m   1049\u001b[0m \u001b[39mif\u001b[39;00m \u001b[39mnot\u001b[39;00m (\u001b[39mself\u001b[39m\u001b[39m.\u001b[39m_backward_hooks \u001b[39mor\u001b[39;00m \u001b[39mself\u001b[39m\u001b[39m.\u001b[39m_forward_hooks \u001b[39mor\u001b[39;00m \u001b[39mself\u001b[39m\u001b[39m.\u001b[39m_forward_pre_hooks \u001b[39mor\u001b[39;00m _global_backward_hooks\n\u001b[1;32m   1050\u001b[0m         \u001b[39mor\u001b[39;00m _global_forward_hooks \u001b[39mor\u001b[39;00m _global_forward_pre_hooks):\n\u001b[0;32m-> 1051\u001b[0m     \u001b[39mreturn\u001b[39;00m forward_call(\u001b[39m*\u001b[39;49m\u001b[39minput\u001b[39;49m, \u001b[39m*\u001b[39;49m\u001b[39m*\u001b[39;49mkwargs)\n\u001b[1;32m   1052\u001b[0m \u001b[39m# Do not call functions when jit is used\u001b[39;00m\n\u001b[1;32m   1053\u001b[0m full_backward_hooks, non_full_backward_hooks \u001b[39m=\u001b[39m [], []\n",
      "File \u001b[0;32m~/venv/torch1.9.1/lib/python3.8/site-packages/torch/nn/intrinsic/quantized/modules/conv_relu.py:85\u001b[0m, in \u001b[0;36mConvReLU2d.forward\u001b[0;34m(self, input)\u001b[0m\n\u001b[1;32m     82\u001b[0m     _reversed_padding_repeated_twice \u001b[39m=\u001b[39m _reverse_repeat_padding(\u001b[39mself\u001b[39m\u001b[39m.\u001b[39mpadding)\n\u001b[1;32m     83\u001b[0m     \u001b[39minput\u001b[39m \u001b[39m=\u001b[39m F\u001b[39m.\u001b[39mpad(\u001b[39minput\u001b[39m, _reversed_padding_repeated_twice,\n\u001b[1;32m     84\u001b[0m                   mode\u001b[39m=\u001b[39m\u001b[39mself\u001b[39m\u001b[39m.\u001b[39mpadding_mode)\n\u001b[0;32m---> 85\u001b[0m \u001b[39mreturn\u001b[39;00m torch\u001b[39m.\u001b[39;49mops\u001b[39m.\u001b[39;49mquantized\u001b[39m.\u001b[39;49mconv2d_relu(\n\u001b[1;32m     86\u001b[0m     \u001b[39minput\u001b[39;49m, \u001b[39mself\u001b[39;49m\u001b[39m.\u001b[39;49m_packed_params, \u001b[39mself\u001b[39;49m\u001b[39m.\u001b[39;49mscale, \u001b[39mself\u001b[39;49m\u001b[39m.\u001b[39;49mzero_point)\n",
      "\u001b[0;31mRuntimeError\u001b[0m: expected scalar type QUInt8 but found QInt8"
     ]
    }
   ],
   "source": [
    "# Define a loss function\n",
    "loss_fn = nn.CrossEntropyLoss()\n",
    "\n",
    "# Define an optimizer, for this model, Adam is better than SGD\n",
    "# optimizer = torch.optim.SGD(model.parameters(), lr=1e-3)\n",
    "optimizer = torch.optim.Adam(qat_model.parameters(), lr=1e-3)\n",
    "\n",
    "epochs = 3\n",
    "for nepoch in range(epochs):\n",
    "    print(f\"Epoch {nepoch}\\n-------------------------------\")\n",
    "    qat_model.to(device)\n",
    "    train(train_dataloader, qat_model, loss_fn, optimizer, device=device)\n",
    "    if nepoch > 1:\n",
    "        # Freeze quantizer parameters\n",
    "        qat_model.apply(torch.quantization.disable_observer)\n",
    "    if nepoch > 0:\n",
    "        # Freeze batch norm mean and variance estimates\n",
    "        qat_model.apply(torch.nn.intrinsic.qat.freeze_bn_stats)\n",
    "\n",
    "    # Check the accuracy after each epoch\n",
    "    # Convert the quantized model first\n",
    "    qat_model.to('cpu')\n",
    "    quantized_model = torch.quantization.convert(qat_model.eval(), inplace=False)\n",
    "    quantized_model.eval()\n",
    "    test(test_dataloader, quantized_model, loss_fn, device='cpu')\n",
    "print(\"Done!\")"
   ]
  },
  {
   "attachments": {},
   "cell_type": "markdown",
   "metadata": {},
   "source": [
    "### 2.5 Saving Models"
   ]
  },
  {
   "cell_type": "code",
   "execution_count": null,
   "metadata": {},
   "outputs": [
    {
     "name": "stdout",
     "output_type": "stream",
     "text": [
      "Saved PyTorch Model to data/fashion_mnist_qat.pth\n"
     ]
    }
   ],
   "source": [
    "# torch.save(model, \"data/fashion_mnist.pth\")\n",
    "torch.save(quantized_model.state_dict(), \"data/fashion_mnist_qat.pth\")\n",
    "print(\"Saved PyTorch Model to data/fashion_mnist_qat.pth\")"
   ]
  },
  {
   "attachments": {},
   "cell_type": "markdown",
   "metadata": {},
   "source": [
    "### 2.6 Save JIT model\n",
    "\n",
    "- Directly export to ONNX won't work."
   ]
  },
  {
   "cell_type": "code",
   "execution_count": null,
   "metadata": {},
   "outputs": [],
   "source": [
    "torch.jit.save(torch.jit.script(quantized_model), \"data/fashion_mnist_jit.pth\")"
   ]
  },
  {
   "attachments": {},
   "cell_type": "markdown",
   "metadata": {},
   "source": [
    "## 3. BST QAT"
   ]
  },
  {
   "attachments": {},
   "cell_type": "markdown",
   "metadata": {},
   "source": [
    "### 3.0 Make sure bstnnx_training package is in the system python path"
   ]
  },
  {
   "cell_type": "code",
   "execution_count": null,
   "metadata": {},
   "outputs": [],
   "source": [
    "# Make sure bstnnx_training is in the system Python path\n",
    "import sys\n",
    "import os\n",
    "\n",
    "sys.path.append(\"/home/hongbing/Projects/bst-study/bstnnx_training\")\n",
    "\n",
    "import bstnnx_training\n",
    "\n",
    "print(bstnnx_training.__version__)"
   ]
  },
  {
   "attachments": {},
   "cell_type": "markdown",
   "metadata": {},
   "source": [
    "### 3.1 Loading data\n",
    "\n",
    "It is the same as training a float model and PyTorch QAT"
   ]
  },
  {
   "attachments": {},
   "cell_type": "markdown",
   "metadata": {},
   "source": [
    "### 3.2 Defining Models\n",
    "\n",
    "It is the same as PyTorch QAT"
   ]
  },
  {
   "attachments": {},
   "cell_type": "markdown",
   "metadata": {},
   "source": [
    "### 3.3 Defining Training and Testing Functions\n",
    "\n",
    "They are teh same as training and testing float models and PyTorch QAT."
   ]
  },
  {
   "attachments": {},
   "cell_type": "markdown",
   "metadata": {},
   "source": [
    "### 3.4 Training and Testing"
   ]
  },
  {
   "attachments": {},
   "cell_type": "markdown",
   "metadata": {},
   "source": [
    "#### 3.4.1 Load pretrained float model\n",
    "\n",
    "It is the same as PyTorch QAT."
   ]
  },
  {
   "cell_type": "code",
   "execution_count": 36,
   "metadata": {},
   "outputs": [
    {
     "name": "stdout",
     "output_type": "stream",
     "text": [
      "FashionCNNQAT(\n",
      "  (layer1): Sequential(\n",
      "    (0): Conv2d(1, 32, kernel_size=(3, 3), stride=(1, 1), padding=(1, 1))\n",
      "    (1): BatchNorm2d(32, eps=1e-05, momentum=0.1, affine=True, track_running_stats=True)\n",
      "    (2): ReLU()\n",
      "    (3): MaxPool2d(kernel_size=2, stride=2, padding=0, dilation=1, ceil_mode=False)\n",
      "  )\n",
      "  (layer2): Sequential(\n",
      "    (0): Conv2d(32, 64, kernel_size=(3, 3), stride=(1, 1))\n",
      "    (1): BatchNorm2d(64, eps=1e-05, momentum=0.1, affine=True, track_running_stats=True)\n",
      "    (2): ReLU()\n",
      "    (3): MaxPool2d(kernel_size=2, stride=2, padding=0, dilation=1, ceil_mode=False)\n",
      "  )\n",
      "  (fc1): Linear(in_features=2304, out_features=600, bias=True)\n",
      "  (drop): Dropout(p=0.25, inplace=False)\n",
      "  (fc2): Linear(in_features=600, out_features=120, bias=True)\n",
      "  (fc3): Linear(in_features=120, out_features=10, bias=True)\n",
      "  (quant): QuantStub()\n",
      "  (dequant): DeQuantStub()\n",
      ")\n"
     ]
    }
   ],
   "source": [
    "# Load pretrained float model\n",
    "bst_model = FashionCNNQAT()\n",
    "state_dict = torch.load(\"data/fashion_mnist.pth\")\n",
    "bst_model.load_state_dict(state_dict)\n",
    "print(bst_model)"
   ]
  },
  {
   "attachments": {},
   "cell_type": "markdown",
   "metadata": {},
   "source": [
    "#### 3.4.2 Fuse Model\n",
    "\n",
    "It is the same as PyTorch QAT."
   ]
  },
  {
   "cell_type": "code",
   "execution_count": 40,
   "metadata": {},
   "outputs": [
    {
     "name": "stdout",
     "output_type": "stream",
     "text": [
      "FashionCNNQAT(\n",
      "  (layer1): Sequential(\n",
      "    (0): ConvReLU2d(\n",
      "      (0): Conv2d(1, 32, kernel_size=(3, 3), stride=(1, 1), padding=(1, 1))\n",
      "      (1): ReLU()\n",
      "    )\n",
      "    (1): Identity()\n",
      "    (2): Identity()\n",
      "    (3): MaxPool2d(kernel_size=2, stride=2, padding=0, dilation=1, ceil_mode=False)\n",
      "  )\n",
      "  (layer2): Sequential(\n",
      "    (0): ConvReLU2d(\n",
      "      (0): Conv2d(32, 64, kernel_size=(3, 3), stride=(1, 1))\n",
      "      (1): ReLU()\n",
      "    )\n",
      "    (1): Identity()\n",
      "    (2): Identity()\n",
      "    (3): MaxPool2d(kernel_size=2, stride=2, padding=0, dilation=1, ceil_mode=False)\n",
      "  )\n",
      "  (fc1): Linear(in_features=2304, out_features=600, bias=True)\n",
      "  (drop): Dropout(p=0.25, inplace=False)\n",
      "  (fc2): Linear(in_features=600, out_features=120, bias=True)\n",
      "  (fc3): Linear(in_features=120, out_features=10, bias=True)\n",
      "  (quant): QuantStub()\n",
      "  (dequant): DeQuantStub()\n",
      ")\n"
     ]
    }
   ],
   "source": [
    "bst_model.eval()\n",
    "bst_model.fuse_model()\n",
    "print(bst_model)"
   ]
  },
  {
   "attachments": {},
   "cell_type": "markdown",
   "metadata": {},
   "source": [
    "- BST also supports auto fuse detection with the replacement of PyTorch's fuse_modules() function\n",
    "- It seems ReLU wasn't fused. Let's ignore this apporach for now"
   ]
  },
  {
   "cell_type": "code",
   "execution_count": 39,
   "metadata": {},
   "outputs": [
    {
     "name": "stdout",
     "output_type": "stream",
     "text": [
      "FashionCNNQAT(\n",
      "  (layer1): Sequential(\n",
      "    (0): Conv2d(1, 32, kernel_size=(3, 3), stride=(1, 1), padding=(1, 1))\n",
      "    (1): Identity()\n",
      "    (2): ReLU()\n",
      "    (3): MaxPool2d(kernel_size=2, stride=2, padding=0, dilation=1, ceil_mode=False)\n",
      "  )\n",
      "  (layer2): Sequential(\n",
      "    (0): Conv2d(32, 64, kernel_size=(3, 3), stride=(1, 1))\n",
      "    (1): Identity()\n",
      "    (2): ReLU()\n",
      "    (3): MaxPool2d(kernel_size=2, stride=2, padding=0, dilation=1, ceil_mode=False)\n",
      "  )\n",
      "  (fc1): Linear(in_features=2304, out_features=600, bias=True)\n",
      "  (drop): Dropout(p=0.25, inplace=False)\n",
      "  (fc2): Linear(in_features=600, out_features=120, bias=True)\n",
      "  (fc3): Linear(in_features=120, out_features=10, bias=True)\n",
      "  (quant): QuantStub()\n",
      "  (dequant): DeQuantStub()\n",
      ")\n"
     ]
    }
   ],
   "source": [
    "from bstnnx_training.PyTorch.QAT.core import fuse_modules\n",
    "\n",
    "x = torch.randn(batch_size, 1, 28, 28, requires_grad=True)\n",
    "fused_model = fuse_modules(bst_model, auto_detect=True, input_tensor=x)\n",
    "print(fused_model)"
   ]
  },
  {
   "attachments": {},
   "cell_type": "markdown",
   "metadata": {},
   "source": [
    "#### 3.4.3 Prepare for BST QAT\n",
    "\n",
    "- We can't use default qconfig, only customerized observers and quatization schemes are supported"
   ]
  },
  {
   "cell_type": "code",
   "execution_count": 41,
   "metadata": {},
   "outputs": [
    {
     "ename": "ModuleNotFoundError",
     "evalue": "No module named 'bstnnx_training.PyTorch.QAT.core.observer.bst_observer'",
     "output_type": "error",
     "traceback": [
      "\u001b[0;31m---------------------------------------------------------------------------\u001b[0m",
      "\u001b[0;31mModuleNotFoundError\u001b[0m                       Traceback (most recent call last)",
      "Cell \u001b[0;32mIn[41], line 1\u001b[0m\n\u001b[0;32m----> 1\u001b[0m \u001b[39mfrom\u001b[39;00m \u001b[39mbstnnx_training\u001b[39;00m\u001b[39m.\u001b[39;00m\u001b[39mPyTorch\u001b[39;00m\u001b[39m.\u001b[39;00m\u001b[39mQAT\u001b[39;00m\u001b[39m.\u001b[39;00m\u001b[39mcore\u001b[39;00m\u001b[39m.\u001b[39;00m\u001b[39mobserver\u001b[39;00m\u001b[39m.\u001b[39;00m\u001b[39mbst_observer\u001b[39;00m \u001b[39mimport\u001b[39;00m BSTObserver\n\u001b[1;32m      2\u001b[0m \u001b[39mfrom\u001b[39;00m \u001b[39mbstnnx_training\u001b[39;00m\u001b[39m.\u001b[39;00m\u001b[39mPyTorch\u001b[39;00m\u001b[39m.\u001b[39;00m\u001b[39mQAT\u001b[39;00m\u001b[39m.\u001b[39;00m\u001b[39mcore\u001b[39;00m\u001b[39m.\u001b[39;00m\u001b[39mfake_quantize\u001b[39;00m \u001b[39mimport\u001b[39;00m FakeQuantize\n\u001b[1;32m      3\u001b[0m \u001b[39mfrom\u001b[39;00m \u001b[39mbstnnx_training\u001b[39;00m\u001b[39m.\u001b[39;00m\u001b[39mPyTorch\u001b[39;00m\u001b[39m.\u001b[39;00m\u001b[39mQAT\u001b[39;00m\u001b[39m.\u001b[39;00m\u001b[39mcore\u001b[39;00m\u001b[39m.\u001b[39;00m\u001b[39mqconfig\u001b[39;00m \u001b[39mimport\u001b[39;00m QConfig\n",
      "\u001b[0;31mModuleNotFoundError\u001b[0m: No module named 'bstnnx_training.PyTorch.QAT.core.observer.bst_observer'"
     ]
    }
   ],
   "source": [
    "from bstnnx_training.PyTorch.QAT.core.observer.observer import BSTObserver\n",
    "from bstnnx_training.PyTorch.QAT.core.fake_quantize import FakeQuantize\n",
    "from bstnnx_training.PyTorch.QAT.core.qconfig import QConfig\n",
    "\n",
    "bst_activation_quant = FakeQuantize.with_args(observer=BSTObserver.with_args(dtype=torch.qint8),\n",
    "                                              quant_min=-128,\n",
    "                                              quant_max=127,\n",
    "                                              dtype=torch.qint8,\n",
    "                                              qscheme=torch.per_tensor_affine,\n",
    "                                              reduce_range=False)\n",
    "bst_weight_quant = FakeQuantize.with_args(observer=BSTObserver.with_args(dtype=torch.qint8),\n",
    "                                          quant_min=-128,\n",
    "                                          quant_max=127,\n",
    "                                          dtype=torch.qint8,\n",
    "                                          qscheme=torch.per_tensor_affine,\n",
    "                                          reduce_range=False)\n",
    "\n",
    "bst_model.qconfig = QConfig(activation=bst_activation_quant, weight=bst_weight_quant)"
   ]
  }
 ],
 "metadata": {
  "kernelspec": {
   "display_name": "torch1.9.1",
   "language": "python",
   "name": "python3"
  },
  "language_info": {
   "codemirror_mode": {
    "name": "ipython",
    "version": 3
   },
   "file_extension": ".py",
   "mimetype": "text/x-python",
   "name": "python",
   "nbconvert_exporter": "python",
   "pygments_lexer": "ipython3",
   "version": "3.8.10"
  },
  "orig_nbformat": 4,
  "vscode": {
   "interpreter": {
    "hash": "29481b19616862e67e4bae0fd078da766e713ba66d65398c80d88a2e079c89da"
   }
  }
 },
 "nbformat": 4,
 "nbformat_minor": 2
}
