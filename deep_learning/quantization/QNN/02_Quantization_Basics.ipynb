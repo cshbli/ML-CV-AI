{
 "cells": [
  {
   "cell_type": "markdown",
   "metadata": {},
   "source": [
    "# Quantized Neural Network \n",
    "## 02- Quantization Basics\n",
    "\n",
    "by [Soon Yau Cheong](http://www.linkedin.com/in/soonyau)\n",
    "\n",
    "\n",
    "Quantization isn't something new, it has been around for many years and have been extensively since the creation of digital electronics. In digital signal processing, quantization usually refers to converting continuous signal e.g. light, sound into discrete digital number. In deep learning, quantization genereally means converting signed single precision floating point (float32) to lower precision number format such as unsigned 8-bit integer (uint8). I wrote a [blog](https://medium.com/@soon_yau/speeding-up-deep-learning-with-quantization-3fe3538cbb9) introducing quantization which I'll summarize here. Although quantization from float32 to uint8 can reduce memory for 4x but it is not mainly to save storage but rather to speed up the inference. This can happen for 2 reasons:\n",
    "- Deep neural networks have a lot of parameters (weights) and loading them from memory can become the bottleneck rather than the actual computation, so is moving the activations back the the main memory\n",
    "- Fixed point computation is usually faster than the floating point counterpart. In some embedded platforms, floating point CPU is simply not available.\n",
    "\n",
    "\n",
    "\n",
    "In this tutorial, we'll learn to quantize a full precision graph into uint8 graph, and also study how the computation works in a quantized network.\n",
    "\n",
    "\n",
    "\n",
    "\n",
    "\n"
   ]
  },
  {
   "cell_type": "code",
   "execution_count": 1,
   "metadata": {},
   "outputs": [
    {
     "name": "stdout",
     "output_type": "stream",
     "text": [
      "Tensorflow 1.10.0\n",
      "Python 3.5.2 (default, Nov 12 2018, 13:43:14) \n",
      "[GCC 5.4.0 20160609]\n"
     ]
    }
   ],
   "source": [
    "import matplotlib.pyplot as plt\n",
    "import sys\n",
    "import numpy as np\n",
    "import tensorflow as tf\n",
    "\n",
    "print(\"Tensorflow\", tf.__version__)\n",
    "print(\"Python\", sys.version)"
   ]
  },
  {
   "cell_type": "markdown",
   "metadata": {},
   "source": [
    "## Converting from float32 into unsigned integer (uint)\n",
    "As mentioned in my blog, the quantization equation is as follow:\n",
    "\\begin{equation}\n",
    "x_{uint8} = \\frac{x_{float}}{x_{scale}} + x_{offset}\n",
    "\\end{equation}\n",
    "\n",
    "In quantization, we want to map the the minimum of float32 to minimum of unsigned integer (0), and the maximum of float32 to maximum of unsigned integer therefeore, the x_scale is the inverse of slope of linear equation.\n",
    "\n",
    "\n",
    "\\begin{equation}\n",
    "x_{scale} = \\frac{max(x_{float}) - min(x_{float})}{2^N-1}\n",
    "\\end{equation}\n",
    "\n",
    "$x_{offset}$ is an uint8 which in fact is quantized value that corresponds to 0 of real value (floating point numbers). N is bitwidth of quantized integer.\n",
    "\n",
    "Dequantization is simply the reverse of the above process to convert from integer back to floating point number.\n",
    "\n",
    "Below are the code to perform quantization and dequantization."
   ]
  },
  {
   "cell_type": "code",
   "execution_count": 2,
   "metadata": {},
   "outputs": [
    {
     "name": "stdout",
     "output_type": "stream",
     "text": [
      "min = -2.398871 \n",
      "max = 2.760502 \n",
      "num_bits = 8 \n",
      "scale = 0.02023283 \n",
      "offset = 119\n"
     ]
    }
   ],
   "source": [
    "# set seed to ensure same random numbers are generated everytime\n",
    "np.random.seed(1515)\n",
    "\n",
    "# generate some random float numbers. By default, the generated numbers are in float64,\n",
    "# we cast it into float32. It is important to set the data type explicitly to make sure\n",
    "# correct arithmetic operation are used\n",
    "x = (1*np.random.randn(9,9)).astype(np.float32)\n",
    "\n",
    "def sat_uint(x, num_bits=8):\n",
    "    return np.uint8(np.clip(np.round(x), 0, 2**num_bits-1))\n",
    "    \n",
    "def quantize(x_float, num_bits=8, print_debug=False):\n",
    "    # calculate scale\n",
    "    x_min = np.min(x)\n",
    "    x_max = np.max(x)\n",
    "    x_range = x_max - x_min\n",
    "\n",
    "    quant_min = 0    \n",
    "    quant_max = 2**num_bits - 1\n",
    "\n",
    "    x_scale = (x_max - x_min)/(quant_max - quant_min)\n",
    "    \n",
    "    # calculate offset\n",
    "    x_offset = sat_uint(quant_max - x_max/x_scale, num_bits)\n",
    "    \n",
    "    # quantize\n",
    "    x_quant = x_float/x_scale + x_offset\n",
    "\n",
    "    if print_debug:\n",
    "        print(\"min = %f \\nmax = %f \\nnum_bits = %d \\nscale = %.8f \\noffset = %d\"\\\n",
    "              %(x_min, x_max, num_bits, x_scale, x_offset))\n",
    "    return sat_uint(x_quant, num_bits), x_scale, x_offset\n",
    "\n",
    "def dequantize(x_quant, x_scale, x_offset):\n",
    "    \n",
    "    x_quant = x_quant.astype(np.float32)\n",
    "    \n",
    "    x_dequant = (x_quant - x_offset) * x_scale\n",
    "    \n",
    "    return x_dequant\n",
    "\n",
    "\n",
    "x_quant, x_scale, x_offset = quantize(x, 8, True)\n",
    "\n",
    "x_dequant = dequantize(x_quant, x_scale, x_offset)\n"
   ]
  },
  {
   "cell_type": "markdown",
   "metadata": {},
   "source": [
    "If we plot the original floating point (x-axis) against quantized integer (y-axis) we can see that it is merely a linear mapping where the offset is quantized value that represent real-value of zero. "
   ]
  },
  {
   "cell_type": "code",
   "execution_count": 3,
   "metadata": {},
   "outputs": [
    {
     "data": {
      "image/png": "[encoded data removed]",
      "text/plain": [
       "<Figure size 432x288 with 1 Axes>"
      ]
     },
     "metadata": {
      "needs_background": "light"
     },
     "output_type": "display_data"
    }
   ],
   "source": [
    "fig, ax = plt.subplots()\n",
    "ax.plot(x, x_quant, marker='+',color='b')\n",
    "ax.set_xlabel(\"floating point\")\n",
    "ax.set_ylabel(\"quantized integer\")\n",
    "ax.axhline(y=0, color='k')\n",
    "ax.axvline(x=0, color='k')\n",
    "ax.grid(True)"
   ]
  },
  {
   "cell_type": "markdown",
   "metadata": {},
   "source": [
    "##  tf.fake_quant_with_min_max_args \n",
    "\n",
    "In fact, the quantize-dequantize cycle we have implemented is exactly tf.fake_quant_with_min_max_args is doing."
   ]
  },
  {
   "cell_type": "code",
   "execution_count": 3,
   "metadata": {},
   "outputs": [],
   "source": [
    "inputs = tf.placeholder(tf.float32)\n",
    "fake_quantized_x = tf.fake_quant_with_min_max_args(inputs, np.min(x), np.max(x), num_bits=8)\n",
    "with tf.Session() as sess:\n",
    "    sess.run(tf.global_variables_initializer())\n",
    "    fake_x = sess.run(fake_quantized_x, feed_dict={inputs:x})\n",
    "\n",
    "np.testing.assert_array_almost_equal(fake_x, x_dequant)"
   ]
  },
  {
   "cell_type": "markdown",
   "metadata": {},
   "source": [
    "## Offset\n",
    "\n",
    "It is worth mentioning why offset is rounded and cast to unsigned integer rather than leaving it as float. Let's use an example. If the floating numbers range is +-1.0, then \n",
    "\n",
    "\\begin{equation}\n",
    "x_{scale} = \\frac{2}{255},  x_{offset} = 127.5\n",
    "\\end{equation}\n",
    "and therefore\n",
    "\\begin{equation}\n",
    "x_{uint8} = round(127.5) = 128 \n",
    "\\end{equation}\n",
    "as the number will need to be cast into integer. Remember, decimal point is exclusive to floating point and don't exist in integer representation. \n",
    "\n",
    "Now if we de-quantize it\n",
    "\n",
    "\\begin{equation}\n",
    "x_{dequant} = (x_{quant} - x_{offset}) \\times x_{scale}\n",
    "\\end{equation}\n",
    "\\begin{equation}\n",
    "x_{dequant} = (128 - 127.5) \\times \\frac{2}{255}\n",
    "\\end{equation}\n",
    "\\begin{equation}\n",
    "x_{dequant} = 0.003921569\n",
    "\\end{equation}\n",
    "\n",
    "and the dequantized value is no longer 0. As 0 happens a lot in weights, activation and also used frequently as padding, we want to represent it precisely at the expense of moving the quantization error to other values."
   ]
  },
  {
   "cell_type": "markdown",
   "metadata": {},
   "source": [
    "## Quantization Loss\n",
    "\n",
    "As shown earlier, rounding can create discrepancy in dequantized offset. Some information will be lost after quantization, we compare the error between the original and dequantized values and plot them on a graph and we can see that they are in fact non-zero despite not too big either. The error magnitude depends on the real values' range, distribution and quantization bit numbers. "
   ]
  },
  {
   "cell_type": "code",
   "execution_count": 4,
   "metadata": {},
   "outputs": [
    {
     "name": "stdout",
     "output_type": "stream",
     "text": [
      "error -0.010020614 0.009811968\n"
     ]
    },
    {
     "data": {
      "text/plain": [
       "Text(0, 0.5, 'quantization error')"
      ]
     },
     "execution_count": 4,
     "metadata": {},
     "output_type": "execute_result"
    },
    {
     "data": {
      "image/png": "[encoded data removed]",
      "text/plain": [
       "<Figure size 432x288 with 1 Axes>"
      ]
     },
     "metadata": {
      "needs_background": "light"
     },
     "output_type": "display_data"
    }
   ],
   "source": [
    "error = np.reshape(x-x_dequant, (-1))\n",
    "print(\"error\", np.min(error), np.max(error))\n",
    "fig, ax = plt.subplots()\n",
    "ax.scatter(x, error)\n",
    "ax.set_ylim([1.2*min(error), 1.2*max(error)])\n",
    "ax.set_xlabel(\"real value\")\n",
    "ax.set_ylabel(\"quantization error\")"
   ]
  },
  {
   "cell_type": "markdown",
   "metadata": {},
   "source": [
    "The error magnitude depends on the real values' range, distribution and quantization bit numbers. Since we don't realy control over the neural network's input and weight distribution, we'll examine the impact of quantization bitwidth on the error. As shown in the graph below, the error increase almost exponentially as the bitwidth decreases."
   ]
  },
  {
   "cell_type": "code",
   "execution_count": 5,
   "metadata": {},
   "outputs": [
    {
     "data": {
      "text/plain": [
       "Text(0.5, 0, 'bitwidth')"
      ]
     },
     "execution_count": 5,
     "metadata": {},
     "output_type": "execute_result"
    },
    {
     "data": {
      "image/png": "[encoded data removed]",
      "text/plain": [
       "<Figure size 432x288 with 1 Axes>"
      ]
     },
     "metadata": {
      "needs_background": "light"
     },
     "output_type": "display_data"
    }
   ],
   "source": [
    "bitwidths = [i for i in range(2,9)]\n",
    "bit_errors = []\n",
    "\n",
    "for num_bits in bitwidths:\n",
    "\n",
    "    x_quant, x_scale, x_offset = quantize(x, num_bits)\n",
    "\n",
    "    x_dequant = dequantize(x_quant, x_scale, x_offset)\n",
    "\n",
    "    error = np.reshape(x-x_dequant, (-1))\n",
    "\n",
    "    abs_error = np.mean(np.abs(error))\n",
    "\n",
    "    bit_errors.append(abs_error)\n",
    "\n",
    "\n",
    "fig, ax = plt.subplots()\n",
    "ax.plot(bitwidths, bit_errors, marker=\"o\")\n",
    "ax.set_ylabel(\"absolute mean error\", fontsize=15)\n",
    "ax.set_xlabel(\"bitwidth\", fontsize=15)"
   ]
  },
  {
   "cell_type": "markdown",
   "metadata": {},
   "source": [
    "# What's Next?"
   ]
  },
  {
   "cell_type": "markdown",
   "metadata": {},
   "source": [
    "In this tutoral, we have learn the basics of quantization, de-quantization and quantization loss (error). Next we will apply this new learned knowledge to perform actual computation in neural network and explore optimization methods to reduce computational efforts."
   ]
  }
 ],
 "metadata": {
  "kernelspec": {
   "display_name": "Python 3",
   "language": "python",
   "name": "python3"
  },
  "language_info": {
   "codemirror_mode": {
    "name": "ipython",
    "version": 3
   },
   "file_extension": ".py",
   "mimetype": "text/x-python",
   "name": "python",
   "nbconvert_exporter": "python",
   "pygments_lexer": "ipython3",
   "version": "3.5.2"
  }
 },
 "nbformat": 4,
 "nbformat_minor": 2
}
