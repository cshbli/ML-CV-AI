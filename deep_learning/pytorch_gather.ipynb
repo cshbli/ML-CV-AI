{
 "cells": [
  {
   "cell_type": "code",
   "execution_count": 3,
   "metadata": {},
   "outputs": [],
   "source": [
    "import numpy as np\n",
    "import torch"
   ]
  },
  {
   "cell_type": "code",
   "execution_count": 13,
   "metadata": {},
   "outputs": [
    {
     "name": "stdout",
     "output_type": "stream",
     "text": [
      "torch.Size([4, 1])\n",
      "\n",
      "Computed output probabilities: \n",
      "tensor([[0.1000, 0.5000, 0.4000],\n",
      "        [0.5500, 0.2000, 0.2500],\n",
      "        [0.6000, 0.1000, 0.3000],\n",
      "        [0.1500, 0.6500, 0.2000]])\n",
      "\n",
      "Targets: \n",
      "tensor([[1],\n",
      "        [2],\n",
      "        [0],\n",
      "        [1]])\n",
      "\n",
      "Extracted output probabilities: \n",
      "tensor([[0.5000],\n",
      "        [0.2500],\n",
      "        [0.6000],\n",
      "        [0.6500]])\n"
     ]
    }
   ],
   "source": [
    "softs = torch.tensor(       # shape [4,3]\n",
    "  [[0.10, 0.50, 0.40],  # correct\n",
    "   [0.55, 0.20, 0.25],  # wrong\n",
    "   [0.60, 0.10, 0.30],  # correct\n",
    "   [0.15, 0.65, 0.20]], # correct\n",
    "   dtype=torch.float32)\n",
    "\n",
    "targets = torch.tensor([1, 2, 0, 1], dtype=torch.int64)\n",
    "targets = targets.reshape(4,1)  # to match softs\n",
    "print(targets.shape)\n",
    "\n",
    "probs = softs.gather(dim=1, index=targets)\n",
    "# dim=1 means \"collapse on cols; leaving all rows, 1 col\"\n",
    "\n",
    "print(\"\\nComputed output probabilities: \")\n",
    "print(softs)\n",
    "\n",
    "print(\"\\nTargets: \")\n",
    "print(targets)\n",
    "\n",
    "print(\"\\nExtracted output probabilities: \")\n",
    "print(probs)"
   ]
  }
 ],
 "metadata": {
  "interpreter": {
   "hash": "e686136a802b04d5d745fa3021231aa30c0524d4330580a5b1546ac5b3b8ddd0"
  },
  "kernelspec": {
   "display_name": "Python 3.6.9 64-bit ('torch1.8.1': venv)",
   "language": "python",
   "name": "python3"
  },
  "language_info": {
   "codemirror_mode": {
    "name": "ipython",
    "version": 3
   },
   "file_extension": ".py",
   "mimetype": "text/x-python",
   "name": "python",
   "nbconvert_exporter": "python",
   "pygments_lexer": "ipython3",
   "version": "3.6.9"
  },
  "orig_nbformat": 4
 },
 "nbformat": 4,
 "nbformat_minor": 2
}
