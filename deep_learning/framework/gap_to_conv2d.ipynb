{
  "cells": [
    {
      "cell_type": "markdown",
      "metadata": {},
      "source": [
        "# Converting Global Average Pooling with Conv2D "
      ]
    },
    {
      "cell_type": "markdown",
      "metadata": {},
      "source": [
        "Assume we have a 7x7x2048 Global Average Pooling layer"
      ]
    },
    {
      "cell_type": "code",
      "execution_count": 2,
      "metadata": {},
      "outputs": [
        {
          "output_type": "stream",
          "name": "stdout",
          "text": "[0.52651023 0.50604807 0.55947326 ... 0.48830423 0.50766945 0.57123599]\n"
        }
      ],
      "source": [
        "import tensorflow as tf\n",
        "import numpy as np\n",
        "\n",
        "channels = 2048\n",
        "\n",
        "np.random.seed(0)\n",
        "\n",
        "# Do global average pooling on original input [1, 7, 7, 2048]\n",
        "x = np.random.rand(1, 7, 7, channels)\n",
        "y = tf.reduce_mean(x, [1, 2])\n",
        "\n",
        "sess = tf.Session()\n",
        "result = sess.run(y)\n",
        "print(result[0])"
      ]
    },
    {
      "cell_type": "markdown",
      "metadata": {},
      "source": [
        "Now we change the input shape to (1, 7, 7*2048, 1), with same values. Do Conv2D with kernel size 7x7, and 7x7 stride."
      ]
    },
    {
      "cell_type": "code",
      "execution_count": 3,
      "metadata": {},
      "outputs": [
        {
          "output_type": "stream",
          "name": "stdout",
          "text": "(1, 1, 2048, 1)\n[[0.52651023]\n [0.50604807]\n [0.55947326]\n ...\n [0.48830423]\n [0.50766945]\n [0.57123599]]\n"
        }
      ],
      "source": [
        "# Change the input shape to [1, 7, 7*2048, 1]\n",
        "x1 = x[0,:,:,0]     # x1 is one 7x7 block\n",
        "for i in range(channels - 1):\n",
        "    c = x[0,:,:,i+1]\n",
        "    x1 = np.concatenate((x1, c), axis = 1)\n",
        "x1 = np.expand_dims(x1, axis=0)\n",
        "x1 = np.expand_dims(x1, axis=3)\n",
        "\n",
        "# Do Conv2D with the kernel 7x7, only 49 weight values\n",
        "x1.astype(np.float64)\n",
        "weight = tf.constant(1/49, dtype= tf.float64, shape=[7, 7, 1, 1])\n",
        "y1 = tf.nn.conv2d(x1, weight, strides=[1, 7, 7, 1], padding=\"SAME\")\n",
        "result1 = sess.run(y1)\n",
        "# The output shape will be [1, 1, 2048, 1]\n",
        "print(result1.shape)\n",
        "print(result1[0][0])"
      ]
    },
    {
      "cell_type": "markdown",
      "metadata": {},
      "source": [
        "We also can change the input shape to (1, 7, 7*2048, 1), with same values. Do Conv2D with kernel size 7x7, and 7x7 stride."
      ]
    },
    {
      "cell_type": "code",
      "execution_count": 4,
      "metadata": {},
      "outputs": [
        {
          "output_type": "stream",
          "name": "stdout",
          "text": "(1, 32, 64, 1)\n[[[0.52651023]\n  [0.50604807]\n  [0.55947326]\n  ...\n  [0.464508  ]\n  [0.55680147]\n  [0.51883233]]\n\n [[0.49973485]\n  [0.44957469]\n  [0.48977406]\n  ...\n  [0.51780293]\n  [0.51713493]\n  [0.47490661]]\n\n [[0.51364109]\n  [0.48630166]\n  [0.57671334]\n  ...\n  [0.498413  ]\n  [0.5262286 ]\n  [0.44370407]]\n\n ...\n\n [[0.43806726]\n  [0.49145844]\n  [0.57589647]\n  ...\n  [0.47006676]\n  [0.50196307]\n  [0.49586887]]\n\n [[0.52808936]\n  [0.52540024]\n  [0.52213519]\n  ...\n  [0.52144035]\n  [0.53663159]\n  [0.54282295]]\n\n [[0.49927499]\n  [0.47617169]\n  [0.50284203]\n  ...\n  [0.48830423]\n  [0.50766945]\n  [0.57123599]]]\n"
        }
      ],
      "source": [
        "# Change the input shape to [1, 7*32, 7*64, 1]\n",
        "h_blocks = 32\n",
        "w_blocks = 64\n",
        "for row in range(h_blocks):    \n",
        "    row_block = x[0,:,:,row*w_blocks]     # initial row_block is 7x7 \n",
        "    for col in range(w_blocks - 1):\n",
        "        # block is a 7x7 block        \n",
        "        block = x[0, :, :, row * w_blocks + col + 1] \n",
        "        # each row block will be [7, 7x64] eventually\n",
        "        row_block = np.concatenate((row_block, block), axis = 1) \n",
        "\n",
        "    if row==0:\n",
        "        # The first row        \n",
        "        x2 = row_block        \n",
        "    else:\n",
        "        x2 = np.concatenate((x2, row_block), axis = 0)\n",
        "x2 = np.expand_dims(x2, axis=0)\n",
        "x2 = np.expand_dims(x2, axis=3)\n",
        "\n",
        "# Do Conv2D with the kernel 7x7, only 49 weight values\n",
        "x2.astype(np.float64)\n",
        "weight = tf.constant(1/49, dtype= tf.float64, shape=[7, 7, 1, 1])\n",
        "y2 = tf.nn.conv2d(x2, weight, strides=[1, 7, 7, 1], padding=\"SAME\")\n",
        "result2 = sess.run(y2)\n",
        "# The output shape will be [1, 32, 64, 1]\n",
        "print(result2.shape)\n",
        "print(result2[0])"
      ]
    }
  ],
  "metadata": {
    "kernelspec": {
      "display_name": "Python 3.6.9 64-bit",
      "language": "python",
      "name": "python36964bit1a2afcd672a44777b9da60a5b403e304"
    },
    "language_info": {
      "codemirror_mode": {
        "name": "ipython",
        "version": 3
      },
      "file_extension": ".py",
      "mimetype": "text/x-python",
      "name": "python",
      "nbconvert_exporter": "python",
      "pygments_lexer": "ipython3",
      "version": "3.6.9-final"
    }
  },
  "nbformat": 4,
  "nbformat_minor": 0
}