{
 "cells": [
  {
   "attachments": {},
   "cell_type": "markdown",
   "metadata": {},
   "source": [
    "# nn.Parameter\n",
    "\n",
    "Each `nn.Module` has a `parameters()` function which returns, well, it's trainable parameters. "
   ]
  },
  {
   "cell_type": "code",
   "execution_count": 2,
   "metadata": {},
   "outputs": [
    {
     "name": "stdout",
     "output_type": "stream",
     "text": [
      "[Parameter containing:\n",
      "tensor([[ 1.7328e-01, -2.3576e-01, -2.2630e-01,  4.4366e-02, -3.0547e-01,\n",
      "         -5.6962e-02,  4.8035e-02,  3.2446e-02, -2.6323e-01,  2.9655e-01],\n",
      "        [-2.1334e-01, -1.0755e-04, -2.5302e-01, -3.1503e-01, -1.1239e-01,\n",
      "          2.1915e-01, -3.6488e-02,  3.0909e-01, -2.6542e-01, -1.7411e-01],\n",
      "        [-2.8790e-01, -3.0210e-01, -1.6955e-01,  8.3471e-02,  1.1598e-01,\n",
      "         -7.6165e-02,  6.9090e-02,  1.6730e-03, -2.6313e-01,  7.6884e-02],\n",
      "        [-3.9032e-04, -1.5807e-01,  2.1170e-01,  1.7612e-01, -1.8223e-01,\n",
      "         -4.8697e-02,  1.3193e-01,  2.2656e-02,  1.3206e-01, -1.8413e-01],\n",
      "        [-2.8552e-01,  2.1795e-02, -2.7118e-02, -3.1052e-01, -3.0267e-01,\n",
      "          2.9522e-01, -3.3172e-02, -1.5031e-01, -1.6487e-01,  2.5448e-02]],\n",
      "       requires_grad=True), Parameter containing:\n",
      "tensor([ 0.1376,  0.1762, -0.1358, -0.1205,  0.2511], requires_grad=True)]\n"
     ]
    }
   ],
   "source": [
    "import torch\n",
    "import torch.nn as nn\n",
    "\n",
    "class MyNet(nn.Module):\n",
    "  def __init__(self):\n",
    "    super().__init__()\n",
    "    self.conv = nn.Linear(10,5)\n",
    "    \n",
    "  def forward(self, x):\n",
    "    return self.linear(x)\n",
    "\n",
    "\n",
    "myNet = MyNet()\n",
    "print(list(myNet.parameters()))"
   ]
  },
  {
   "attachments": {},
   "cell_type": "markdown",
   "metadata": {},
   "source": [
    "If you try to assign a tensor to the `nn.Module` object, it won't show up in the `parameters()` unless you define it as nn.Parameter object. "
   ]
  },
  {
   "cell_type": "code",
   "execution_count": 3,
   "metadata": {},
   "outputs": [
    {
     "name": "stdout",
     "output_type": "stream",
     "text": [
      "[Parameter containing:\n",
      "tensor([[ 0.0524, -0.2275, -0.1358, -0.2354,  0.0169, -0.1725, -0.1389,  0.2403,\n",
      "         -0.0853,  0.1450],\n",
      "        [-0.1415,  0.1928,  0.2993,  0.0393, -0.1505,  0.0296,  0.2885, -0.2048,\n",
      "          0.2014,  0.1587],\n",
      "        [-0.0658, -0.0802,  0.0926,  0.1577, -0.0395, -0.0614, -0.1858, -0.2114,\n",
      "          0.1796,  0.1703],\n",
      "        [ 0.0603,  0.1483, -0.1254,  0.2032, -0.1857, -0.1582, -0.1111,  0.1859,\n",
      "          0.0086,  0.2716],\n",
      "        [-0.0052, -0.1230, -0.2413,  0.2933,  0.0650,  0.2763,  0.1835, -0.0740,\n",
      "          0.1936, -0.1523]], requires_grad=True), Parameter containing:\n",
      "tensor([-0.1712,  0.2123,  0.1667, -0.1559,  0.2988], requires_grad=True)]\n"
     ]
    }
   ],
   "source": [
    "import torch\n",
    "import torch.nn as nn\n",
    "\n",
    "class MyNet1(nn.Module):\n",
    "  def __init__(self):\n",
    "    super().__init__()\n",
    "    self.conv = nn.Linear(10,5)\n",
    "    self.tens = torch.ones(3, 4)\n",
    "    \n",
    "  def forward(self, x):\n",
    "    return self.linear(x)\n",
    "\n",
    "\n",
    "myNet = MyNet1()\n",
    "print(list(myNet.parameters()))"
   ]
  },
  {
   "cell_type": "code",
   "execution_count": 5,
   "metadata": {},
   "outputs": [
    {
     "name": "stdout",
     "output_type": "stream",
     "text": [
      "[Parameter containing:\n",
      "tensor([[1., 1., 1., 1.],\n",
      "        [1., 1., 1., 1.],\n",
      "        [1., 1., 1., 1.]], requires_grad=True), Parameter containing:\n",
      "tensor([[ 0.0874,  0.1637, -0.2734, -0.0602,  0.2739, -0.1190,  0.0770, -0.0888,\n",
      "          0.1501, -0.1993],\n",
      "        [-0.0043, -0.1117,  0.0302, -0.0467, -0.2108, -0.2999,  0.0971,  0.1101,\n",
      "          0.3057, -0.1059],\n",
      "        [-0.0603, -0.0845,  0.3041, -0.0814, -0.0400, -0.1872,  0.0589,  0.2009,\n",
      "          0.1563, -0.0888],\n",
      "        [ 0.0655, -0.2250,  0.1648, -0.1112,  0.0146,  0.1086, -0.0104, -0.2182,\n",
      "         -0.2391, -0.2423],\n",
      "        [-0.2911, -0.0097, -0.3097,  0.0353, -0.0232, -0.1039, -0.1356,  0.2876,\n",
      "         -0.2709,  0.0236]], requires_grad=True), Parameter containing:\n",
      "tensor([ 0.1846,  0.1007, -0.0670,  0.2046,  0.2345], requires_grad=True)]\n"
     ]
    }
   ],
   "source": [
    "import torch\n",
    "import torch.nn as nn\n",
    "\n",
    "class MyNet2(nn.Module):\n",
    "  def __init__(self):\n",
    "    super().__init__()\n",
    "    self.conv = nn.Linear(10,5)\n",
    "    self.tens = nn.Parameter(torch.ones(3, 4))\n",
    "    \n",
    "  def forward(self, x):\n",
    "    return self.linear(x)\n",
    "\n",
    "\n",
    "myNet = MyNet2()\n",
    "print(list(myNet.parameters()))"
   ]
  },
  {
   "cell_type": "code",
   "execution_count": 7,
   "metadata": {},
   "outputs": [
    {
     "name": "stdout",
     "output_type": "stream",
     "text": [
      "[Parameter containing:\n",
      "tensor([[-0.1408, -0.2268,  0.0735,  0.2179, -0.0144, -0.1694,  0.0973,  0.0340,\n",
      "         -0.0937,  0.1854],\n",
      "        [-0.1411,  0.3036, -0.1665,  0.1898, -0.1164, -0.1879, -0.1829, -0.2922,\n",
      "          0.2521,  0.2338],\n",
      "        [ 0.3066, -0.1086,  0.0779, -0.2126, -0.1165,  0.0632, -0.0601,  0.2106,\n",
      "         -0.1993, -0.2691],\n",
      "        [ 0.0235,  0.0087, -0.0966, -0.1650,  0.0613,  0.1027,  0.0819,  0.2495,\n",
      "          0.3090,  0.0840],\n",
      "        [-0.2605, -0.3033,  0.1046, -0.2619,  0.1146,  0.1011, -0.1960,  0.2169,\n",
      "         -0.0398,  0.0793]], requires_grad=True), Parameter containing:\n",
      "tensor([-0.0721, -0.0709,  0.2479,  0.0975, -0.2012], requires_grad=True), Parameter containing:\n",
      "tensor([[1., 1., 1., 1.],\n",
      "        [1., 1., 1., 1.],\n",
      "        [1., 1., 1., 1.]], requires_grad=True), Parameter containing:\n",
      "tensor([[-0.1084,  0.1117, -0.2416, -0.0555,  0.1341,  0.0020, -0.2061, -0.0143,\n",
      "          0.2148, -0.2800],\n",
      "        [-0.1246,  0.2321,  0.2819, -0.1580,  0.0945,  0.2069, -0.1264, -0.0682,\n",
      "         -0.0548, -0.0060],\n",
      "        [ 0.1097,  0.0646, -0.1942, -0.2070,  0.1405,  0.0048,  0.0090, -0.2737,\n",
      "         -0.1445, -0.1013],\n",
      "        [ 0.1150,  0.0617,  0.0519, -0.1928, -0.1839, -0.3119, -0.0431, -0.2658,\n",
      "         -0.1171,  0.0925],\n",
      "        [ 0.2400, -0.2546,  0.1004,  0.1912, -0.0219, -0.0286,  0.0451, -0.1636,\n",
      "          0.0292, -0.0622]], requires_grad=True), Parameter containing:\n",
      "tensor([ 0.1434, -0.0502, -0.1781,  0.1858,  0.1985], requires_grad=True)]\n"
     ]
    }
   ],
   "source": [
    "import torch\n",
    "import torch.nn as nn\n",
    "\n",
    "class MyNet3(nn.Module):\n",
    "  def __init__(self):\n",
    "    super().__init__()\n",
    "    self.conv = nn.Linear(10,5)\n",
    "    self.net = MyNet2()\n",
    "    \n",
    "  def forward(self, x):\n",
    "    return self.linear(x)\n",
    "\n",
    "\n",
    "myNet = MyNet3()\n",
    "print(list(myNet.parameters()))"
   ]
  }
 ],
 "metadata": {
  "kernelspec": {
   "display_name": "torch1.13.0",
   "language": "python",
   "name": "python3"
  },
  "language_info": {
   "codemirror_mode": {
    "name": "ipython",
    "version": 3
   },
   "file_extension": ".py",
   "mimetype": "text/x-python",
   "name": "python",
   "nbconvert_exporter": "python",
   "pygments_lexer": "ipython3",
   "version": "3.8.10"
  },
  "orig_nbformat": 4,
  "vscode": {
   "interpreter": {
    "hash": "42be7b6d852b9b2b1a0308f8b9cc6db97febf6d6b1b2a588c6bfd7d771418521"
   }
  }
 },
 "nbformat": 4,
 "nbformat_minor": 2
}
