{
 "cells": [
  {
   "cell_type": "code",
   "execution_count": 1,
   "metadata": {},
   "outputs": [],
   "source": [
    "import numpy as np"
   ]
  },
  {
   "cell_type": "code",
   "execution_count": 3,
   "metadata": {},
   "outputs": [
    {
     "name": "stdout",
     "output_type": "stream",
     "text": [
      "[[ 1  2  3]\n",
      " [ 4  5  6]\n",
      " [ 7  8  9]\n",
      " [50 51 52]]\n"
     ]
    }
   ],
   "source": [
    "# We create a 2D array of shape 4x3\n",
    "arr = np.array([[1, 2, 3], [4, 5, 6], [7, 8, 9], [50, 51, 52]]) \n",
    "print(arr)"
   ]
  },
  {
   "cell_type": "code",
   "execution_count": 4,
   "metadata": {},
   "outputs": [
    {
     "name": "stdout",
     "output_type": "stream",
     "text": [
      "Values at position 2 and 7 are:  [3 8]\n"
     ]
    }
   ],
   "source": [
    "# Take values without mentioning axis\n",
    "indices = [2, 7]\n",
    "print(\"Values at position 2 and 7 are: \", np.take(arr, indices))"
   ]
  },
  {
   "cell_type": "code",
   "execution_count": 5,
   "metadata": {},
   "outputs": [
    {
     "name": "stdout",
     "output_type": "stream",
     "text": [
      "Values at position 0 and 2 are: \n",
      " [[ 1  3]\n",
      " [ 4  6]\n",
      " [ 7  9]\n",
      " [50 52]]\n"
     ]
    }
   ],
   "source": [
    "# Take values with axis\n",
    "indices = [0, 2]\n",
    "print(\"Values at position 0 and 2 are: \\n\", np.take(arr, indices, axis=1))"
   ]
  },
  {
   "cell_type": "code",
   "execution_count": 6,
   "metadata": {},
   "outputs": [
    {
     "name": "stdout",
     "output_type": "stream",
     "text": [
      "Values at position 0 and 2 are: \n",
      " [[1 2 3]\n",
      " [7 8 9]]\n"
     ]
    }
   ],
   "source": [
    "# Take values with axis\n",
    "indices = [0, 2]\n",
    "print(\"Values at position 0 and 2 are: \\n\", np.take(arr, indices, axis=0))"
   ]
  }
 ],
 "metadata": {
  "interpreter": {
   "hash": "e686136a802b04d5d745fa3021231aa30c0524d4330580a5b1546ac5b3b8ddd0"
  },
  "kernelspec": {
   "display_name": "Python 3.6.9 64-bit ('torch1.8.1': venv)",
   "language": "python",
   "name": "python3"
  },
  "language_info": {
   "codemirror_mode": {
    "name": "ipython",
    "version": 3
   },
   "file_extension": ".py",
   "mimetype": "text/x-python",
   "name": "python",
   "nbconvert_exporter": "python",
   "pygments_lexer": "ipython3",
   "version": "3.6.9"
  },
  "orig_nbformat": 4
 },
 "nbformat": 4,
 "nbformat_minor": 2
}
