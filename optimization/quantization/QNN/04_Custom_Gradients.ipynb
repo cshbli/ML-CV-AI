{
 "cells": [
  {
   "cell_type": "markdown",
   "metadata": {},
   "source": [
    "# Quantized Neural Network\n",
    "## 04- Custom Gradients\n",
    "by [Soon Yau Cheong](http://www.linkedin.com/in/soonyau)\n",
    "\n",
    "In last tutorial, we learned about how to quantize a Tensorflow graph and add operations for quantization aware training. Before going to do a training, in this tutorial we'll study the uniquness of gradients in quantized network and learn a new kind of gradient for backpropagation."
   ]
  },
  {
   "cell_type": "code",
   "execution_count": 3,
   "metadata": {},
   "outputs": [
    {
     "name": "stdout",
     "output_type": "stream",
     "text": [
      "Tensorflow 1.10.0\n",
      "Python 3.5.2 (default, Nov 12 2018, 13:43:14) \n",
      "[GCC 5.4.0 20160609]\n"
     ]
    }
   ],
   "source": [
    "import os\n",
    "import sys\n",
    "import numpy as np\n",
    "import tensorflow as tf\n",
    "import time\n",
    "import matplotlib.pyplot as plt\n",
    "\n",
    "import utils\n",
    "\n",
    "print(\"Tensorflow\", tf.__version__)\n",
    "print(\"Python\", sys.version)"
   ]
  },
  {
   "cell_type": "markdown",
   "metadata": {},
   "source": [
    "## Vanishing and Exploding Gradients\n",
    "We are almost ready to actually start training quantized network and there is only one more thing to mention - the gradient. In fact any discussion on QNN will not complete without mentioning the fancy word Straight Through Estimator (STE).\n",
    "\n",
    "I assume  you are familiar with backpropagation and gradient descent. In the training, the gradients of network output error is traversed backward to the parameters. For that to works, the functions have to be differentiable i.e. its derivative exists but this is not the case for quantization. As shown below, the quantization plot looks like a staircase with discrete steps. For region where the function is a horizontal line which is almost everywhere, the gradient is 0. As a result, any error backprop to here will become zero (anything multiply by zero is zero) and therefore the weights don't receive gradient for update in the training. On the other hand, at the vertical line where the step happens, the gradient is infinity. "
   ]
  },
  {
   "cell_type": "code",
   "execution_count": 4,
   "metadata": {},
   "outputs": [
    {
     "data": {
      "image/png": "[encoded data removed]",
      "text/plain": [
       "<Figure size 432x288 with 1 Axes>"
      ]
     },
     "metadata": {
      "needs_background": "light"
     },
     "output_type": "display_data"
    }
   ],
   "source": [
    "np.random.seed(1515)\n",
    "input_dim = [1, 1000]\n",
    "x = np.sort(3*np.random.randn(1000).astype(np.float32)).reshape(input_dim)\n",
    "\n",
    "tf.reset_default_graph()\n",
    "num_bits = 2\n",
    "input = tf.placeholder(tf.float32, input_dim)\n",
    "\n",
    "# gradient functions will be described below\n",
    "output = tf.fake_quant_with_min_max_vars(input, min=-6.0, max=6.0, num_bits=num_bits)\n",
    "grad = tf.fake_quant_with_min_max_vars_gradient(output, input, min=-6.0, max=6.0, num_bits=num_bits)\n",
    "grad_func = tf.gradients(output, input)\n",
    "\n",
    "with tf.Session() as sess:\n",
    "    sess.run(tf.global_variables_initializer())\n",
    "    [x_quant, gradients, gradients_func] = sess.run(\\\n",
    "                                                      [output, grad, grad_func], \\\n",
    "                                                      feed_dict={input:x})\n",
    "\n",
    "fig, ax = plt.subplots()\n",
    "\n",
    "ax.plot(x.reshape(-1), x_quant.reshape(-1), '-o', marker='+',)\n",
    "ax.set_xlabel(\"floating point\")\n",
    "ax.set_ylabel(\"de-quantized\")\n",
    "ax.axhline(y=0, color='k')\n",
    "ax.axvline(x=0, color='k')\n",
    "ax.grid(True)\n"
   ]
  },
  {
   "cell_type": "markdown",
   "metadata": {},
   "source": [
    "In example above, I used only 2-bits quantization to make the steps look more dramatic. If we look at the y-axis, the minimum quantized value is -8 which is not the minimum -6.0 we set. Since we want to make sure 0 is quantized to 0, therefore the 4 discrete values are (-8, -4, 0, 4) and the min and max are shifted by 2 to negative direction. These are some minor details to watch out for when using very small number of bits for quantization."
   ]
  },
  {
   "cell_type": "markdown",
   "metadata": {},
   "source": [
    "## Straight Through Estimator (STE)\n",
    "\n",
    "To overcome this problem, Straight Through Estimator (STE) is used as the gradient function. Despite of the fancy name, it really is just an identity function that pass the incoming gradient straight through as it is if it fall within min-max-range, otherwise zeros. To put into the quantization context, that effectively assume that the fake quantization is equal to the original values. \n",
    "\n",
    "There are a few TF functions with regards to gradients for quantization. Let's introduce them briefly here.\n",
    "\n",
    "__tf.gradients__(y,x) return the partial derivative function of y with respect to x. If we print out the gradient function using tf.gradients, we'll see that there is a FakeQuantWithMinMaxVarsGradient operator. "
   ]
  },
  {
   "cell_type": "code",
   "execution_count": 5,
   "metadata": {},
   "outputs": [
    {
     "name": "stdout",
     "output_type": "stream",
     "text": [
      "[<tf.Tensor 'gradients/FakeQuantWithMinMaxVars_grad/FakeQuantWithMinMaxVarsGradient:0' shape=(1, 1000) dtype=float32>]\n"
     ]
    }
   ],
   "source": [
    "print(grad_func)"
   ]
  },
  {
   "cell_type": "markdown",
   "metadata": {},
   "source": [
    "When we run TF session to read tf.gradients(), it will return numerical values that is to multiply with the errors flowing in from higher layer. In the code example above, we have already run the session to return the grad_fun. We print some of the values and plot it on graph, we'll see it is mostly 1.0 except for quantized values that is out of range."
   ]
  },
  {
   "cell_type": "code",
   "execution_count": 6,
   "metadata": {},
   "outputs": [
    {
     "data": {
      "text/plain": [
       "Text(0, 0.5, 'gradient function')"
      ]
     },
     "execution_count": 6,
     "metadata": {},
     "output_type": "execute_result"
    },
    {
     "data": {
      "image/png": "[encoded data removed]",
      "text/plain": [
       "<Figure size 432x288 with 2 Axes>"
      ]
     },
     "metadata": {
      "needs_background": "light"
     },
     "output_type": "display_data"
    }
   ],
   "source": [
    "fig, ax = plt.subplots()\n",
    "\n",
    "ax.plot(x.reshape(-1), x_quant.reshape(-1), '-o', marker='+',)\n",
    "ax.set_xlabel(\"floating point\")\n",
    "ax.set_ylabel(\"quantized\")\n",
    "ax.axhline(y=0, color='k')\n",
    "ax.axvline(x=0, color='k')\n",
    "ax.grid(True)\n",
    "\n",
    "ax2=ax.twinx()\n",
    "ax2.plot(x.reshape(-1), np.array(gradients_func).reshape(-1), color='red')\n",
    "ax2.set_ylabel('gradient function', color='r')"
   ]
  },
  {
   "cell_type": "markdown",
   "metadata": {},
   "source": [
    "The last function is __tf.fake_quant_with_min_max_vars_gradient()__ which perform the backpropagation. In practice, all it does is to multiply the quantized value with the gradient function element wise as shown in plot below."
   ]
  },
  {
   "cell_type": "code",
   "execution_count": 7,
   "metadata": {},
   "outputs": [
    {
     "data": {
      "text/plain": [
       "[<matplotlib.lines.Line2D at 0x7f4e4c1424e0>]"
      ]
     },
     "execution_count": 7,
     "metadata": {},
     "output_type": "execute_result"
    },
    {
     "data": {
      "image/png": "[encoded data removed]",
      "text/plain": [
       "<Figure size 432x288 with 2 Axes>"
      ]
     },
     "metadata": {
      "needs_background": "light"
     },
     "output_type": "display_data"
    }
   ],
   "source": [
    "fig, ax = plt.subplots()\n",
    "\n",
    "ax.plot(x.reshape(-1), x_quant.reshape(-1), '-o', marker='+',)\n",
    "ax.set_xlabel(\"floating point\")\n",
    "ax.set_ylabel(\"quantized\")\n",
    "ax.axhline(y=0, color='k')\n",
    "ax.axvline(x=0, color='k')\n",
    "ax.grid(True)\n",
    "\n",
    "ax2=ax.twinx()\n",
    "ax2.plot(x.reshape(-1), np.array(gradients_func).reshape(-1), color='red')\n",
    "ax2.set_ylabel('gradient function', color='r')\n",
    "\n",
    "ax.plot(x.reshape(-1), np.array(gradients[0]).reshape(-1), color='brown', marker='x')\n"
   ]
  },
  {
   "cell_type": "markdown",
   "metadata": {},
   "source": [
    "## Writing Custom Gradient Function\n",
    "\n",
    "Sometimes researchers need to write some custom functions for experimentation. Sometimes you'll need to write custom gradient functions too, or override the default functions, say you want to create a leaky version that multiply the gradients by 0.9. Is that possible? Of course. I'll show you how to use function decorator @tf.custom_gradient to set the function gradient to your Python function. Now let's try to create our own fake quantization function.\n",
    "\n",
    "Here I'll use two TF APIs __tf.quantize__ and __tf.dequantize__ which look like are for internal experimentation as you can only use the defined data type e.g. tf.qint8 rather than any arbitrary bitwidth. Anyway, this is enough to serve our purpose for now. Without too much work, we could translate the quantize-dequantize function we wrote in Tutorial 2, which I'll leave as exercise. "
   ]
  },
  {
   "cell_type": "code",
   "execution_count": 8,
   "metadata": {},
   "outputs": [
    {
     "data": {
      "image/png": "[encoded data removed]",
      "text/plain": [
       "<Figure size 432x288 with 1 Axes>"
      ]
     },
     "metadata": {
      "needs_background": "light"
     },
     "output_type": "display_data"
    }
   ],
   "source": [
    "tf.reset_default_graph()\n",
    "\n",
    "def my_fake_quant_with_min_max_vars(inputs, min, max, num_bits=8):\n",
    "\n",
    "    quantized, quant_min, quant_max = tf.quantize(inputs, min, max, tf.quint8)\n",
    "    cast_quantized = tf.cast(quantized, tf.quint8)\n",
    "    dequantized = tf.dequantize(quantized, quant_min, quant_max)\n",
    "    \n",
    "    return dequantized\n",
    "\n",
    "\n",
    "my_input = tf.placeholder(tf.float32)\n",
    "my_output = my_fake_quant_with_min_max_vars(my_input, min=-6.0, max=6.0, num_bits=8)\n",
    "\n",
    "with tf.Session() as sess:\n",
    "    x_quant = sess.run(my_output, feed_dict={my_input:x})\n",
    "    \n",
    "fig, ax = plt.subplots()\n",
    "\n",
    "ax.plot(x.reshape(-1), x_quant.reshape(-1), '-o', marker='+',)\n",
    "ax.set_xlabel(\"floating point\")\n",
    "ax.set_ylabel(\"quantized\")\n",
    "ax.axhline(y=0, color='k')\n",
    "ax.axvline(x=0, color='k')\n",
    "ax.grid(True)"
   ]
  },
  {
   "cell_type": "markdown",
   "metadata": {},
   "source": [
    "If we try run this line to read the gradient function, we'll be getting error because it is not defined\n",
    "```\n",
    "tf.gradients(my_output, my_input)\n",
    "```\n",
    "Now let's first go through how to use @tf.custom_gradient to add gradient to a function with multiply a tensor by itself. Therefore, the gradient of $x^2$ should therefore be $2x$ as confirmed below.\n"
   ]
  },
  {
   "cell_type": "code",
   "execution_count": 9,
   "metadata": {},
   "outputs": [
    {
     "name": "stdout",
     "output_type": "stream",
     "text": [
      "[6.0]\n"
     ]
    }
   ],
   "source": [
    "def my_function(x):\n",
    "    return x*x\n",
    "\n",
    "a = tf.constant(3.0)\n",
    "c = my_function(a)\n",
    "grad = tf.gradients(c, a)\n",
    "\n",
    "with tf.Session() as sess:\n",
    "    sess.run(tf.global_variables_initializer())\n",
    "    print(sess.run(grad))\n"
   ]
  },
  {
   "cell_type": "markdown",
   "metadata": {},
   "source": [
    "Now let's add the decorater @tf.custom_gradient and now the function is expected to return two things - the output tensor, and the gradient function."
   ]
  },
  {
   "cell_type": "code",
   "execution_count": 10,
   "metadata": {},
   "outputs": [
    {
     "name": "stdout",
     "output_type": "stream",
     "text": [
      "[1.0]\n"
     ]
    }
   ],
   "source": [
    "@tf.custom_gradient\n",
    "def my_function_grad(x):\n",
    "    y = x*x \n",
    "    \n",
    "    def grad(dy):\n",
    "        return tf.identity(dy)\n",
    "    \n",
    "    return y, grad\n",
    "\n",
    "a = tf.constant(3.0)\n",
    "c = my_function_grad(a)\n",
    "grad = tf.gradients(c, a)\n",
    "\n",
    "with tf.Session() as sess:\n",
    "    sess.run(tf.global_variables_initializer())\n",
    "    print(sess.run(grad))"
   ]
  },
  {
   "cell_type": "markdown",
   "metadata": {},
   "source": [
    "It is simple and elegant but we can't use it straight away to our problem. Although the decorated function can accept multiple tensors as input it cannot accept non-tensor type like num_bits. To work around this problem, we'll use a powerful Python library to first 'compile' the function with with non-tensors data that can be pre-determined in compile time, into a function with single tensor as input."
   ]
  },
  {
   "cell_type": "code",
   "execution_count": 11,
   "metadata": {},
   "outputs": [
    {
     "data": {
      "text/plain": [
       "Text(0, 0.5, 'gradient function')"
      ]
     },
     "execution_count": 11,
     "metadata": {},
     "output_type": "execute_result"
    },
    {
     "data": {
      "image/png": "[encoded data removed]",
      "text/plain": [
       "<Figure size 432x288 with 2 Axes>"
      ]
     },
     "metadata": {
      "needs_background": "light"
     },
     "output_type": "display_data"
    }
   ],
   "source": [
    "from functools import partial\n",
    "\n",
    "tf.reset_default_graph()\n",
    "\n",
    "def my_fake_quant_with_min_max_vars(inputs, min, max, num_bits=8):\n",
    "\n",
    "    def _fake_quant(min, max, num_bits, inputs):\n",
    "        quantized, quant_min, quant_max = tf.quantize(inputs, min, max, tf.quint8)\n",
    "        cast_quantized = tf.cast(quantized, tf.quint8)\n",
    "        dequantized = tf.dequantize(quantized, quant_min, quant_max)\n",
    "\n",
    "        return dequantized\n",
    "    \n",
    "    # create a new function with fixed min, max, num_bits\n",
    "    fake_quant = partial(_fake_quant, min, max, num_bits)\n",
    "    \n",
    "    @tf.custom_gradient\n",
    "    def fake_quant_wrapper(x):\n",
    "        y = fake_quant(x)\n",
    "    \n",
    "        # your custom gradient function here\n",
    "        def grad(dy):\n",
    "            return 0.9*tf.identity(dy)\n",
    "    \n",
    "        return y, grad\n",
    "    \n",
    "    return fake_quant_wrapper(inputs)\n",
    "\n",
    "my_input = tf.placeholder(tf.float32)\n",
    "my_output = my_fake_quant_with_min_max_vars(my_input, -6.0, 6.0, 8)\n",
    "grad_func = tf.gradients(my_output, my_input)\n",
    "\n",
    "with tf.Session() as sess:\n",
    "    [x_quant, gradients_func] = sess.run([my_output, grad_func], feed_dict={my_input:x})\n",
    "\n",
    "fig, ax = plt.subplots()    \n",
    "ax.plot(x.reshape(-1), x_quant.reshape(-1), '-o', marker='+',)\n",
    "ax.set_xlabel(\"floating point\")\n",
    "ax.set_ylabel(\"quantized\")\n",
    "ax.axhline(y=0, color='k')\n",
    "ax.axvline(x=0, color='k')\n",
    "ax.grid(True)\n",
    "\n",
    "\n",
    "ax2=ax.twinx()\n",
    "ax2.plot(x.reshape(-1), np.array(gradients_func).reshape(-1), color='red')\n",
    "ax2.set_ylabel('gradient function', color='r')"
   ]
  },
  {
   "cell_type": "markdown",
   "metadata": {},
   "source": [
    "## What's Next?\n",
    "\n",
    "We have learned everything we need to know for quantized neural network training. Next, we'll apply our new learned knowledge to actually train a MobileNet on Cifar10."
   ]
  }
 ],
 "metadata": {
  "kernelspec": {
   "display_name": "Python 3",
   "language": "python",
   "name": "python3"
  },
  "language_info": {
   "codemirror_mode": {
    "name": "ipython",
    "version": 3
   },
   "file_extension": ".py",
   "mimetype": "text/x-python",
   "name": "python",
   "nbconvert_exporter": "python",
   "pygments_lexer": "ipython3",
   "version": "3.5.2"
  }
 },
 "nbformat": 4,
 "nbformat_minor": 2
}
