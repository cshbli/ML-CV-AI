{
 "cells": [
  {
   "attachments": {},
   "cell_type": "markdown",
   "metadata": {},
   "source": [
    "# Heap and Heap Sort in Python"
   ]
  },
  {
   "attachments": {},
   "cell_type": "markdown",
   "metadata": {},
   "source": [
    "It’s time to check out the heap sort, a high-performance sorting algorithm that can quickly and efficiently sort datasets in <b>O(N*lg(N))</b> time complexity and <b>O(1)</b> space complexity."
   ]
  },
  {
   "attachments": {},
   "cell_type": "markdown",
   "metadata": {},
   "source": [
    "## Introduction to Heap: A Tree-Based Data Structure\n",
    "\n",
    "A heap is a complete binary tree that satisfies the heap property, which states that the value of each node in the tree is greater than or equal to the values of its children.\n",
    "\n",
    "There are two types of heaps:\n",
    "\n",
    "- Max heap: In a max heap, the value of each node is greater than or equal to the values of its children, and the root node has the maximum value in the tree.\n",
    "\n",
    "- Min heap: In a min heap, the value of each node is less than or equal to the values of its children, and the root node has the minimum value in the tree."
   ]
  },
  {
   "attachments": {},
   "cell_type": "markdown",
   "metadata": {},
   "source": [
    "## How Does Heap Sort Work\n",
    "\n",
    "Heap sort is a comparison-based sorting algorithm that uses a heap data structure to sort a list of elements. It works by building a heap from the input list, and then repeatedly extracting the root element (the maximum or minimum value) and placing it at the end of the sorted list. This process is repeated until the heap is empty and the list is fully sorted.\n",
    "\n",
    "Simply put, there are two steps:\n",
    "\n",
    "1. Building a heap\n",
    "\n",
    "2. Extracting the elements from the heap"
   ]
  },
  {
   "attachments": {},
   "cell_type": "markdown",
   "metadata": {},
   "source": [
    "### How to represent a heap in Python?\n",
    "\n",
    "First and foremost, we need to know how to represent a heap properly before building it.\n",
    "\n",
    "Given that a heap is a complete binary tree, we can just use a Python list to represent the heap.\n",
    "\n",
    "The list representation of a tree means the real tree is in our mind. We always operate the list in the real code.\n",
    "\n",
    "It works because of the following special relations between the list and the tree:\n",
    "\n",
    "- The root of the tree is always the element at index 0.\n",
    "\n",
    "- The left child of a node at index i is stored at index 2i+1, and the right child is stored at index 2i+2.\n",
    "\n",
    "Therefore, we can always access the tree’s nodes easily through the index of the list.\n",
    "\n",
    "For example, here is an input list named arr.\n",
    "\n",
    "Its elements are [5, 2, 7, 1, 3].\n",
    "\n",
    "It represents an original complete binary tree and we need to convert it as a heap like the following:\n",
    "\n",
    "<img src=\"./fig/1_WBKH9dR0AAdX9BITTUuSjg.webp\">\n",
    "\n",
    "- The root of the tree is arr[0]\n",
    "- The left child of the root is arr[2x0+1], and the right child is arr[2x0+2]."
   ]
  },
  {
   "attachments": {},
   "cell_type": "markdown",
   "metadata": {},
   "source": [
    "### How to build a heap?\n",
    "\n",
    "The process of building a heap from a list is named heapify.\n",
    "\n",
    "The original list is already a representation of a binary tree (the tree is in our mind) as shown above. What we need to do is converting the original tree into a heap.\n",
    "\n",
    "Since the max heap and the min heap share the similar idea. Let’s just talk about how to build a max heap.\n",
    "\n",
    "The idea is to traverse the non-leaf nodes of the binary tree from bottom to top to construct a max heap, for each non-leaf node, compare it with its left and right children, and swap the largest value with the parent node of this subtree.\n",
    "\n",
    "- Why start from non-leaf nodes rather than the last node?\n",
    "\n",
    "Because there are no child nodes below leaf nodes, there is no need to operate.\n",
    "\n",
    "- Why traverse from bottom to top rather than from top to bottom?\n",
    "\n",
    "If we go up from the bottom, the largest value will be put to the root node for sure (similar idea as bubble sort).\n",
    "\n",
    "### How to update the heap after extracting one element?\n",
    "\n",
    "After converting the original list into a heap, the rest is simple. We just need to repeatedly extract the root element of the heap, which is the maximum/minimum element, and put it into the end of the sorted list that needs to be returned.\n",
    "\n",
    "However, there is one thing we need to do — update the whole heap after extracting the root node.\n",
    "\n",
    "It needs two steps:\n",
    "\n",
    "1. Replace the root node with the last element in the heap: Remove the root node (which has the largest value in a max heap or the smallest value in a min heap) and replace it with the last element in the heap.\n",
    "\n",
    "2. Heapify the whole heap again."
   ]
  },
  {
   "attachments": {},
   "cell_type": "markdown",
   "metadata": {},
   "source": [
    "### Implementing Heap Sort in Python"
   ]
  },
  {
   "cell_type": "code",
   "execution_count": 1,
   "metadata": {},
   "outputs": [
    {
     "name": "stdout",
     "output_type": "stream",
     "text": [
      "[2077, 99, 54, 20, 7, 5, 4, 3, 2]\n"
     ]
    }
   ],
   "source": [
    "def heap_sort(arr):\n",
    "    # Build a max heap from the input list\n",
    "    heapify(arr)\n",
    "    # Extract the root element (the maximum value) and place it at the end of the sorted list\n",
    "    sorted_arr = []\n",
    "    while arr:\n",
    "        sorted_arr.append(heappop(arr))\n",
    "    # Return the sorted list\n",
    "    return sorted_arr\n",
    "\n",
    "\n",
    "def heapify(arr):\n",
    "    # Start from the last non-leaf node and heapify all nodes from bottom to top\n",
    "    n = len(arr)\n",
    "    for i in range(n // 2 - 1, -1, -1):\n",
    "        heapify_node(arr, i, n)\n",
    "\n",
    "\n",
    "def heapify_node(arr, i, n):\n",
    "    # Heapify the node at index i and its children\n",
    "    left = 2 * i + 1\n",
    "    right = 2 * i + 2\n",
    "    largest = i\n",
    "    if left < n and arr[left] > arr[largest]:\n",
    "        largest = left\n",
    "    if right < n and arr[right] > arr[largest]:\n",
    "        largest = right\n",
    "    if largest != i:\n",
    "        arr[i], arr[largest] = arr[largest], arr[i]\n",
    "        heapify_node(arr, largest, n)\n",
    "\n",
    "\n",
    "def heappop(arr):\n",
    "    # Extract the root element (the maximum value) from the heap\n",
    "    root = arr[0]\n",
    "    arr[0] = arr[-1]\n",
    "    del arr[-1]\n",
    "    heapify(arr)\n",
    "    return root\n",
    "\n",
    "\n",
    "print(heap_sort([5, 2, 7, 2077, 3, 99, 4, 54, 20]))"
   ]
  },
  {
   "attachments": {},
   "cell_type": "markdown",
   "metadata": {},
   "source": [
    "The key function is the `heapify` and `heapify_node`. They are used to build a heap from the original list."
   ]
  },
  {
   "attachments": {},
   "cell_type": "markdown",
   "metadata": {},
   "source": [
    "### Use the heapq Module of Python\n",
    "\n",
    "Fortunately, we don’t need to implement the fundamental functions to build a heap every time. Python has a built-in module named heapq.\n",
    "\n",
    "The heapq module provides functionalities for working with heaps, including:\n",
    "\n",
    "- heappush(heap, elem): Push an element onto the heap, maintaining the heap property.\n",
    "\n",
    "- heappop(heap): Pop and return the smallest element from the heap, maintaining the heap property.\n",
    "\n",
    "- heapify(x): Transform a regular list into a heap, in-place, in linear time.\n",
    "\n",
    "- nlargest(k, iterable, key=None): Return a list with the k largest elements from the iterable specified and satisfy the heap property.\n",
    "\n",
    "- nsmallest(k, iterable, key=None): Return a list with the k smallest elements from the iterable specified and satisfy the heap property.\n",
    "\n",
    "The heapq module is implemented as a heap queue, which is a priority queue implemented as a heap. It is a useful tool for efficiently sorting and searching lists and other iterable objects.\n",
    "\n",
    "Now, let’s use it to do the heap sort:"
   ]
  },
  {
   "cell_type": "code",
   "execution_count": 2,
   "metadata": {},
   "outputs": [
    {
     "name": "stdout",
     "output_type": "stream",
     "text": [
      "[3, 5, 19, 21, 207]\n"
     ]
    }
   ],
   "source": [
    "import heapq\n",
    "\n",
    "def heap_sort(arr):\n",
    "    # Build a heap\n",
    "    heapq.heapify(arr)\n",
    "\n",
    "    # Extract elements from the heap one by one\n",
    "    sorted_arr = []\n",
    "    while arr:\n",
    "        sorted_arr.append(heapq.heappop(arr))\n",
    "\n",
    "    return sorted_arr\n",
    "\n",
    "# Test the heap sort function\n",
    "arr = [5, 21, 207, 19, 3]\n",
    "print(heap_sort(arr))"
   ]
  },
  {
   "attachments": {},
   "cell_type": "markdown",
   "metadata": {},
   "source": [
    "## Time and Space Complexity of Heap Sort\n",
    "\n",
    "The time complexity of heap sort is O(n*logn), where n is the number of elements in the list. This is because the heapify function takes O(logn) time to heapify a single node, and it is called O(n) times (once for each node in the heap). The heappop function also takes O(logn) time to extract the root element from the heap and restore the heap property, and it is called O(n) times (once for each element in the list).\n",
    "\n",
    "The space complexity of heap sort is O(1), because the sorting is done in place and no additional space is required. This is also a big advantage of heap sort. Cause it saves lots of memory usage, especially when the original datasets are large."
   ]
  }
 ],
 "metadata": {
  "kernelspec": {
   "display_name": "torch1.13.0",
   "language": "python",
   "name": "python3"
  },
  "language_info": {
   "codemirror_mode": {
    "name": "ipython",
    "version": 3
   },
   "file_extension": ".py",
   "mimetype": "text/x-python",
   "name": "python",
   "nbconvert_exporter": "python",
   "pygments_lexer": "ipython3",
   "version": "3.8.9"
  },
  "orig_nbformat": 4,
  "vscode": {
   "interpreter": {
    "hash": "244b52c780d94b616429aadbde29e2a1db21faa7d2cf5e7aa305dc90879c3934"
   }
  }
 },
 "nbformat": 4,
 "nbformat_minor": 2
}
