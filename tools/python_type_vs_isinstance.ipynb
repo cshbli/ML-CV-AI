{
 "cells": [
  {
   "attachments": {},
   "cell_type": "markdown",
   "metadata": {},
   "source": [
    "# Difference Between type() and isinstance() in Python\n",
    "\n",
    "* Python has a built-in function called type() that helps you find the class type of the variable given as input.\n",
    "\n",
    "    * In case of type the subclass check gives back false.    \n",
    "\n",
    "* Python has a built-in function called isinstance() that compares the value with the type given. If the value and type given matches it will return true otherwise false.\n",
    "\n",
    "    * isinstance() gives a truthy value when checked with a subclass."
   ]
  },
  {
   "cell_type": "code",
   "execution_count": 2,
   "metadata": {},
   "outputs": [
    {
     "name": "stdout",
     "output_type": "stream",
     "text": [
      "<class '__main__.A'>\n",
      "<class '__main__.B'>\n",
      "True\n",
      "False\n"
     ]
    }
   ],
   "source": [
    "class A:\n",
    "    my_listA = [1, 2, 3]\n",
    "\n",
    "class B(A):\n",
    "    my_listB = [1, 2, 3]\n",
    "\n",
    "print(type(A()))\n",
    "print(type(B()))\n",
    "print(type(A()) == A)\n",
    "print(type(B()) == A)"
   ]
  },
  {
   "cell_type": "code",
   "execution_count": 3,
   "metadata": {},
   "outputs": [
    {
     "name": "stdout",
     "output_type": "stream",
     "text": [
      "True\n",
      "True\n"
     ]
    }
   ],
   "source": [
    "class A:\n",
    "    my_listA = [1, 2, 3]\n",
    "\n",
    "class B(A):\n",
    "    my_listB = [1, 2, 3]\n",
    "\n",
    "print(isinstance(A(), A))\n",
    "print(isinstance(B(), A))"
   ]
  }
 ],
 "metadata": {
  "kernelspec": {
   "display_name": "torch1.13.0",
   "language": "python",
   "name": "python3"
  },
  "language_info": {
   "codemirror_mode": {
    "name": "ipython",
    "version": 3
   },
   "file_extension": ".py",
   "mimetype": "text/x-python",
   "name": "python",
   "nbconvert_exporter": "python",
   "pygments_lexer": "ipython3",
   "version": "3.8.10 (default, Nov 14 2022, 12:59:47) \n[GCC 9.4.0]"
  },
  "orig_nbformat": 4,
  "vscode": {
   "interpreter": {
    "hash": "42be7b6d852b9b2b1a0308f8b9cc6db97febf6d6b1b2a588c6bfd7d771418521"
   }
  }
 },
 "nbformat": 4,
 "nbformat_minor": 2
}
