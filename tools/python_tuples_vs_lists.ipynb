{
 "cells": [
  {
   "attachments": {},
   "cell_type": "markdown",
   "metadata": {},
   "source": [
    "# Python Tuples vs. Lists\n",
    "\n",
    "Lists and dictionaries are the most widely used built-in data types in Python, which also makes them the best-known data types in Python. When it comes to tuples, grasping the details of how they differ from the lists is not an easy task for the beginners because they are very similar to each other."
   ]
  },
  {
   "attachments": {},
   "cell_type": "markdown",
   "metadata": {},
   "source": [
    "## Tuples vs. Lists\n",
    "\n",
    "- Tuples and lists are both used to store collection of data\n",
    "\n",
    "- Tuples and lists are both heterogeneous data types means that you can store any kind of data type.\n",
    "\n",
    "- Tuples and lists are both ordered means the order in which you put the items are kept.\n",
    "\n",
    "- Tuples and lists are both sequential data types so you can iterate over the items contained.\n",
    "\n",
    "- Items of both tuples and lists can be accessed by an integer index operator, provided in square brackets, [index].\n",
    "\n",
    "So…how do they differ?\n",
    "\n",
    "<b>The key difference between tuples and lists is that while the tuples are immutable objects, lists are mutable. This means that tuples cannot be changed while lists can be modified.</b>\n",
    "\n",
    "Let’s further understand how this may affect our code in terms of time and memory efficiency.\n",
    "\n",
    "As lists are mutable, Python needs to allocate an extra memory block in case there is a need to extend the size of the list object after we create it. In contrast, as tuples are immutable and of a fixed size, Python allocates only the minimum memory block required for the data.\n",
    "\n",
    "As a result, tuples are more memory efficient than lists."
   ]
  },
  {
   "cell_type": "code",
   "execution_count": 1,
   "metadata": {},
   "outputs": [
    {
     "name": "stdout",
     "output_type": "stream",
     "text": [
      "96\n",
      "80\n"
     ]
    }
   ],
   "source": [
    "import sys\n",
    "\n",
    "a_list = list()\n",
    "a_tuple = tuple()\n",
    "\n",
    "a_list = [1,2,3,4,5]\n",
    "a_tuple = (1,2,3,4,5)\n",
    "\n",
    "print(sys.getsizeof(a_list))\n",
    "print(sys.getsizeof(a_tuple))"
   ]
  },
  {
   "attachments": {},
   "cell_type": "markdown",
   "metadata": {},
   "source": [
    "As you can see from the output of the above code snippet, the memory required for the identical list and tuple objects is different.\n",
    "\n",
    "When it comes to the time efficiency, again tuples have a slight advantage over the lists especially when we consider lookup value."
   ]
  },
  {
   "cell_type": "code",
   "execution_count": 2,
   "metadata": {},
   "outputs": [
    {
     "name": "stdout",
     "output_type": "stream",
     "text": [
      "3.8.10\n",
      "Instantiation time for LIST: 0.14308738708496094\n",
      "Instantiation time for TUPLE: 0.14289426803588867\n",
      "Lookup time for LIST:  0.47216272354125977\n",
      "Lookup time for TUPLE:  0.4322543144226074\n"
     ]
    }
   ],
   "source": [
    "import sys, platform\n",
    "import time\n",
    "\n",
    "print(platform.python_version())\n",
    "\n",
    "start_time = time.time()\n",
    "b_list = list(range(10000000))\n",
    "end_time = time.time()\n",
    "print(\"Instantiation time for LIST:\", end_time - start_time)\n",
    "\n",
    "start_time = time.time()\n",
    "b_tuple = tuple(range(10000000))\n",
    "end_time = time.time()\n",
    "print(\"Instantiation time for TUPLE:\", end_time - start_time)\n",
    "\n",
    "start_time = time.time()\n",
    "for item in b_list:\n",
    "  aa = b_list[20000]\n",
    "end_time = time.time()\n",
    "print(\"Lookup time for LIST: \", end_time - start_time)\n",
    "\n",
    "start_time = time.time()\n",
    "for item in b_tuple:\n",
    "  aa = b_tuple[20000]\n",
    "end_time = time.time()\n",
    "print(\"Lookup time for TUPLE: \", end_time - start_time)"
   ]
  },
  {
   "attachments": {},
   "cell_type": "markdown",
   "metadata": {},
   "source": [
    "## When Do I Use Tuples vs. Lists?\n",
    "\n",
    "Well, obviously this depends on your needs.\n",
    "\n",
    "There may be some occasions when you don’t want your data to be changed. If you have data that’s not meant to be changed in the first place, you should choose tuple data type over lists.\n",
    "\n",
    "But if you know that the data will grow and shrink during the runtime of the application, you need to go with the list data type."
   ]
  }
 ],
 "metadata": {
  "kernelspec": {
   "display_name": "torch1.13.0",
   "language": "python",
   "name": "python3"
  },
  "language_info": {
   "codemirror_mode": {
    "name": "ipython",
    "version": 3
   },
   "file_extension": ".py",
   "mimetype": "text/x-python",
   "name": "python",
   "nbconvert_exporter": "python",
   "pygments_lexer": "ipython3",
   "version": "3.8.10 (default, Nov 14 2022, 12:59:47) \n[GCC 9.4.0]"
  },
  "orig_nbformat": 4,
  "vscode": {
   "interpreter": {
    "hash": "42be7b6d852b9b2b1a0308f8b9cc6db97febf6d6b1b2a588c6bfd7d771418521"
   }
  }
 },
 "nbformat": 4,
 "nbformat_minor": 2
}
