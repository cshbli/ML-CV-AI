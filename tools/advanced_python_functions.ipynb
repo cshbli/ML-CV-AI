{
 "cells": [
  {
   "attachments": {},
   "cell_type": "markdown",
   "metadata": {},
   "source": [
    "# Advanced Python Functions"
   ]
  },
  {
   "attachments": {},
   "cell_type": "markdown",
   "metadata": {},
   "source": [
    "## map()\n",
    "\n",
    "<b>map()</b> is a built-in Python function used to apply a function to a sequence of elements like a list or dictionary. It’s probably the cleanest and most readable way to apply some sort of operation to your data."
   ]
  },
  {
   "cell_type": "code",
   "execution_count": 1,
   "metadata": {},
   "outputs": [
    {
     "name": "stdout",
     "output_type": "stream",
     "text": [
      "Non-Pythonic Approach:  [1, 4, 9, 16, 25]\n",
      "Pythonic Approach:  [1, 4, 9, 16, 25]\n"
     ]
    }
   ],
   "source": [
    "nums = [1, 2, 3, 4, 5]\n",
    "# this function will calculate square\n",
    "def square_num(x): \n",
    "    return x**2\n",
    "\n",
    "# non-pythonic approach\n",
    "squares = []\n",
    "for num in nums:\n",
    "    squares.append(square_num(num))\n",
    " \n",
    "print('Non-Pythonic Approach: ', squares)\n",
    "\n",
    "# pythonic approach\n",
    "x = map(square_num, nums)\n",
    "print('Pythonic Approach: ', list(x))"
   ]
  },
  {
   "attachments": {},
   "cell_type": "markdown",
   "metadata": {},
   "source": [
    "## zip()\n",
    "\n",
    "<b>zip()</b> enables you to iterate over two or more lists at the same time. This can come in handy when working with dates and times."
   ]
  },
  {
   "cell_type": "code",
   "execution_count": 1,
   "metadata": {},
   "outputs": [
    {
     "name": "stdout",
     "output_type": "stream",
     "text": [
      "3\n",
      "5\n",
      "15\n",
      "9\n",
      "17\n"
     ]
    }
   ],
   "source": [
    "first = [1, 3, 8, 4, 9]\n",
    "second = [2, 2, 7, 5, 8]\n",
    "# Iterate over two or more list at the same time\n",
    "for x, y in zip(first, second):\n",
    "    print(x + y)"
   ]
  },
  {
   "attachments": {},
   "cell_type": "markdown",
   "metadata": {},
   "source": [
    "## filter()\n",
    "\n",
    "<b>filter()</b> function is in a way similar to <b>map()</b> — it also applies a function to some sequence, the difference being that filter() will return only those elements that are evaluated as True."
   ]
  },
  {
   "cell_type": "code",
   "execution_count": 2,
   "metadata": {},
   "outputs": [
    {
     "name": "stdout",
     "output_type": "stream",
     "text": [
      "Non-Pythonic Approach:  [2, 4, 6, 8, 10]\n",
      "Pythonic Approach:  [2, 4, 6, 8, 10]\n"
     ]
    }
   ],
   "source": [
    "numbers = [1, 2, 3, 4, 5, 6, 7, 8, 9, 10]\n",
    "# Will return true if input number is even\n",
    "def even(x):\n",
    "    return x % 2 == 0\n",
    "# non-pythonic approach\n",
    "even_nums = []\n",
    "for num in numbers:\n",
    "    if even(num):\n",
    "        even_nums.append(num)\n",
    " \n",
    "print('Non-Pythonic Approach: ', even_nums)\n",
    "# pythonic approach\n",
    "even_n = filter(even, numbers)\n",
    "print('Pythonic Approach: ', list(even_n))"
   ]
  },
  {
   "attachments": {},
   "cell_type": "markdown",
   "metadata": {},
   "source": [
    "## product()\n",
    "\n",
    "In the terms of Mathematics Cartesian Product of two sets is defined as the set of all ordered pairs (a, b) where a belongs to A and b belongs to B."
   ]
  },
  {
   "cell_type": "code",
   "execution_count": 1,
   "metadata": {},
   "outputs": [
    {
     "name": "stdout",
     "output_type": "stream",
     "text": [
      "70 2000 7\n"
     ]
    }
   ],
   "source": [
    "list_a = [1, 2020, 70]\n",
    "list_b = [2, 4, 7, 2000]\n",
    "list_c = [3, 70, 7]\n",
    "\n",
    "for a in list_a:\n",
    "    for b in list_b:\n",
    "        for c in list_c:\n",
    "            if a + b + c == 2077:\n",
    "                print(a, b, c)"
   ]
  },
  {
   "cell_type": "code",
   "execution_count": 2,
   "metadata": {},
   "outputs": [
    {
     "name": "stdout",
     "output_type": "stream",
     "text": [
      "70 2000 7\n"
     ]
    }
   ],
   "source": [
    "from itertools import product\n",
    "\n",
    "list_a = [1, 2020, 70]\n",
    "list_b = [2, 4, 7, 2000]\n",
    "list_c = [3, 70, 7]\n",
    "\n",
    "for a, b, c in product(list_a, list_b, list_c):\n",
    "    if a + b + c == 2077:\n",
    "        print(a, b, c)"
   ]
  },
  {
   "attachments": {},
   "cell_type": "markdown",
   "metadata": {},
   "source": [
    "## Ternary Conditional Operator: Writing a Simple If-Else Structure in One Line"
   ]
  },
  {
   "cell_type": "code",
   "execution_count": 3,
   "metadata": {},
   "outputs": [],
   "source": [
    "min = a if a < b else b"
   ]
  },
  {
   "attachments": {},
   "cell_type": "markdown",
   "metadata": {},
   "source": [
    "## Using Lambda Functions To Define Simple Functions\n",
    "\n",
    "A lambda function is a small anonymous function.\n",
    "\n",
    "A lambda function can take any number of arguments, but can only have one expression."
   ]
  },
  {
   "cell_type": "code",
   "execution_count": 4,
   "metadata": {},
   "outputs": [],
   "source": [
    "def fib(x):\n",
    "    if x<=1:\n",
    "        return x\n",
    "    else:\n",
    "        return fib(x-1) + fib(x-2)"
   ]
  },
  {
   "cell_type": "code",
   "execution_count": 5,
   "metadata": {},
   "outputs": [],
   "source": [
    "fib = lambda x: x if x <= 1 else fib(x - 1) + fib(x - 2)"
   ]
  },
  {
   "attachments": {},
   "cell_type": "markdown",
   "metadata": {},
   "source": [
    "### Calculate distance between two vectors"
   ]
  },
  {
   "cell_type": "code",
   "execution_count": 12,
   "metadata": {},
   "outputs": [],
   "source": [
    "dist = lambda w,v : (sum((wi - vi)**2 for wi,vi in zip(w,v)))**.5"
   ]
  },
  {
   "attachments": {},
   "cell_type": "markdown",
   "metadata": {},
   "source": [
    "### Adding two vectors"
   ]
  },
  {
   "cell_type": "code",
   "execution_count": 13,
   "metadata": {},
   "outputs": [],
   "source": [
    "add_vec= lambda A,B:[ai+bi for (ai, bi) in zip(A, B)]"
   ]
  },
  {
   "attachments": {},
   "cell_type": "markdown",
   "metadata": {},
   "source": [
    "## List Comprehensions: Get a List in a Pythonic Way\n",
    "\n",
    "To say the list comprehension makes your code elegant is still an understatement. It can save you lots of typing and time but still keep your code readable. Few programming languages can do this."
   ]
  },
  {
   "cell_type": "code",
   "execution_count": 6,
   "metadata": {},
   "outputs": [
    {
     "name": "stdout",
     "output_type": "stream",
     "text": [
      "['Not Genius', 'Not Genius', 'Not Genius', 'yang']\n"
     ]
    }
   ],
   "source": [
    "Genius = [\"Jerry\", \"Jack\", \"tom\", \"yang\"]\n",
    "L1 = [name if name.startswith('y') else 'Not Genius' for name in Genius]\n",
    "print(L1)"
   ]
  },
  {
   "attachments": {},
   "cell_type": "markdown",
   "metadata": {},
   "source": [
    "## Merger Multiple Python Dictionaries"
   ]
  },
  {
   "cell_type": "code",
   "execution_count": 14,
   "metadata": {},
   "outputs": [
    {
     "name": "stdout",
     "output_type": "stream",
     "text": [
      "{'New York City': 'US', 'Los Angeles': 'US', 'London': 'UK', 'Birmingham': 'UK'}\n"
     ]
    }
   ],
   "source": [
    "cities_us = {'New York City': 'US', 'Los Angeles': 'US'}\n",
    "cities_uk = {'London': 'UK', 'Birmingham': 'UK'}\n",
    "\n",
    "cities={**cities_us, **cities_uk}\n",
    "print(cities)"
   ]
  },
  {
   "attachments": {},
   "cell_type": "markdown",
   "metadata": {},
   "source": [
    "### Union Operators: The Easiest Way To Merge Dictionaries (After Python 3.9)\n",
    "\n",
    "Merging dictionaries is a common requirement in daily Python programming. There are many ways to do it. But all of them were ugly before Python 3.9."
   ]
  },
  {
   "cell_type": "code",
   "execution_count": null,
   "metadata": {},
   "outputs": [],
   "source": [
    "cities_us = {'New York City': 'US', 'Los Angeles': 'US'}\n",
    "cities_uk = {'London': 'UK', 'Birmingham': 'UK'}\n",
    "\n",
    "cities = cities_us|cities_uk\n",
    "print(cities)"
   ]
  },
  {
   "attachments": {},
   "cell_type": "markdown",
   "metadata": {},
   "source": [
    "## F-Strings: The Pythonic String Formatting Technique"
   ]
  },
  {
   "cell_type": "code",
   "execution_count": 8,
   "metadata": {},
   "outputs": [
    {
     "name": "stdout",
     "output_type": "stream",
     "text": [
      "Pi is approximately equal to 3.14\n",
      "The id is 001\n",
      "His networth is $1,000,000,000\n"
     ]
    }
   ],
   "source": [
    "pi = 3.1415926\n",
    "print(f'Pi is approximately equal to {pi:.2f}')\n",
    "# Pi is approximately equal to 3.14\n",
    "\n",
    "id = 1  # need to print a 3-digit number\n",
    "print(f\"The id is {id:03d}\")\n",
    "# The id is 001\n",
    "\n",
    "N = 1000000000  # need to add separator\n",
    "print(f'His networth is ${N:,d}')"
   ]
  },
  {
   "cell_type": "code",
   "execution_count": 9,
   "metadata": {},
   "outputs": [
    {
     "name": "stdout",
     "output_type": "stream",
     "text": [
      "Today is 2023-01-14 23:54:11.483338\n"
     ]
    }
   ],
   "source": [
    "from datetime import datetime\n",
    "\n",
    "print(f\"Today is {datetime.today()}\")"
   ]
  },
  {
   "attachments": {},
   "cell_type": "markdown",
   "metadata": {},
   "source": [
    "## Using Asterisks for Unpacking Iterables and Destructuring Assignments"
   ]
  },
  {
   "cell_type": "code",
   "execution_count": 10,
   "metadata": {},
   "outputs": [
    {
     "name": "stdout",
     "output_type": "stream",
     "text": [
      "[1, 2, 3, 4, 5, 6, 8, 9, 7]\n"
     ]
    }
   ],
   "source": [
    "A = [1, 2, 3]\n",
    "B = (4, 5, 6)\n",
    "C = {7, 8, 9}\n",
    "L = [*A, *B, *C]\n",
    "print(L)\n",
    "# [1, 2, 3, 4, 5, 6, 8, 9, 7]"
   ]
  },
  {
   "attachments": {},
   "cell_type": "markdown",
   "metadata": {},
   "source": [
    "As stated above, the asterisks can be used as prefixes of iterables to unpack their items.\n",
    "\n",
    "Besides unpacking iterables, the asterisks can also be used for destructuring assignments in Python:"
   ]
  },
  {
   "cell_type": "code",
   "execution_count": 11,
   "metadata": {},
   "outputs": [
    {
     "name": "stdout",
     "output_type": "stream",
     "text": [
      "1 [2, 3, 4, 5] 6\n"
     ]
    }
   ],
   "source": [
    "a, *mid, b = [1, 2, 3, 4, 5, 6]\n",
    "print(a, mid, b)\n",
    "# 1 [2, 3, 4, 5] 6"
   ]
  }
 ],
 "metadata": {
  "kernelspec": {
   "display_name": "torch1.13.0",
   "language": "python",
   "name": "python3"
  },
  "language_info": {
   "codemirror_mode": {
    "name": "ipython",
    "version": 3
   },
   "file_extension": ".py",
   "mimetype": "text/x-python",
   "name": "python",
   "nbconvert_exporter": "python",
   "pygments_lexer": "ipython3",
   "version": "3.8.9"
  },
  "orig_nbformat": 4,
  "vscode": {
   "interpreter": {
    "hash": "244b52c780d94b616429aadbde29e2a1db21faa7d2cf5e7aa305dc90879c3934"
   }
  }
 },
 "nbformat": 4,
 "nbformat_minor": 2
}
