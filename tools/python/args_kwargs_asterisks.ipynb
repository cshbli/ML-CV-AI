{
 "cells": [
  {
   "attachments": {},
   "cell_type": "markdown",
   "metadata": {},
   "source": [
    "# Args, kwargs and Asterisks"
   ]
  },
  {
   "attachments": {},
   "cell_type": "markdown",
   "metadata": {},
   "source": [
    "## Unpacking Iterables\n",
    "\n",
    "By putting an asterisk in front of any iterable or a variable holding an iterable, you can break apart (unpack) all its elements."
   ]
  },
  {
   "cell_type": "code",
   "execution_count": 1,
   "metadata": {},
   "outputs": [
    {
     "name": "stdout",
     "output_type": "stream",
     "text": [
      "0 1 2 3 4 5 6 7 8 9 10 11 12 13 14 15 16 17 18 19 20 21 22 23 24\n"
     ]
    }
   ],
   "source": [
    "breakable_list = list(range(25))\n",
    "print(*breakable_list)"
   ]
  },
  {
   "cell_type": "code",
   "execution_count": 2,
   "metadata": {},
   "outputs": [
    {
     "name": "stdout",
     "output_type": "stream",
     "text": [
      "[0, 1, 2, 3, 4, 5, 6, 7, 8, 9, 10, 11, 12, 13, 14, 15, 16, 17, 18, 19, 20, 21, 22, 23, 24]\n"
     ]
    }
   ],
   "source": [
    "print(breakable_list)"
   ]
  },
  {
   "cell_type": "code",
   "execution_count": 3,
   "metadata": {},
   "outputs": [
    {
     "name": "stdout",
     "output_type": "stream",
     "text": [
      "R e a d a b i l i t y   c o u n t s\n"
     ]
    }
   ],
   "source": [
    "string = \"Readability counts\"\n",
    "print(*string)"
   ]
  },
  {
   "attachments": {},
   "cell_type": "markdown",
   "metadata": {},
   "source": [
    "## Dictionary Unpacking\n",
    "\n",
    "Scenario one — use the double asterisk `**` operator to unpack dictionaries (only dictionaries).\n",
    "\n",
    "This scenario has many variants, too. One of them is passing dictionary items as keyword arguments into functions.\n",
    "\n",
    "For example, consider the following author dictionary which contains the exact same keys as the arguments of the pretty_print function:"
   ]
  },
  {
   "cell_type": "code",
   "execution_count": 4,
   "metadata": {},
   "outputs": [],
   "source": [
    "author = {\"name\": \"Bex\", \"n_followers\": 17000, \"happy\": True}\n",
    "\n",
    "\n",
    "def pretty_print(name, n_followers, happy):\n",
    "    print(\n",
    "        f\"{name} has {n_followers} followers and \"\n",
    "        f\"he is {'happy' if True else 'unhappy'}!\"\n",
    "    )"
   ]
  },
  {
   "cell_type": "code",
   "execution_count": 5,
   "metadata": {},
   "outputs": [
    {
     "name": "stdout",
     "output_type": "stream",
     "text": [
      "Bex has 17000 followers and he is happy!\n"
     ]
    }
   ],
   "source": [
    "pretty_print(\n",
    "    name=author[\"name\"],\n",
    "    n_followers=author[\"n_followers\"],\n",
    "    happy=author[\"happy\"],\n",
    ")"
   ]
  },
  {
   "cell_type": "code",
   "execution_count": 6,
   "metadata": {},
   "outputs": [
    {
     "name": "stdout",
     "output_type": "stream",
     "text": [
      "Bex has 17000 followers and he is happy!\n"
     ]
    }
   ],
   "source": [
    "pretty_print(**author)"
   ]
  },
  {
   "attachments": {},
   "cell_type": "markdown",
   "metadata": {},
   "source": [
    "## Positional vs. keyword arguments\n",
    "\n",
    "Positional arguments love order while keyword arguments love explicitness."
   ]
  },
  {
   "cell_type": "code",
   "execution_count": null,
   "metadata": {},
   "outputs": [],
   "source": [
    "def total_price(\n",
    "    price: float,\n",
    "    quantity: int,\n",
    "    discount=0,\n",
    "    tax_rate=0,\n",
    "):\n",
    "    # The rest of the code\n",
    "    ..."
   ]
  },
  {
   "attachments": {},
   "cell_type": "markdown",
   "metadata": {},
   "source": [
    "<b>Positional arguments:</b>\n",
    "\n",
    "- Don’t have a default value like price and quantity.\n",
    "- Can’t be skipped. You should always provide values to them when calling functions.\n",
    "- Require order. You can’t switch two positionals if you want to make sense or avoid nasty errors.\n",
    "- Don’t care about names. They care about the position.\n",
    "- Keep function definitions short and sweet.\n",
    "- Can be hard to understand, especially when dealing with functions with many arguments.\n",
    "\n",
    "On the other hand, <b>keyword arguments:</b>\n",
    "\n",
    "- Always have a default value, which means you can skip them when calling functions.\n",
    "- Don’t care about the order. You can pick and choose any of them at any time, irrespective of the order they were defined in the function signature.\n",
    "- Offer precision and clarity. They let you explicitly specify which argument corresponds to which parameter.\n",
    "- Enhance function documentation. They serve as mini-labels of what they do."
   ]
  },
  {
   "attachments": {},
   "cell_type": "markdown",
   "metadata": {},
   "source": [
    "## Unknown number of positional arguments\n",
    "\n",
    "There is a common case of Python functions that don’t know how many positional arguments they require. For example, consider this one that calculates the geometric average of three numbers:"
   ]
  },
  {
   "cell_type": "code",
   "execution_count": 7,
   "metadata": {},
   "outputs": [
    {
     "data": {
      "text/plain": [
       "7.113786608980125"
      ]
     },
     "execution_count": 7,
     "metadata": {},
     "output_type": "execute_result"
    }
   ],
   "source": [
    "def geometric_average(a, b, c):\n",
    "    product = a * b * c\n",
    "    geometric_avg = product ** (1 / 3)\n",
    "\n",
    "    return geometric_avg\n",
    "\n",
    "geometric_average(5, 9, 8)"
   ]
  },
  {
   "attachments": {},
   "cell_type": "markdown",
   "metadata": {},
   "source": [
    "What happens if you want to generalize to four numbers? Or five? Or six? You know where I am going with this…\n",
    "\n",
    "We want the function to calculate the geometric average of as many numbers as we want.\n",
    "\n",
    "So, here is the second scenario of the asterisk operator: defining functions that accept an undefined number of positional arguments."
   ]
  },
  {
   "cell_type": "code",
   "execution_count": 8,
   "metadata": {},
   "outputs": [],
   "source": [
    "def geometric_average(*args):\n",
    "    print(\"That works.\")"
   ]
  },
  {
   "attachments": {},
   "cell_type": "markdown",
   "metadata": {},
   "source": [
    "You enter the second scenario by putting *args into a function definition, allowing you to pass however many values without raising any errors:"
   ]
  },
  {
   "cell_type": "code",
   "execution_count": 9,
   "metadata": {},
   "outputs": [
    {
     "name": "stdout",
     "output_type": "stream",
     "text": [
      "That works.\n"
     ]
    }
   ],
   "source": [
    "geometric_average(1, 2, 3, 4, 5, 6)"
   ]
  },
  {
   "attachments": {},
   "cell_type": "markdown",
   "metadata": {},
   "source": [
    "But what does *args actually mean?\n",
    "\n",
    "Under the hood, when we passed the six numbers separated by commas to geometric_average, *args collected them into a tuple:"
   ]
  },
  {
   "cell_type": "code",
   "execution_count": 10,
   "metadata": {},
   "outputs": [
    {
     "name": "stdout",
     "output_type": "stream",
     "text": [
      "<class 'tuple'>\n"
     ]
    }
   ],
   "source": [
    "def geometric_average(*args):\n",
    "    # Print the type of args\n",
    "    print(type(args))\n",
    "\n",
    "\n",
    "geometric_average(2, 1)"
   ]
  },
  {
   "attachments": {},
   "cell_type": "markdown",
   "metadata": {},
   "source": [
    "OK, since args is now a regular tuple, we can iterate over its elements and finish the rest of the function:"
   ]
  },
  {
   "cell_type": "code",
   "execution_count": 11,
   "metadata": {},
   "outputs": [
    {
     "data": {
      "text/plain": [
       "2.825234500494767"
      ]
     },
     "execution_count": 11,
     "metadata": {},
     "output_type": "execute_result"
    }
   ],
   "source": [
    "def geometric_average(*args):\n",
    "    product = 1\n",
    "    # Iterate over args\n",
    "    for num in args:\n",
    "        product *= num\n",
    "    geometric_avg = product ** (1 / len(args))\n",
    "\n",
    "    return geometric_avg\n",
    "\n",
    "\n",
    "geometric_average(2, 3, 5, 6, 1)"
   ]
  },
  {
   "attachments": {},
   "cell_type": "markdown",
   "metadata": {},
   "source": [
    "## Unknown number of keyword arguments\n",
    "\n",
    "The next (third) scenario is when a function can accept an arbitrary number of keyword arguments. And you guessed it, this is where `**kwargs` come in:"
   ]
  },
  {
   "cell_type": "code",
   "execution_count": null,
   "metadata": {},
   "outputs": [],
   "source": [
    "def pickle_model(model_object, path, **kwargs):\n",
    "    \"A function to pickle an ML model\"\n",
    "    ..."
   ]
  },
  {
   "attachments": {},
   "cell_type": "markdown",
   "metadata": {},
   "source": [
    "`pickle_model` saves machine learning models to disk in pickle format. It has two required positional arguments for the model object itself and the path to save it.\n",
    "\n",
    "Optionally, the user can pass whatever additional information about the model like hyperparameter values, the version number, model author, etc. as keyword arguments."
   ]
  },
  {
   "cell_type": "code",
   "execution_count": null,
   "metadata": {},
   "outputs": [],
   "source": [
    "pickle_model(\n",
    "    xgb_regressor,\n",
    "    \"models/xgb_regressor.pkl\",\n",
    "    hyperparameters={\"max_depth\": 3, \"eta\": 1},\n",
    "    author=\"bexgboost\",\n",
    "    version=\"v1.0.1\",\n",
    ")"
   ]
  },
  {
   "attachments": {},
   "cell_type": "markdown",
   "metadata": {},
   "source": [
    "Like args, kwargs is a name you can change to just about anything else:"
   ]
  },
  {
   "cell_type": "code",
   "execution_count": null,
   "metadata": {},
   "outputs": [],
   "source": [
    "def pickle_model(model_object, path, **metadata):\n",
    "    \"A function to pickle an ML model\"\n",
    "    print(type(metadata))\n",
    "\n",
    "pickle_model(xgb_regressor, \"models/xgb_reg.pkl\", author=\"bexgboost\")"
   ]
  },
  {
   "attachments": {},
   "cell_type": "markdown",
   "metadata": {},
   "source": [
    "But unlike `args`, `kwargs` is a dictionary. This means you can access its contents either through a look-up (this can lead to errors) or iterating with `.items()`:"
   ]
  },
  {
   "attachments": {},
   "cell_type": "markdown",
   "metadata": {},
   "source": [
    "## The order of everything\n",
    "\n",
    "There are a few rules you must follow when mixing arguments in both function signatures and calls:\n",
    "\n",
    "1. Positional arguments always come first."
   ]
  },
  {
   "cell_type": "code",
   "execution_count": 13,
   "metadata": {},
   "outputs": [],
   "source": [
    "def func(arg1, arg2, *args, **kwargs):\n",
    "    pass"
   ]
  },
  {
   "attachments": {},
   "cell_type": "markdown",
   "metadata": {},
   "source": [
    "2. Positional arguments can’t be skipped (already said that).\n",
    "3. `*args` and `**kwargs` can be skipped entirely when calling functions:"
   ]
  },
  {
   "cell_type": "code",
   "execution_count": 14,
   "metadata": {},
   "outputs": [],
   "source": [
    "func(1, 2)"
   ]
  },
  {
   "attachments": {},
   "cell_type": "markdown",
   "metadata": {},
   "source": [
    "In that case, args will be an empty list and kwargs will be an empty dictionary.\n",
    "\n",
    "4. All types of arguments can be stand-alone, meaning you don’t have to have a mix of arguments for a function:"
   ]
  },
  {
   "cell_type": "code",
   "execution_count": null,
   "metadata": {},
   "outputs": [],
   "source": [
    "# Only args itself\n",
    "def func(*args):\n",
    "    ..."
   ]
  },
  {
   "attachments": {},
   "cell_type": "markdown",
   "metadata": {},
   "source": [
    "5. You can’t pass positional arguments after keyword arguments:\n",
    "\n",
    "6. `*args` must always come after positional arguments and before keyword arguments.\n",
    "\n",
    "7. `**kwargs` should always be the last."
   ]
  },
  {
   "attachments": {},
   "cell_type": "markdown",
   "metadata": {},
   "source": [
    "## The grand scenario\n",
    "\n",
    "Even though not very grand, it is a handy trick introduced in latest versions of Python. Consider this function signature:"
   ]
  },
  {
   "cell_type": "code",
   "execution_count": 15,
   "metadata": {},
   "outputs": [],
   "source": [
    "def weird(arg, arg_again, *, default=1):\n",
    "    pass"
   ]
  },
  {
   "attachments": {},
   "cell_type": "markdown",
   "metadata": {},
   "source": [
    "Right in the middle of everything, we see an asterisk standing on its own, not attached to anything. What does it mean?\n",
    "\n",
    "This `asterisk-on-its-own` syntax forces you to use keyword arguments explicitly all the time. For example, let’s define weird without the asterisk and call it:"
   ]
  },
  {
   "cell_type": "code",
   "execution_count": 16,
   "metadata": {},
   "outputs": [],
   "source": [
    "def weird(arg, arg_again, default=1):\n",
    "    pass\n",
    "\n",
    "weird(1, 2, 3)"
   ]
  },
  {
   "attachments": {},
   "cell_type": "markdown",
   "metadata": {},
   "source": [
    "No errors. For default, we passed 3 but didn't write default=3 to make the call shorter.\n",
    "\n",
    "Now, let’s try the same with asterisk present:"
   ]
  },
  {
   "cell_type": "code",
   "execution_count": 17,
   "metadata": {},
   "outputs": [
    {
     "ename": "TypeError",
     "evalue": "weird() takes 2 positional arguments but 3 were given",
     "output_type": "error",
     "traceback": [
      "\u001b[0;31m---------------------------------------------------------------------------\u001b[0m",
      "\u001b[0;31mTypeError\u001b[0m                                 Traceback (most recent call last)",
      "Cell \u001b[0;32mIn[17], line 4\u001b[0m\n\u001b[1;32m      1\u001b[0m \u001b[39mdef\u001b[39;00m \u001b[39mweird\u001b[39m(arg, arg_again, \u001b[39m*\u001b[39m, default\u001b[39m=\u001b[39m\u001b[39m1\u001b[39m):\n\u001b[1;32m      2\u001b[0m     \u001b[39mpass\u001b[39;00m\n\u001b[0;32m----> 4\u001b[0m weird(\u001b[39m1\u001b[39;49m, \u001b[39m2\u001b[39;49m, \u001b[39m3\u001b[39;49m)\n",
      "\u001b[0;31mTypeError\u001b[0m: weird() takes 2 positional arguments but 3 were given"
     ]
    }
   ],
   "source": [
    "def weird(arg, arg_again, *, default=1):\n",
    "    pass\n",
    "\n",
    "weird(1, 2, 3)"
   ]
  },
  {
   "attachments": {},
   "cell_type": "markdown",
   "metadata": {},
   "source": [
    "We get a TypeError! It is telling us that we passed one too many positional arguments. In other words, we must use the following syntax:"
   ]
  },
  {
   "cell_type": "code",
   "execution_count": 18,
   "metadata": {},
   "outputs": [],
   "source": [
    "weird(1, 2, default=3)"
   ]
  },
  {
   "attachments": {},
   "cell_type": "markdown",
   "metadata": {},
   "source": [
    "## Various tricks with unpacking\n",
    "\n",
    "Asterisk unpacking can be used in many ways other than functions signatures and calls. In this section, I will list a few of them without going too much into the details.\n",
    "\n",
    "0. Merging two iterables:"
   ]
  },
  {
   "cell_type": "code",
   "execution_count": 19,
   "metadata": {},
   "outputs": [],
   "source": [
    "a = [1, 2, 3]\n",
    "b = [4, 5, 6]\n",
    "\n",
    "x_dict = {\"a\": 1, \"b\": 0}\n",
    "y_dict = {\"c\": 10, \"d\": 10}"
   ]
  },
  {
   "cell_type": "code",
   "execution_count": 20,
   "metadata": {},
   "outputs": [
    {
     "data": {
      "text/plain": [
       "[1, 2, 3, 4, 5, 6]"
      ]
     },
     "execution_count": 20,
     "metadata": {},
     "output_type": "execute_result"
    }
   ],
   "source": [
    "# Merge lists\n",
    "[*a, *b]"
   ]
  },
  {
   "cell_type": "code",
   "execution_count": 21,
   "metadata": {},
   "outputs": [
    {
     "data": {
      "text/plain": [
       "{'a': 1, 'b': 0, 'c': 10, 'd': 10}"
      ]
     },
     "execution_count": 21,
     "metadata": {},
     "output_type": "execute_result"
    }
   ],
   "source": [
    "# Merge dictionaries\n",
    "{**x_dict, **y_dict}"
   ]
  },
  {
   "cell_type": "markdown",
   "metadata": {},
   "source": [
    "1. Extending iterables"
   ]
  },
  {
   "cell_type": "code",
   "execution_count": 1,
   "metadata": {},
   "outputs": [
    {
     "data": {
      "text/plain": [
       "[1, 2, 3, 'c', 'd', 'n']"
      ]
     },
     "execution_count": 1,
     "metadata": {},
     "output_type": "execute_result"
    }
   ],
   "source": [
    "a = [1, 2, 3]\n",
    "b = [*a, \"c\", \"d\", \"n\"]\n",
    "\n",
    "b"
   ]
  },
  {
   "attachments": {},
   "cell_type": "markdown",
   "metadata": {},
   "source": [
    "## References\n",
    "\n",
    "- [Clearing the Confusion Once And For All: args, kwargs, And Asterisks in Python](https://towardsdatascience.com/clearing-the-confusion-once-and-for-all-args-kwargs-and-asterisks-in-python-a905c36467a2)"
   ]
  }
 ],
 "metadata": {
  "kernelspec": {
   "display_name": "torch1.13.0",
   "language": "python",
   "name": "python3"
  },
  "language_info": {
   "codemirror_mode": {
    "name": "ipython",
    "version": 3
   },
   "file_extension": ".py",
   "mimetype": "text/x-python",
   "name": "python",
   "nbconvert_exporter": "python",
   "pygments_lexer": "ipython3",
   "version": "3.9.6"
  },
  "orig_nbformat": 4
 },
 "nbformat": 4,
 "nbformat_minor": 2
}
