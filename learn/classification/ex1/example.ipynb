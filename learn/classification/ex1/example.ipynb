{
 "cells": [
  {
   "cell_type": "markdown",
   "metadata": {},
   "source": [
    "# Classification using DNN\n",
    "\n",
    "\n",
    "## Problem\n",
    "     Apply classification for data points where quality in (4,7) after PCA\n",
    "\n",
    "## Approach\n",
    "\n",
    "   Applied the following techniques from [TensorFlow](https://www.tensorflow.org) library <br>\n",
    "   Techniques : [DNNClassifier](https://www.tensorflow.org/api_docs/python/tf/estimator/DNNClassifier), [LinearClassifier](https://www.tensorflow.org/api_docs/python/tf/estimator/LinearClassifier)\n",
    "\n",
    "   Evaluated with the following metrics <br>\n",
    "   Metrics    : Confusion Matrix, f1-score, precision, recall\n",
    "    \n",
    "## Data\n",
    "[Wine Quality Dataset](https://archive.ics.uci.edu/ml/datasets/wine+quality) \n",
    "\n",
    "Description of data (based on physicochemical tests): \n",
    "\n",
    "| Input                | Description |\n",
    "| :---                 | :---        |\n",
    "| fixed acidity        | most acids involved with wine or fixed or nonvolatile (do not evaporate readily) |\n",
    "| volatile acidity     | the amount of acetic acid in wine, which at too high of levels can lead to an unpleasant, vinegar taste |\n",
    "| citric acid          | found in small quantities, citric acid can add 'freshness' and flavor to wines |\n",
    "| residual sugar       | the amount of sugar remaining after fermentation stops, it's rare to find wines with less than 1 gram/liter and wines with greater than 45 grams/liter are considered sweet  |\n",
    "| chlorides            | the amount of salt in the wine|\n",
    "| free sulfur dioxide  | the free form of SO2 exists in equilibrium between molecular SO2 (as a dissolved gas) and bisulfite ion; it prevents microbial growth and the oxidation of wine |\n",
    "| total sulfur dioxide | amount of free and bound forms of S02; in low concentrations, SO2 is mostly undetectable in wine, but at free SO2 concentrations over 50 ppm, SO2 becomes evident in the nose and taste of wine |\n",
    "| density              | the density of water is close to that of water depending on the percent alcohol and sugar content |\n",
    "| pH                   | describes how acidic or basic a wine is on a scale from 0 (very acidic) to 14 (very basic); most wines are between 3-4 on the pH scale |\n",
    "| sulphates            | a wine additive which can contribute to sulfur dioxide gas (S02) levels, wich acts as an antimicrobial and antioxidant |\n",
    "| alcohol              | the percent alcohol content of the wine |\n",
    "|                      |   |\n",
    "|                      |\n",
    "| <b>Output</b>               | <b>Description</b> |\n",
    "| quality              | Output variable (based on sensory data), (score between 0 and 10) |\n",
    "\n",
    "\n",
    "### References\n",
    "   1. [DNNClassifier](https://www.tensorflow.org/api_docs/python/tf/estimator/DNNClassifier)\n",
    "   1. [LinearClassifier](https://www.tensorflow.org/api_docs/python/tf/estimator/LinearClassifier)\n",
    "   1. [Confusion Matrix](https://scikit-learn.org/stable/modules/generated/sklearn.metrics.confusion_matrix.html)\n",
    "   1. [f1-score, precision, recall](https://scikit-learn.org/stable/modules/generated/sklearn.metrics.classification_report.html)"
   ]
  },
  {
   "cell_type": "code",
   "execution_count": 1,
   "metadata": {
    "collapsed": true
   },
   "outputs": [],
   "source": [
    "import numpy as np\n",
    "import pandas as pd\n",
    "\n",
    "# Visualization libraries\n",
    "import matplotlib.pyplot as plt\n",
    "import seaborn as sns\n",
    "\n",
    "# Scaler\n",
    "from sklearn.preprocessing import StandardScaler\n",
    "\n",
    "# PCA\n",
    "from sklearn.decomposition import PCA\n",
    "\n",
    "# Train-Test data split\n",
    "from sklearn.model_selection import train_test_split\n",
    "\n",
    "# TensorFlow for Classification\n",
    "import tensorflow as tf\n",
    "\n",
    "# Metrics\n",
    "from sklearn.metrics import classification_report,confusion_matrix\n",
    "from sklearn.metrics import precision_recall_fscore_support\n",
    "\n",
    "%matplotlib inline\n",
    "tf.logging.set_verbosity(tf.logging.ERROR)"
   ]
  },
  {
   "cell_type": "code",
   "execution_count": 2,
   "metadata": {
    "collapsed": true
   },
   "outputs": [],
   "source": [
    "data = pd.read_csv('./data/winequality-red.csv',sep=';')"
   ]
  },
  {
   "cell_type": "code",
   "execution_count": 3,
   "metadata": {},
   "outputs": [
    {
     "name": "stdout",
     "output_type": "stream",
     "text": [
      "<class 'pandas.core.frame.DataFrame'>\n",
      "RangeIndex: 1599 entries, 0 to 1598\n",
      "Data columns (total 12 columns):\n",
      "fixed acidity           1599 non-null float64\n",
      "volatile acidity        1599 non-null float64\n",
      "citric acid             1599 non-null float64\n",
      "residual sugar          1599 non-null float64\n",
      "chlorides               1599 non-null float64\n",
      "free sulfur dioxide     1599 non-null float64\n",
      "total sulfur dioxide    1599 non-null float64\n",
      "density                 1599 non-null float64\n",
      "pH                      1599 non-null float64\n",
      "sulphates               1599 non-null float64\n",
      "alcohol                 1599 non-null float64\n",
      "quality                 1599 non-null int64\n",
      "dtypes: float64(11), int64(1)\n",
      "memory usage: 150.0 KB\n"
     ]
    }
   ],
   "source": [
    "data.info()"
   ]
  },
  {
   "cell_type": "markdown",
   "metadata": {},
   "source": [
    "There is no missing value in independent variables. All independent variables are numerical. "
   ]
  },
  {
   "cell_type": "code",
   "execution_count": 4,
   "metadata": {},
   "outputs": [
    {
     "data": {
      "text/html": [
       "<div>\n",
       "<style>\n",
       "    .dataframe thead tr:only-child th {\n",
       "        text-align: right;\n",
       "    }\n",
       "\n",
       "    .dataframe thead th {\n",
       "        text-align: left;\n",
       "    }\n",
       "\n",
       "    .dataframe tbody tr th {\n",
       "        vertical-align: top;\n",
       "    }\n",
       "</style>\n",
       "<table border=\"1\" class=\"dataframe\">\n",
       "  <thead>\n",
       "    <tr style=\"text-align: right;\">\n",
       "      <th></th>\n",
       "      <th>fixed acidity</th>\n",
       "      <th>volatile acidity</th>\n",
       "      <th>citric acid</th>\n",
       "      <th>residual sugar</th>\n",
       "      <th>chlorides</th>\n",
       "      <th>free sulfur dioxide</th>\n",
       "      <th>total sulfur dioxide</th>\n",
       "      <th>density</th>\n",
       "      <th>pH</th>\n",
       "      <th>sulphates</th>\n",
       "      <th>alcohol</th>\n",
       "      <th>quality</th>\n",
       "    </tr>\n",
       "  </thead>\n",
       "  <tbody>\n",
       "    <tr>\n",
       "      <th>0</th>\n",
       "      <td>7.4</td>\n",
       "      <td>0.70</td>\n",
       "      <td>0.00</td>\n",
       "      <td>1.9</td>\n",
       "      <td>0.076</td>\n",
       "      <td>11.0</td>\n",
       "      <td>34.0</td>\n",
       "      <td>0.9978</td>\n",
       "      <td>3.51</td>\n",
       "      <td>0.56</td>\n",
       "      <td>9.4</td>\n",
       "      <td>5</td>\n",
       "    </tr>\n",
       "    <tr>\n",
       "      <th>1</th>\n",
       "      <td>7.8</td>\n",
       "      <td>0.88</td>\n",
       "      <td>0.00</td>\n",
       "      <td>2.6</td>\n",
       "      <td>0.098</td>\n",
       "      <td>25.0</td>\n",
       "      <td>67.0</td>\n",
       "      <td>0.9968</td>\n",
       "      <td>3.20</td>\n",
       "      <td>0.68</td>\n",
       "      <td>9.8</td>\n",
       "      <td>5</td>\n",
       "    </tr>\n",
       "    <tr>\n",
       "      <th>2</th>\n",
       "      <td>7.8</td>\n",
       "      <td>0.76</td>\n",
       "      <td>0.04</td>\n",
       "      <td>2.3</td>\n",
       "      <td>0.092</td>\n",
       "      <td>15.0</td>\n",
       "      <td>54.0</td>\n",
       "      <td>0.9970</td>\n",
       "      <td>3.26</td>\n",
       "      <td>0.65</td>\n",
       "      <td>9.8</td>\n",
       "      <td>5</td>\n",
       "    </tr>\n",
       "    <tr>\n",
       "      <th>3</th>\n",
       "      <td>11.2</td>\n",
       "      <td>0.28</td>\n",
       "      <td>0.56</td>\n",
       "      <td>1.9</td>\n",
       "      <td>0.075</td>\n",
       "      <td>17.0</td>\n",
       "      <td>60.0</td>\n",
       "      <td>0.9980</td>\n",
       "      <td>3.16</td>\n",
       "      <td>0.58</td>\n",
       "      <td>9.8</td>\n",
       "      <td>6</td>\n",
       "    </tr>\n",
       "    <tr>\n",
       "      <th>4</th>\n",
       "      <td>7.4</td>\n",
       "      <td>0.70</td>\n",
       "      <td>0.00</td>\n",
       "      <td>1.9</td>\n",
       "      <td>0.076</td>\n",
       "      <td>11.0</td>\n",
       "      <td>34.0</td>\n",
       "      <td>0.9978</td>\n",
       "      <td>3.51</td>\n",
       "      <td>0.56</td>\n",
       "      <td>9.4</td>\n",
       "      <td>5</td>\n",
       "    </tr>\n",
       "  </tbody>\n",
       "</table>\n",
       "</div>"
      ],
      "text/plain": [
       "   fixed acidity  volatile acidity  citric acid  residual sugar  chlorides  \\\n",
       "0            7.4              0.70         0.00             1.9      0.076   \n",
       "1            7.8              0.88         0.00             2.6      0.098   \n",
       "2            7.8              0.76         0.04             2.3      0.092   \n",
       "3           11.2              0.28         0.56             1.9      0.075   \n",
       "4            7.4              0.70         0.00             1.9      0.076   \n",
       "\n",
       "   free sulfur dioxide  total sulfur dioxide  density    pH  sulphates  \\\n",
       "0                 11.0                  34.0   0.9978  3.51       0.56   \n",
       "1                 25.0                  67.0   0.9968  3.20       0.68   \n",
       "2                 15.0                  54.0   0.9970  3.26       0.65   \n",
       "3                 17.0                  60.0   0.9980  3.16       0.58   \n",
       "4                 11.0                  34.0   0.9978  3.51       0.56   \n",
       "\n",
       "   alcohol  quality  \n",
       "0      9.4        5  \n",
       "1      9.8        5  \n",
       "2      9.8        5  \n",
       "3      9.8        6  \n",
       "4      9.4        5  "
      ]
     },
     "execution_count": 4,
     "metadata": {},
     "output_type": "execute_result"
    }
   ],
   "source": [
    "data.head()"
   ]
  },
  {
   "cell_type": "markdown",
   "metadata": {},
   "source": [
    "## Exploratory Data Analysis (EDA) (<i>very short</i>)"
   ]
  },
  {
   "cell_type": "markdown",
   "metadata": {},
   "source": [
    "Statistical summary of each indendent variable and output('quality'). <br> "
   ]
  },
  {
   "cell_type": "code",
   "execution_count": 5,
   "metadata": {},
   "outputs": [
    {
     "data": {
      "text/html": [
       "<div>\n",
       "<style>\n",
       "    .dataframe thead tr:only-child th {\n",
       "        text-align: right;\n",
       "    }\n",
       "\n",
       "    .dataframe thead th {\n",
       "        text-align: left;\n",
       "    }\n",
       "\n",
       "    .dataframe tbody tr th {\n",
       "        vertical-align: top;\n",
       "    }\n",
       "</style>\n",
       "<table border=\"1\" class=\"dataframe\">\n",
       "  <thead>\n",
       "    <tr style=\"text-align: right;\">\n",
       "      <th></th>\n",
       "      <th>fixed acidity</th>\n",
       "      <th>volatile acidity</th>\n",
       "      <th>citric acid</th>\n",
       "      <th>residual sugar</th>\n",
       "      <th>chlorides</th>\n",
       "      <th>free sulfur dioxide</th>\n",
       "      <th>total sulfur dioxide</th>\n",
       "      <th>density</th>\n",
       "      <th>pH</th>\n",
       "      <th>sulphates</th>\n",
       "      <th>alcohol</th>\n",
       "      <th>quality</th>\n",
       "    </tr>\n",
       "  </thead>\n",
       "  <tbody>\n",
       "    <tr>\n",
       "      <th>count</th>\n",
       "      <td>1599.000000</td>\n",
       "      <td>1599.000000</td>\n",
       "      <td>1599.000000</td>\n",
       "      <td>1599.000000</td>\n",
       "      <td>1599.000000</td>\n",
       "      <td>1599.000000</td>\n",
       "      <td>1599.000000</td>\n",
       "      <td>1599.000000</td>\n",
       "      <td>1599.000000</td>\n",
       "      <td>1599.000000</td>\n",
       "      <td>1599.000000</td>\n",
       "      <td>1599.000000</td>\n",
       "    </tr>\n",
       "    <tr>\n",
       "      <th>mean</th>\n",
       "      <td>8.319637</td>\n",
       "      <td>0.527821</td>\n",
       "      <td>0.270976</td>\n",
       "      <td>2.538806</td>\n",
       "      <td>0.087467</td>\n",
       "      <td>15.874922</td>\n",
       "      <td>46.467792</td>\n",
       "      <td>0.996747</td>\n",
       "      <td>3.311113</td>\n",
       "      <td>0.658149</td>\n",
       "      <td>10.422983</td>\n",
       "      <td>5.636023</td>\n",
       "    </tr>\n",
       "    <tr>\n",
       "      <th>std</th>\n",
       "      <td>1.741096</td>\n",
       "      <td>0.179060</td>\n",
       "      <td>0.194801</td>\n",
       "      <td>1.409928</td>\n",
       "      <td>0.047065</td>\n",
       "      <td>10.460157</td>\n",
       "      <td>32.895324</td>\n",
       "      <td>0.001887</td>\n",
       "      <td>0.154386</td>\n",
       "      <td>0.169507</td>\n",
       "      <td>1.065668</td>\n",
       "      <td>0.807569</td>\n",
       "    </tr>\n",
       "    <tr>\n",
       "      <th>min</th>\n",
       "      <td>4.600000</td>\n",
       "      <td>0.120000</td>\n",
       "      <td>0.000000</td>\n",
       "      <td>0.900000</td>\n",
       "      <td>0.012000</td>\n",
       "      <td>1.000000</td>\n",
       "      <td>6.000000</td>\n",
       "      <td>0.990070</td>\n",
       "      <td>2.740000</td>\n",
       "      <td>0.330000</td>\n",
       "      <td>8.400000</td>\n",
       "      <td>3.000000</td>\n",
       "    </tr>\n",
       "    <tr>\n",
       "      <th>25%</th>\n",
       "      <td>7.100000</td>\n",
       "      <td>0.390000</td>\n",
       "      <td>0.090000</td>\n",
       "      <td>1.900000</td>\n",
       "      <td>0.070000</td>\n",
       "      <td>7.000000</td>\n",
       "      <td>22.000000</td>\n",
       "      <td>0.995600</td>\n",
       "      <td>3.210000</td>\n",
       "      <td>0.550000</td>\n",
       "      <td>9.500000</td>\n",
       "      <td>5.000000</td>\n",
       "    </tr>\n",
       "    <tr>\n",
       "      <th>50%</th>\n",
       "      <td>7.900000</td>\n",
       "      <td>0.520000</td>\n",
       "      <td>0.260000</td>\n",
       "      <td>2.200000</td>\n",
       "      <td>0.079000</td>\n",
       "      <td>14.000000</td>\n",
       "      <td>38.000000</td>\n",
       "      <td>0.996750</td>\n",
       "      <td>3.310000</td>\n",
       "      <td>0.620000</td>\n",
       "      <td>10.200000</td>\n",
       "      <td>6.000000</td>\n",
       "    </tr>\n",
       "    <tr>\n",
       "      <th>75%</th>\n",
       "      <td>9.200000</td>\n",
       "      <td>0.640000</td>\n",
       "      <td>0.420000</td>\n",
       "      <td>2.600000</td>\n",
       "      <td>0.090000</td>\n",
       "      <td>21.000000</td>\n",
       "      <td>62.000000</td>\n",
       "      <td>0.997835</td>\n",
       "      <td>3.400000</td>\n",
       "      <td>0.730000</td>\n",
       "      <td>11.100000</td>\n",
       "      <td>6.000000</td>\n",
       "    </tr>\n",
       "    <tr>\n",
       "      <th>max</th>\n",
       "      <td>15.900000</td>\n",
       "      <td>1.580000</td>\n",
       "      <td>1.000000</td>\n",
       "      <td>15.500000</td>\n",
       "      <td>0.611000</td>\n",
       "      <td>72.000000</td>\n",
       "      <td>289.000000</td>\n",
       "      <td>1.003690</td>\n",
       "      <td>4.010000</td>\n",
       "      <td>2.000000</td>\n",
       "      <td>14.900000</td>\n",
       "      <td>8.000000</td>\n",
       "    </tr>\n",
       "  </tbody>\n",
       "</table>\n",
       "</div>"
      ],
      "text/plain": [
       "       fixed acidity  volatile acidity  citric acid  residual sugar  \\\n",
       "count    1599.000000       1599.000000  1599.000000     1599.000000   \n",
       "mean        8.319637          0.527821     0.270976        2.538806   \n",
       "std         1.741096          0.179060     0.194801        1.409928   \n",
       "min         4.600000          0.120000     0.000000        0.900000   \n",
       "25%         7.100000          0.390000     0.090000        1.900000   \n",
       "50%         7.900000          0.520000     0.260000        2.200000   \n",
       "75%         9.200000          0.640000     0.420000        2.600000   \n",
       "max        15.900000          1.580000     1.000000       15.500000   \n",
       "\n",
       "         chlorides  free sulfur dioxide  total sulfur dioxide      density  \\\n",
       "count  1599.000000          1599.000000           1599.000000  1599.000000   \n",
       "mean      0.087467            15.874922             46.467792     0.996747   \n",
       "std       0.047065            10.460157             32.895324     0.001887   \n",
       "min       0.012000             1.000000              6.000000     0.990070   \n",
       "25%       0.070000             7.000000             22.000000     0.995600   \n",
       "50%       0.079000            14.000000             38.000000     0.996750   \n",
       "75%       0.090000            21.000000             62.000000     0.997835   \n",
       "max       0.611000            72.000000            289.000000     1.003690   \n",
       "\n",
       "                pH    sulphates      alcohol      quality  \n",
       "count  1599.000000  1599.000000  1599.000000  1599.000000  \n",
       "mean      3.311113     0.658149    10.422983     5.636023  \n",
       "std       0.154386     0.169507     1.065668     0.807569  \n",
       "min       2.740000     0.330000     8.400000     3.000000  \n",
       "25%       3.210000     0.550000     9.500000     5.000000  \n",
       "50%       3.310000     0.620000    10.200000     6.000000  \n",
       "75%       3.400000     0.730000    11.100000     6.000000  \n",
       "max       4.010000     2.000000    14.900000     8.000000  "
      ]
     },
     "execution_count": 5,
     "metadata": {},
     "output_type": "execute_result"
    }
   ],
   "source": [
    "data.describe()"
   ]
  },
  {
   "cell_type": "markdown",
   "metadata": {},
   "source": [
    "The min value of <b>quality</b> is 3 and max value of <b>quality</b> is 8. "
   ]
  },
  {
   "cell_type": "code",
   "execution_count": 6,
   "metadata": {},
   "outputs": [
    {
     "data": {
      "text/html": [
       "<div>\n",
       "<style>\n",
       "    .dataframe thead tr:only-child th {\n",
       "        text-align: right;\n",
       "    }\n",
       "\n",
       "    .dataframe thead th {\n",
       "        text-align: left;\n",
       "    }\n",
       "\n",
       "    .dataframe tbody tr th {\n",
       "        vertical-align: top;\n",
       "    }\n",
       "</style>\n",
       "<table border=\"1\" class=\"dataframe\">\n",
       "  <thead>\n",
       "    <tr style=\"text-align: right;\">\n",
       "      <th></th>\n",
       "      <th>quality</th>\n",
       "      <th>count</th>\n",
       "      <th>percentage of observations</th>\n",
       "    </tr>\n",
       "  </thead>\n",
       "  <tbody>\n",
       "    <tr>\n",
       "      <th>0</th>\n",
       "      <td>5</td>\n",
       "      <td>681</td>\n",
       "      <td>42.589118</td>\n",
       "    </tr>\n",
       "    <tr>\n",
       "      <th>1</th>\n",
       "      <td>6</td>\n",
       "      <td>638</td>\n",
       "      <td>39.899937</td>\n",
       "    </tr>\n",
       "    <tr>\n",
       "      <th>2</th>\n",
       "      <td>7</td>\n",
       "      <td>199</td>\n",
       "      <td>12.445278</td>\n",
       "    </tr>\n",
       "    <tr>\n",
       "      <th>3</th>\n",
       "      <td>4</td>\n",
       "      <td>53</td>\n",
       "      <td>3.314572</td>\n",
       "    </tr>\n",
       "    <tr>\n",
       "      <th>4</th>\n",
       "      <td>8</td>\n",
       "      <td>18</td>\n",
       "      <td>1.125704</td>\n",
       "    </tr>\n",
       "    <tr>\n",
       "      <th>5</th>\n",
       "      <td>3</td>\n",
       "      <td>10</td>\n",
       "      <td>0.625391</td>\n",
       "    </tr>\n",
       "  </tbody>\n",
       "</table>\n",
       "</div>"
      ],
      "text/plain": [
       "   quality  count  percentage of observations\n",
       "0        5    681                   42.589118\n",
       "1        6    638                   39.899937\n",
       "2        7    199                   12.445278\n",
       "3        4     53                    3.314572\n",
       "4        8     18                    1.125704\n",
       "5        3     10                    0.625391"
      ]
     },
     "execution_count": 6,
     "metadata": {},
     "output_type": "execute_result"
    }
   ],
   "source": [
    "d = data['quality'].value_counts()\n",
    "pd_d = pd.DataFrame(d.index,index=None,columns=['quality'])\n",
    "pd_d['count'] = d.values\n",
    "pd_d['percentage of observations'] = 100*d.values/(d.values.sum())\n",
    "pd_d"
   ]
  },
  {
   "cell_type": "markdown",
   "metadata": {},
   "source": [
    "Majority of observations are in class 5 and 6. "
   ]
  },
  {
   "cell_type": "code",
   "execution_count": 7,
   "metadata": {},
   "outputs": [
    {
     "data": {
      "text/plain": [
       "<matplotlib.axes._subplots.AxesSubplot at 0x2670bddceb8>"
      ]
     },
     "execution_count": 7,
     "metadata": {},
     "output_type": "execute_result"
    },
    {
     "data": {
      "image/png": "[encoded data removed]",
      "text/plain": [
       "<matplotlib.figure.Figure at 0x2670bddc588>"
      ]
     },
     "metadata": {},
     "output_type": "display_data"
    }
   ],
   "source": [
    "sns.countplot(data.quality,order=data['quality'].value_counts().index)"
   ]
  },
  {
   "cell_type": "code",
   "execution_count": 8,
   "metadata": {},
   "outputs": [
    {
     "data": {
      "text/plain": [
       "<matplotlib.axes._subplots.AxesSubplot at 0x2670bfd3c18>"
      ]
     },
     "execution_count": 8,
     "metadata": {},
     "output_type": "execute_result"
    },
    {
     "data": {
      "image/png": "[encoded data removed]",
      "text/plain": [
       "<matplotlib.figure.Figure at 0x2670bfbba20>"
      ]
     },
     "metadata": {},
     "output_type": "display_data"
    }
   ],
   "source": [
    "# Set a larger display area\n",
    "plt.figure(figsize=(12,8))\n",
    "sns.distplot(data[data['quality']==3].alcohol,color='b',kde_kws = {'linewidth': 3,\"label\":\"quality=3\"})\n",
    "sns.distplot(data[data['quality']==4].alcohol,color='g',kde_kws = {'linewidth': 3,\"label\":\"quality=4\"})\n",
    "sns.distplot(data[data['quality']==5].alcohol,color='y',kde_kws = {'linewidth': 3,\"label\":\"quality=5\"})\n",
    "sns.distplot(data[data['quality']==6].alcohol,color='r',kde_kws = {'linewidth': 3,\"label\":\"quality=6\"})\n",
    "sns.distplot(data[data['quality']==7].alcohol,color='m',kde_kws = {'linewidth': 3,\"label\":\"quality=7\"})\n",
    "sns.distplot(data[data['quality']==8].alcohol,color='c',kde_kws = {'linewidth': 3,\"label\":\"quality=8\"},\n",
    "             axlabel='Histogram of alcohol variable for each quality class')"
   ]
  },
  {
   "cell_type": "code",
   "execution_count": 9,
   "metadata": {
    "collapsed": true
   },
   "outputs": [],
   "source": [
    "data_47 = data[(data['quality']==4) | (data['quality']==7) ]"
   ]
  },
  {
   "cell_type": "code",
   "execution_count": 10,
   "metadata": {
    "collapsed": true
   },
   "outputs": [],
   "source": [
    "# PCA\n",
    "X = data_47[data_47.columns[:11]]\n",
    "y = data_47['quality']"
   ]
  },
  {
   "cell_type": "code",
   "execution_count": 11,
   "metadata": {},
   "outputs": [
    {
     "data": {
      "text/html": [
       "<div>\n",
       "<style>\n",
       "    .dataframe thead tr:only-child th {\n",
       "        text-align: right;\n",
       "    }\n",
       "\n",
       "    .dataframe thead th {\n",
       "        text-align: left;\n",
       "    }\n",
       "\n",
       "    .dataframe tbody tr th {\n",
       "        vertical-align: top;\n",
       "    }\n",
       "</style>\n",
       "<table border=\"1\" class=\"dataframe\">\n",
       "  <thead>\n",
       "    <tr style=\"text-align: right;\">\n",
       "      <th></th>\n",
       "      <th>fixed acidity</th>\n",
       "      <th>volatile acidity</th>\n",
       "      <th>citric acid</th>\n",
       "      <th>residual sugar</th>\n",
       "      <th>chlorides</th>\n",
       "      <th>free sulfur dioxide</th>\n",
       "      <th>total sulfur dioxide</th>\n",
       "      <th>density</th>\n",
       "      <th>pH</th>\n",
       "      <th>sulphates</th>\n",
       "      <th>alcohol</th>\n",
       "    </tr>\n",
       "  </thead>\n",
       "  <tbody>\n",
       "    <tr>\n",
       "      <th>7</th>\n",
       "      <td>7.3</td>\n",
       "      <td>0.65</td>\n",
       "      <td>0.00</td>\n",
       "      <td>1.2</td>\n",
       "      <td>0.065</td>\n",
       "      <td>15.0</td>\n",
       "      <td>21.0</td>\n",
       "      <td>0.9946</td>\n",
       "      <td>3.39</td>\n",
       "      <td>0.47</td>\n",
       "      <td>10.0</td>\n",
       "    </tr>\n",
       "    <tr>\n",
       "      <th>8</th>\n",
       "      <td>7.8</td>\n",
       "      <td>0.58</td>\n",
       "      <td>0.02</td>\n",
       "      <td>2.0</td>\n",
       "      <td>0.073</td>\n",
       "      <td>9.0</td>\n",
       "      <td>18.0</td>\n",
       "      <td>0.9968</td>\n",
       "      <td>3.36</td>\n",
       "      <td>0.57</td>\n",
       "      <td>9.5</td>\n",
       "    </tr>\n",
       "    <tr>\n",
       "      <th>16</th>\n",
       "      <td>8.5</td>\n",
       "      <td>0.28</td>\n",
       "      <td>0.56</td>\n",
       "      <td>1.8</td>\n",
       "      <td>0.092</td>\n",
       "      <td>35.0</td>\n",
       "      <td>103.0</td>\n",
       "      <td>0.9969</td>\n",
       "      <td>3.30</td>\n",
       "      <td>0.75</td>\n",
       "      <td>10.5</td>\n",
       "    </tr>\n",
       "    <tr>\n",
       "      <th>18</th>\n",
       "      <td>7.4</td>\n",
       "      <td>0.59</td>\n",
       "      <td>0.08</td>\n",
       "      <td>4.4</td>\n",
       "      <td>0.086</td>\n",
       "      <td>6.0</td>\n",
       "      <td>29.0</td>\n",
       "      <td>0.9974</td>\n",
       "      <td>3.38</td>\n",
       "      <td>0.50</td>\n",
       "      <td>9.0</td>\n",
       "    </tr>\n",
       "    <tr>\n",
       "      <th>37</th>\n",
       "      <td>8.1</td>\n",
       "      <td>0.38</td>\n",
       "      <td>0.28</td>\n",
       "      <td>2.1</td>\n",
       "      <td>0.066</td>\n",
       "      <td>13.0</td>\n",
       "      <td>30.0</td>\n",
       "      <td>0.9968</td>\n",
       "      <td>3.23</td>\n",
       "      <td>0.73</td>\n",
       "      <td>9.7</td>\n",
       "    </tr>\n",
       "  </tbody>\n",
       "</table>\n",
       "</div>"
      ],
      "text/plain": [
       "    fixed acidity  volatile acidity  citric acid  residual sugar  chlorides  \\\n",
       "7             7.3              0.65         0.00             1.2      0.065   \n",
       "8             7.8              0.58         0.02             2.0      0.073   \n",
       "16            8.5              0.28         0.56             1.8      0.092   \n",
       "18            7.4              0.59         0.08             4.4      0.086   \n",
       "37            8.1              0.38         0.28             2.1      0.066   \n",
       "\n",
       "    free sulfur dioxide  total sulfur dioxide  density    pH  sulphates  \\\n",
       "7                  15.0                  21.0   0.9946  3.39       0.47   \n",
       "8                   9.0                  18.0   0.9968  3.36       0.57   \n",
       "16                 35.0                 103.0   0.9969  3.30       0.75   \n",
       "18                  6.0                  29.0   0.9974  3.38       0.50   \n",
       "37                 13.0                  30.0   0.9968  3.23       0.73   \n",
       "\n",
       "    alcohol  \n",
       "7      10.0  \n",
       "8       9.5  \n",
       "16     10.5  \n",
       "18      9.0  \n",
       "37      9.7  "
      ]
     },
     "execution_count": 11,
     "metadata": {},
     "output_type": "execute_result"
    }
   ],
   "source": [
    "X.head()"
   ]
  },
  {
   "cell_type": "code",
   "execution_count": 12,
   "metadata": {},
   "outputs": [
    {
     "data": {
      "text/plain": [
       "StandardScaler(copy=True, with_mean=True, with_std=True)"
      ]
     },
     "execution_count": 12,
     "metadata": {},
     "output_type": "execute_result"
    }
   ],
   "source": [
    "scaler = StandardScaler()\n",
    "scaler.fit(X)"
   ]
  },
  {
   "cell_type": "code",
   "execution_count": 13,
   "metadata": {
    "collapsed": true
   },
   "outputs": [],
   "source": [
    "scaled_d47 = scaler.transform(X)"
   ]
  },
  {
   "cell_type": "code",
   "execution_count": 14,
   "metadata": {},
   "outputs": [
    {
     "data": {
      "text/plain": [
       "PCA(copy=True, iterated_power='auto', n_components=10, random_state=None,\n",
       "  svd_solver='auto', tol=0.0, whiten=False)"
      ]
     },
     "execution_count": 14,
     "metadata": {},
     "output_type": "execute_result"
    }
   ],
   "source": [
    "pca = PCA(n_components=10)\n",
    "pca.fit(scaled_d47)"
   ]
  },
  {
   "cell_type": "code",
   "execution_count": 15,
   "metadata": {},
   "outputs": [
    {
     "data": {
      "text/plain": [
       "array([[ 0.47481504, -0.25687033,  0.46657262,  0.12392987,  0.21455365,\n",
       "         0.00355208, -0.00984558,  0.37287981, -0.45259989,  0.26626302,\n",
       "        -0.12080915],\n",
       "       [-0.12095821, -0.35750397,  0.20581816,  0.15580864, -0.1405332 ,\n",
       "         0.44157729,  0.49411057, -0.3165333 , -0.00146716,  0.2022892 ,\n",
       "         0.43694489],\n",
       "       [-0.02955318,  0.40468377, -0.13648022,  0.24172729,  0.16022305,\n",
       "         0.47036328,  0.48721745,  0.30229781,  0.04636613, -0.08132657,\n",
       "        -0.41696168],\n",
       "       [-0.20276289,  0.02541081, -0.06823279, -0.47913644,  0.55899964,\n",
       "         0.16950959, -0.08001092, -0.10150316,  0.12224745,  0.58736619,\n",
       "        -0.07843363],\n",
       "       [-0.19396224,  0.20535516,  0.03218823,  0.66238259,  0.47007445,\n",
       "        -0.31415222, -0.05615676,  0.02632129,  0.12016816,  0.13069184,\n",
       "         0.35410789],\n",
       "       [-0.17476228, -0.0265893 ,  0.11344812, -0.08467969,  0.41841912,\n",
       "        -0.10835244,  0.16964475, -0.48407022, -0.50320908, -0.46182521,\n",
       "        -0.17969419],\n",
       "       [-0.31400522, -0.63562499, -0.1805626 ,  0.32784898, -0.03420953,\n",
       "        -0.11950323, -0.03603706, -0.01343481,  0.12891154,  0.12440851,\n",
       "        -0.55521856],\n",
       "       [-0.00660817,  0.25231764, -0.24209411, -0.00671844, -0.31512607,\n",
       "        -0.46701139,  0.40407496, -0.13809823, -0.36846435,  0.48366575,\n",
       "        -0.09048281],\n",
       "       [-0.00603529, -0.12145425,  0.34104098, -0.28927592,  0.11973291,\n",
       "        -0.45877003,  0.52457805,  0.21379985,  0.46063232, -0.16447641,\n",
       "        -0.017026  ],\n",
       "       [-0.40800716,  0.32485174,  0.70059384,  0.06158976, -0.28656164,\n",
       "         0.04021894, -0.20048497, -0.12896355,  0.04448178,  0.14360356,\n",
       "        -0.26498097]])"
      ]
     },
     "execution_count": 15,
     "metadata": {},
     "output_type": "execute_result"
    }
   ],
   "source": [
    "pca.components_"
   ]
  },
  {
   "cell_type": "markdown",
   "metadata": {},
   "source": [
    "Display the amount and percentage of variance explained by each of the selected components"
   ]
  },
  {
   "cell_type": "code",
   "execution_count": 16,
   "metadata": {},
   "outputs": [
    {
     "data": {
      "text/html": [
       "<div>\n",
       "<style>\n",
       "    .dataframe thead tr:only-child th {\n",
       "        text-align: right;\n",
       "    }\n",
       "\n",
       "    .dataframe thead th {\n",
       "        text-align: left;\n",
       "    }\n",
       "\n",
       "    .dataframe tbody tr th {\n",
       "        vertical-align: top;\n",
       "    }\n",
       "</style>\n",
       "<table border=\"1\" class=\"dataframe\">\n",
       "  <thead>\n",
       "    <tr style=\"text-align: right;\">\n",
       "      <th></th>\n",
       "      <th>amount of explained variance</th>\n",
       "      <th>percentage of explained variance</th>\n",
       "    </tr>\n",
       "  </thead>\n",
       "  <tbody>\n",
       "    <tr>\n",
       "      <th>0</th>\n",
       "      <td>3.456326</td>\n",
       "      <td>0.312965</td>\n",
       "    </tr>\n",
       "    <tr>\n",
       "      <th>1</th>\n",
       "      <td>1.902141</td>\n",
       "      <td>0.172236</td>\n",
       "    </tr>\n",
       "    <tr>\n",
       "      <th>2</th>\n",
       "      <td>1.607089</td>\n",
       "      <td>0.145519</td>\n",
       "    </tr>\n",
       "    <tr>\n",
       "      <th>3</th>\n",
       "      <td>1.257365</td>\n",
       "      <td>0.113852</td>\n",
       "    </tr>\n",
       "    <tr>\n",
       "      <th>4</th>\n",
       "      <td>1.016207</td>\n",
       "      <td>0.092016</td>\n",
       "    </tr>\n",
       "    <tr>\n",
       "      <th>5</th>\n",
       "      <td>0.567301</td>\n",
       "      <td>0.051368</td>\n",
       "    </tr>\n",
       "    <tr>\n",
       "      <th>6</th>\n",
       "      <td>0.459599</td>\n",
       "      <td>0.041616</td>\n",
       "    </tr>\n",
       "    <tr>\n",
       "      <th>7</th>\n",
       "      <td>0.348088</td>\n",
       "      <td>0.031519</td>\n",
       "    </tr>\n",
       "    <tr>\n",
       "      <th>8</th>\n",
       "      <td>0.245696</td>\n",
       "      <td>0.022247</td>\n",
       "    </tr>\n",
       "    <tr>\n",
       "      <th>9</th>\n",
       "      <td>0.127632</td>\n",
       "      <td>0.011557</td>\n",
       "    </tr>\n",
       "  </tbody>\n",
       "</table>\n",
       "</div>"
      ],
      "text/plain": [
       "   amount of explained variance  percentage of explained variance\n",
       "0                      3.456326                          0.312965\n",
       "1                      1.902141                          0.172236\n",
       "2                      1.607089                          0.145519\n",
       "3                      1.257365                          0.113852\n",
       "4                      1.016207                          0.092016\n",
       "5                      0.567301                          0.051368\n",
       "6                      0.459599                          0.041616\n",
       "7                      0.348088                          0.031519\n",
       "8                      0.245696                          0.022247\n",
       "9                      0.127632                          0.011557"
      ]
     },
     "execution_count": 16,
     "metadata": {},
     "output_type": "execute_result"
    }
   ],
   "source": [
    "pca_exp_var = pd.DataFrame(pca.explained_variance_,columns=['amount of explained variance'])\n",
    "pca_exp_var['percentage of explained variance'] = pca.explained_variance_ratio_\n",
    "pca_exp_var"
   ]
  },
  {
   "cell_type": "code",
   "execution_count": 17,
   "metadata": {},
   "outputs": [
    {
     "name": "stdout",
     "output_type": "stream",
     "text": [
      " Sum of pca.explained_variance_ratio_ is 0.994894721041\n"
     ]
    }
   ],
   "source": [
    "print(' Sum of pca.explained_variance_ratio_ is',pca.explained_variance_ratio_.sum())"
   ]
  },
  {
   "cell_type": "code",
   "execution_count": 18,
   "metadata": {
    "collapsed": true
   },
   "outputs": [],
   "source": [
    "d47_pca = pd.DataFrame(pca.components_,columns=X.columns)"
   ]
  },
  {
   "cell_type": "markdown",
   "metadata": {},
   "source": [
    "Display the weights of each input variable (column) for each component (row) "
   ]
  },
  {
   "cell_type": "code",
   "execution_count": 19,
   "metadata": {},
   "outputs": [
    {
     "data": {
      "text/plain": [
       "<matplotlib.axes._subplots.AxesSubplot at 0x2670c0b5160>"
      ]
     },
     "execution_count": 19,
     "metadata": {},
     "output_type": "execute_result"
    },
    {
     "data": {
      "image/png": "[encoded data removed]",
      "text/plain": [
       "<matplotlib.figure.Figure at 0x2670c0df320>"
      ]
     },
     "metadata": {},
     "output_type": "display_data"
    }
   ],
   "source": [
    "plt.figure(figsize=(12,6))\n",
    "plt.title('Weights of each independent variable (column) for each PCA component (row)')\n",
    "sns.heatmap(d47_pca,cmap='coolwarm',)"
   ]
  },
  {
   "cell_type": "code",
   "execution_count": 20,
   "metadata": {
    "collapsed": true
   },
   "outputs": [],
   "source": [
    "pca_X = pca.transform(scaler.transform(X))\n",
    "#y = data_47['quality']"
   ]
  },
  {
   "cell_type": "code",
   "execution_count": 21,
   "metadata": {
    "collapsed": true
   },
   "outputs": [],
   "source": [
    "PCA_cnames = ['PCA0','PCA1','PCA2','PCA3','PCA4','PCA5','PCA6','PCA7','PCA8','PCA9']\n",
    "df_pca_X = pd.DataFrame(pca_X,index=X.index,columns=PCA_cnames)"
   ]
  },
  {
   "cell_type": "code",
   "execution_count": 22,
   "metadata": {},
   "outputs": [
    {
     "data": {
      "text/html": [
       "<div>\n",
       "<style>\n",
       "    .dataframe thead tr:only-child th {\n",
       "        text-align: right;\n",
       "    }\n",
       "\n",
       "    .dataframe thead th {\n",
       "        text-align: left;\n",
       "    }\n",
       "\n",
       "    .dataframe tbody tr th {\n",
       "        vertical-align: top;\n",
       "    }\n",
       "</style>\n",
       "<table border=\"1\" class=\"dataframe\">\n",
       "  <thead>\n",
       "    <tr style=\"text-align: right;\">\n",
       "      <th></th>\n",
       "      <th>PCA0</th>\n",
       "      <th>PCA1</th>\n",
       "      <th>PCA2</th>\n",
       "      <th>PCA3</th>\n",
       "      <th>PCA4</th>\n",
       "      <th>PCA5</th>\n",
       "      <th>PCA6</th>\n",
       "      <th>PCA7</th>\n",
       "      <th>PCA8</th>\n",
       "      <th>PCA9</th>\n",
       "      <th>quality</th>\n",
       "    </tr>\n",
       "  </thead>\n",
       "  <tbody>\n",
       "    <tr>\n",
       "      <th>7</th>\n",
       "      <td>-2.238139</td>\n",
       "      <td>-1.379439</td>\n",
       "      <td>0.523956</td>\n",
       "      <td>0.046480</td>\n",
       "      <td>-1.133081</td>\n",
       "      <td>0.746279</td>\n",
       "      <td>0.116232</td>\n",
       "      <td>-0.163079</td>\n",
       "      <td>-0.366781</td>\n",
       "      <td>-0.177075</td>\n",
       "      <td>7</td>\n",
       "    </tr>\n",
       "    <tr>\n",
       "      <th>8</th>\n",
       "      <td>-1.185663</td>\n",
       "      <td>-1.943733</td>\n",
       "      <td>0.655574</td>\n",
       "      <td>-0.028981</td>\n",
       "      <td>-0.691387</td>\n",
       "      <td>0.195855</td>\n",
       "      <td>0.781887</td>\n",
       "      <td>0.151654</td>\n",
       "      <td>-0.147818</td>\n",
       "      <td>-0.290532</td>\n",
       "      <td>7</td>\n",
       "    </tr>\n",
       "    <tr>\n",
       "      <th>16</th>\n",
       "      <td>0.968420</td>\n",
       "      <td>2.062094</td>\n",
       "      <td>1.779353</td>\n",
       "      <td>0.715207</td>\n",
       "      <td>-1.418634</td>\n",
       "      <td>0.338144</td>\n",
       "      <td>0.250582</td>\n",
       "      <td>-0.578037</td>\n",
       "      <td>0.837601</td>\n",
       "      <td>0.187511</td>\n",
       "      <td>7</td>\n",
       "    </tr>\n",
       "    <tr>\n",
       "      <th>18</th>\n",
       "      <td>-0.899579</td>\n",
       "      <td>-2.006235</td>\n",
       "      <td>1.434112</td>\n",
       "      <td>-0.920630</td>\n",
       "      <td>0.473945</td>\n",
       "      <td>0.406791</td>\n",
       "      <td>1.535430</td>\n",
       "      <td>0.032234</td>\n",
       "      <td>0.018043</td>\n",
       "      <td>-0.024369</td>\n",
       "      <td>4</td>\n",
       "    </tr>\n",
       "    <tr>\n",
       "      <th>37</th>\n",
       "      <td>0.277481</td>\n",
       "      <td>-0.687387</td>\n",
       "      <td>0.253660</td>\n",
       "      <td>0.178222</td>\n",
       "      <td>-0.972729</td>\n",
       "      <td>0.227201</td>\n",
       "      <td>1.017158</td>\n",
       "      <td>0.345527</td>\n",
       "      <td>-0.163858</td>\n",
       "      <td>0.224339</td>\n",
       "      <td>7</td>\n",
       "    </tr>\n",
       "  </tbody>\n",
       "</table>\n",
       "</div>"
      ],
      "text/plain": [
       "        PCA0      PCA1      PCA2      PCA3      PCA4      PCA5      PCA6  \\\n",
       "7  -2.238139 -1.379439  0.523956  0.046480 -1.133081  0.746279  0.116232   \n",
       "8  -1.185663 -1.943733  0.655574 -0.028981 -0.691387  0.195855  0.781887   \n",
       "16  0.968420  2.062094  1.779353  0.715207 -1.418634  0.338144  0.250582   \n",
       "18 -0.899579 -2.006235  1.434112 -0.920630  0.473945  0.406791  1.535430   \n",
       "37  0.277481 -0.687387  0.253660  0.178222 -0.972729  0.227201  1.017158   \n",
       "\n",
       "        PCA7      PCA8      PCA9  quality  \n",
       "7  -0.163079 -0.366781 -0.177075        7  \n",
       "8   0.151654 -0.147818 -0.290532        7  \n",
       "16 -0.578037  0.837601  0.187511        7  \n",
       "18  0.032234  0.018043 -0.024369        4  \n",
       "37  0.345527 -0.163858  0.224339        7  "
      ]
     },
     "execution_count": 22,
     "metadata": {},
     "output_type": "execute_result"
    }
   ],
   "source": [
    "df_pca_X['quality']=y\n",
    "df_pca_X.head()"
   ]
  },
  {
   "cell_type": "code",
   "execution_count": 23,
   "metadata": {},
   "outputs": [
    {
     "data": {
      "text/html": [
       "<div>\n",
       "<style>\n",
       "    .dataframe thead tr:only-child th {\n",
       "        text-align: right;\n",
       "    }\n",
       "\n",
       "    .dataframe thead th {\n",
       "        text-align: left;\n",
       "    }\n",
       "\n",
       "    .dataframe tbody tr th {\n",
       "        vertical-align: top;\n",
       "    }\n",
       "</style>\n",
       "<table border=\"1\" class=\"dataframe\">\n",
       "  <thead>\n",
       "    <tr style=\"text-align: right;\">\n",
       "      <th></th>\n",
       "      <th>fixed acidity</th>\n",
       "      <th>volatile acidity</th>\n",
       "      <th>citric acid</th>\n",
       "      <th>residual sugar</th>\n",
       "      <th>chlorides</th>\n",
       "      <th>free sulfur dioxide</th>\n",
       "      <th>total sulfur dioxide</th>\n",
       "      <th>density</th>\n",
       "      <th>pH</th>\n",
       "      <th>sulphates</th>\n",
       "      <th>alcohol</th>\n",
       "      <th>quality</th>\n",
       "    </tr>\n",
       "  </thead>\n",
       "  <tbody>\n",
       "    <tr>\n",
       "      <th>7</th>\n",
       "      <td>7.3</td>\n",
       "      <td>0.65</td>\n",
       "      <td>0.00</td>\n",
       "      <td>1.2</td>\n",
       "      <td>0.065</td>\n",
       "      <td>15.0</td>\n",
       "      <td>21.0</td>\n",
       "      <td>0.9946</td>\n",
       "      <td>3.39</td>\n",
       "      <td>0.47</td>\n",
       "      <td>10.0</td>\n",
       "      <td>7</td>\n",
       "    </tr>\n",
       "    <tr>\n",
       "      <th>8</th>\n",
       "      <td>7.8</td>\n",
       "      <td>0.58</td>\n",
       "      <td>0.02</td>\n",
       "      <td>2.0</td>\n",
       "      <td>0.073</td>\n",
       "      <td>9.0</td>\n",
       "      <td>18.0</td>\n",
       "      <td>0.9968</td>\n",
       "      <td>3.36</td>\n",
       "      <td>0.57</td>\n",
       "      <td>9.5</td>\n",
       "      <td>7</td>\n",
       "    </tr>\n",
       "    <tr>\n",
       "      <th>16</th>\n",
       "      <td>8.5</td>\n",
       "      <td>0.28</td>\n",
       "      <td>0.56</td>\n",
       "      <td>1.8</td>\n",
       "      <td>0.092</td>\n",
       "      <td>35.0</td>\n",
       "      <td>103.0</td>\n",
       "      <td>0.9969</td>\n",
       "      <td>3.30</td>\n",
       "      <td>0.75</td>\n",
       "      <td>10.5</td>\n",
       "      <td>7</td>\n",
       "    </tr>\n",
       "    <tr>\n",
       "      <th>18</th>\n",
       "      <td>7.4</td>\n",
       "      <td>0.59</td>\n",
       "      <td>0.08</td>\n",
       "      <td>4.4</td>\n",
       "      <td>0.086</td>\n",
       "      <td>6.0</td>\n",
       "      <td>29.0</td>\n",
       "      <td>0.9974</td>\n",
       "      <td>3.38</td>\n",
       "      <td>0.50</td>\n",
       "      <td>9.0</td>\n",
       "      <td>4</td>\n",
       "    </tr>\n",
       "    <tr>\n",
       "      <th>37</th>\n",
       "      <td>8.1</td>\n",
       "      <td>0.38</td>\n",
       "      <td>0.28</td>\n",
       "      <td>2.1</td>\n",
       "      <td>0.066</td>\n",
       "      <td>13.0</td>\n",
       "      <td>30.0</td>\n",
       "      <td>0.9968</td>\n",
       "      <td>3.23</td>\n",
       "      <td>0.73</td>\n",
       "      <td>9.7</td>\n",
       "      <td>7</td>\n",
       "    </tr>\n",
       "  </tbody>\n",
       "</table>\n",
       "</div>"
      ],
      "text/plain": [
       "    fixed acidity  volatile acidity  citric acid  residual sugar  chlorides  \\\n",
       "7             7.3              0.65         0.00             1.2      0.065   \n",
       "8             7.8              0.58         0.02             2.0      0.073   \n",
       "16            8.5              0.28         0.56             1.8      0.092   \n",
       "18            7.4              0.59         0.08             4.4      0.086   \n",
       "37            8.1              0.38         0.28             2.1      0.066   \n",
       "\n",
       "    free sulfur dioxide  total sulfur dioxide  density    pH  sulphates  \\\n",
       "7                  15.0                  21.0   0.9946  3.39       0.47   \n",
       "8                   9.0                  18.0   0.9968  3.36       0.57   \n",
       "16                 35.0                 103.0   0.9969  3.30       0.75   \n",
       "18                  6.0                  29.0   0.9974  3.38       0.50   \n",
       "37                 13.0                  30.0   0.9968  3.23       0.73   \n",
       "\n",
       "    alcohol  quality  \n",
       "7      10.0        7  \n",
       "8       9.5        7  \n",
       "16     10.5        7  \n",
       "18      9.0        4  \n",
       "37      9.7        7  "
      ]
     },
     "execution_count": 23,
     "metadata": {},
     "output_type": "execute_result"
    }
   ],
   "source": [
    "data_47.head()"
   ]
  },
  {
   "cell_type": "code",
   "execution_count": 24,
   "metadata": {},
   "outputs": [
    {
     "data": {
      "text/plain": [
       "0"
      ]
     },
     "execution_count": 24,
     "metadata": {},
     "output_type": "execute_result"
    }
   ],
   "source": [
    "sum(abs(data_47.index-df_pca_X.index))"
   ]
  },
  {
   "cell_type": "markdown",
   "metadata": {},
   "source": [
    "Common function to display classification results."
   ]
  },
  {
   "cell_type": "code",
   "execution_count": 25,
   "metadata": {
    "collapsed": true
   },
   "outputs": [],
   "source": [
    "def print_classificiation_reports(rtitle,y_true,y_pred,c_labels):\n",
    "    assert len(y_true) != 0, 'y_true is empty!'\n",
    "    assert len(y_pred) != 0, 'y_pred is empty!'\n",
    "    assert len(y_true) == len(y_pred), 'Lengths of y_true and y_pred do not match!'\n",
    "    \n",
    "    c_mtx = confusion_matrix(y_true,y_pred,labels=c_labels)\n",
    "    df_c_mtx = pd.DataFrame(data=c_mtx,index=c_labels,columns=c_labels)\n",
    "    print(rtitle)\n",
    "    print('Confusion Matrix for classes',c_labels)\n",
    "    print(df_c_mtx)\n",
    "    print('\\n')\n",
    "    print(classification_report(y_true,y_pred))"
   ]
  },
  {
   "cell_type": "markdown",
   "metadata": {},
   "source": [
    "Keep track of each method's performance indicators."
   ]
  },
  {
   "cell_type": "code",
   "execution_count": 26,
   "metadata": {
    "collapsed": true
   },
   "outputs": [],
   "source": [
    "cls_kpis = ['precision','recall','f1-score']\n",
    "cls_results=pd.DataFrame(index=cls_kpis)"
   ]
  },
  {
   "cell_type": "markdown",
   "metadata": {},
   "source": [
    "## Training and Test data"
   ]
  },
  {
   "cell_type": "markdown",
   "metadata": {},
   "source": [
    "Split data into training and test datasets."
   ]
  },
  {
   "cell_type": "code",
   "execution_count": 27,
   "metadata": {
    "collapsed": true
   },
   "outputs": [],
   "source": [
    "# two classes, map [4,7] to [0,1], no need for one hot encoding\n",
    "y_47 = y.apply(lambda x: int(x==7))"
   ]
  },
  {
   "cell_type": "code",
   "execution_count": 28,
   "metadata": {
    "collapsed": true
   },
   "outputs": [],
   "source": [
    "X_train, X_test, y_train, y_test = train_test_split(df_pca_X.drop('quality',axis=1), y_47, test_size=0.30, random_state=91)"
   ]
  },
  {
   "cell_type": "code",
   "execution_count": 29,
   "metadata": {},
   "outputs": [
    {
     "name": "stdout",
     "output_type": "stream",
     "text": [
      "train(x).shape.= (176, 10)\n",
      "train(y).shape.= (176,)\n",
      "test(x).shape..= (76, 10)\n",
      "test(y).shape..= (76,)\n"
     ]
    }
   ],
   "source": [
    "print('train(x).shape.=',X_train.shape)\n",
    "print('train(y).shape.=',y_train.shape)\n",
    "print('test(x).shape..=',X_test.shape)\n",
    "print('test(y).shape..=',y_test.shape)"
   ]
  },
  {
   "cell_type": "markdown",
   "metadata": {},
   "source": [
    "## DNN Classifier (3 hidden layers)"
   ]
  },
  {
   "cell_type": "markdown",
   "metadata": {},
   "source": [
    "Define TensorFlow input features. "
   ]
  },
  {
   "cell_type": "code",
   "execution_count": 30,
   "metadata": {
    "collapsed": true
   },
   "outputs": [],
   "source": [
    "tf_features = []\n",
    "for col in df_pca_X.columns[:10]:\n",
    "    tf_features.append(tf.feature_column.numeric_column(col))"
   ]
  },
  {
   "cell_type": "code",
   "execution_count": 31,
   "metadata": {},
   "outputs": [
    {
     "data": {
      "text/plain": [
       "[_NumericColumn(key='PCA0', shape=(1,), default_value=None, dtype=tf.float32, normalizer_fn=None),\n",
       " _NumericColumn(key='PCA1', shape=(1,), default_value=None, dtype=tf.float32, normalizer_fn=None),\n",
       " _NumericColumn(key='PCA2', shape=(1,), default_value=None, dtype=tf.float32, normalizer_fn=None),\n",
       " _NumericColumn(key='PCA3', shape=(1,), default_value=None, dtype=tf.float32, normalizer_fn=None),\n",
       " _NumericColumn(key='PCA4', shape=(1,), default_value=None, dtype=tf.float32, normalizer_fn=None),\n",
       " _NumericColumn(key='PCA5', shape=(1,), default_value=None, dtype=tf.float32, normalizer_fn=None),\n",
       " _NumericColumn(key='PCA6', shape=(1,), default_value=None, dtype=tf.float32, normalizer_fn=None),\n",
       " _NumericColumn(key='PCA7', shape=(1,), default_value=None, dtype=tf.float32, normalizer_fn=None),\n",
       " _NumericColumn(key='PCA8', shape=(1,), default_value=None, dtype=tf.float32, normalizer_fn=None),\n",
       " _NumericColumn(key='PCA9', shape=(1,), default_value=None, dtype=tf.float32, normalizer_fn=None)]"
      ]
     },
     "execution_count": 31,
     "metadata": {},
     "output_type": "execute_result"
    }
   ],
   "source": [
    "tf_features"
   ]
  },
  {
   "cell_type": "markdown",
   "metadata": {},
   "source": [
    "Define DNNClassifier <br>\n",
    "* 3 hidden layers with 10, 20, and 10 nodes per layer\n",
    "* Output is for 2 classes, labels are mapped [4,7]->[0,1]\n",
    "* input features"
   ]
  },
  {
   "cell_type": "code",
   "execution_count": 32,
   "metadata": {
    "collapsed": true
   },
   "outputs": [],
   "source": [
    "clf_dnn = tf.estimator.DNNClassifier(hidden_units=[10, 20, 10],   # 3 hidden layers\n",
    "                                     n_classes=2,                 # number of classes \n",
    "                                     feature_columns=tf_features) # Input nodes"
   ]
  },
  {
   "cell_type": "markdown",
   "metadata": {},
   "source": [
    "### Training\n",
    "1. Define input function to feed training data, shuffle is ok\n",
    "1. Invoke training to build the model"
   ]
  },
  {
   "cell_type": "code",
   "execution_count": 33,
   "metadata": {
    "collapsed": true
   },
   "outputs": [],
   "source": [
    "input_fn = tf.estimator.inputs.pandas_input_fn(x=X_train,y=y_train,\n",
    "                                               batch_size=10,\n",
    "                                               num_epochs=5, # number of iterations over dataset\n",
    "                                               shuffle=True) # read dataset randomly "
   ]
  },
  {
   "cell_type": "code",
   "execution_count": 34,
   "metadata": {},
   "outputs": [
    {
     "data": {
      "text/plain": [
       "<tensorflow.python.estimator.canned.dnn.DNNClassifier at 0x2670c5a25f8>"
      ]
     },
     "execution_count": 34,
     "metadata": {},
     "output_type": "execute_result"
    }
   ],
   "source": [
    "clf_dnn.train(input_fn=input_fn,steps=500)"
   ]
  },
  {
   "cell_type": "markdown",
   "metadata": {},
   "source": [
    "### Evaluation\n",
    "1. Define input function to feed test data, need to process all (batch_size) and there is no need for shuffle.\n",
    "1. Invoke prediction\n",
    "1. Extract the class label (class_id)"
   ]
  },
  {
   "cell_type": "code",
   "execution_count": 35,
   "metadata": {
    "collapsed": true
   },
   "outputs": [],
   "source": [
    "pred_fn = tf.estimator.inputs.pandas_input_fn(x=X_test,\n",
    "                                              batch_size=len(X_test),\n",
    "                                              shuffle=False)"
   ]
  },
  {
   "cell_type": "code",
   "execution_count": 36,
   "metadata": {
    "collapsed": true
   },
   "outputs": [],
   "source": [
    "clf_dnn_predictions = list(clf_dnn.predict(input_fn=pred_fn))"
   ]
  },
  {
   "cell_type": "code",
   "execution_count": 37,
   "metadata": {
    "collapsed": true
   },
   "outputs": [],
   "source": [
    "clf_dnn_preds  = []\n",
    "for pred in clf_dnn_predictions:\n",
    "    clf_dnn_preds.append(pred['class_ids'][0])"
   ]
  },
  {
   "cell_type": "code",
   "execution_count": 38,
   "metadata": {},
   "outputs": [
    {
     "name": "stdout",
     "output_type": "stream",
     "text": [
      "DNNClassifier: Report for Test data\n",
      "Confusion Matrix for classes [0, 1]\n",
      "   0   1\n",
      "0  8  10\n",
      "1  2  56\n",
      "\n",
      "\n",
      "             precision    recall  f1-score   support\n",
      "\n",
      "          0       0.80      0.44      0.57        18\n",
      "          1       0.85      0.97      0.90        58\n",
      "\n",
      "avg / total       0.84      0.84      0.82        76\n",
      "\n"
     ]
    }
   ],
   "source": [
    "c_labels = [0,1] # [4,7]\n",
    "print_classificiation_reports(\"DNNClassifier: Report for Test data\",y_test,clf_dnn_preds,c_labels)"
   ]
  },
  {
   "cell_type": "markdown",
   "metadata": {},
   "source": [
    "Let's check the performance of model with training data."
   ]
  },
  {
   "cell_type": "code",
   "execution_count": 39,
   "metadata": {},
   "outputs": [
    {
     "name": "stdout",
     "output_type": "stream",
     "text": [
      "DNNClassifier: Report for Training data\n",
      "Confusion Matrix for classes [0, 1]\n",
      "    0    1\n",
      "0  29    6\n",
      "1   4  137\n",
      "\n",
      "\n",
      "             precision    recall  f1-score   support\n",
      "\n",
      "          0       0.88      0.83      0.85        35\n",
      "          1       0.96      0.97      0.96       141\n",
      "\n",
      "avg / total       0.94      0.94      0.94       176\n",
      "\n"
     ]
    }
   ],
   "source": [
    "# Prepare for predicting data points in X_train \n",
    "pred_fn = tf.estimator.inputs.pandas_input_fn(x=X_train,batch_size=len(X_train),shuffle=False)\n",
    "clf_dnn_predictions = list(clf_dnn.predict(input_fn=pred_fn))\n",
    "# Extract predictions of model\n",
    "clf_dnn_train_preds  = []\n",
    "for pred in clf_dnn_predictions:\n",
    "    clf_dnn_train_preds.append(pred['class_ids'][0])\n",
    "# Print classification metrics\n",
    "c_labels = [0,1] # [4,7]\n",
    "print_classificiation_reports(\"DNNClassifier: Report for Training data\",y_train,clf_dnn_train_preds,c_labels)"
   ]
  },
  {
   "cell_type": "markdown",
   "metadata": {},
   "source": [
    "Model has some classification error with training data too. <br>\n",
    "Let's increase the number of hidden layers and the number of nodes in each layer. "
   ]
  },
  {
   "cell_type": "code",
   "execution_count": 40,
   "metadata": {},
   "outputs": [
    {
     "data": {
      "text/html": [
       "<div>\n",
       "<style>\n",
       "    .dataframe thead tr:only-child th {\n",
       "        text-align: right;\n",
       "    }\n",
       "\n",
       "    .dataframe thead th {\n",
       "        text-align: left;\n",
       "    }\n",
       "\n",
       "    .dataframe tbody tr th {\n",
       "        vertical-align: top;\n",
       "    }\n",
       "</style>\n",
       "<table border=\"1\" class=\"dataframe\">\n",
       "  <thead>\n",
       "    <tr style=\"text-align: right;\">\n",
       "      <th></th>\n",
       "      <th>DNN [10, 20, 10]</th>\n",
       "    </tr>\n",
       "  </thead>\n",
       "  <tbody>\n",
       "    <tr>\n",
       "      <th>precision</th>\n",
       "      <td>0.837002</td>\n",
       "    </tr>\n",
       "    <tr>\n",
       "      <th>recall</th>\n",
       "      <td>0.842105</td>\n",
       "    </tr>\n",
       "    <tr>\n",
       "      <th>f1-score</th>\n",
       "      <td>0.824642</td>\n",
       "    </tr>\n",
       "  </tbody>\n",
       "</table>\n",
       "</div>"
      ],
      "text/plain": [
       "           DNN [10, 20, 10]\n",
       "precision          0.837002\n",
       "recall             0.842105\n",
       "f1-score           0.824642"
      ]
     },
     "execution_count": 40,
     "metadata": {},
     "output_type": "execute_result"
    }
   ],
   "source": [
    "d = {'DNN [10, 20, 10]':precision_recall_fscore_support(y_test, clf_dnn_preds, average='weighted')[:3]}\n",
    "c = pd.DataFrame(data=d,index=cls_kpis)\n",
    "cls_results=pd.concat([cls_results,c],axis=1)\n",
    "cls_results"
   ]
  },
  {
   "cell_type": "markdown",
   "metadata": {},
   "source": [
    "## DNN Classifier (5 hidden layers)"
   ]
  },
  {
   "cell_type": "code",
   "execution_count": 41,
   "metadata": {
    "collapsed": true
   },
   "outputs": [],
   "source": [
    "clf_dnn2 = tf.estimator.DNNClassifier(hidden_units=[20, 40, 80, 40, 20],   # 5 hidden layers\n",
    "                                     n_classes=2,                 # number of classes \n",
    "                                     feature_columns=tf_features) # Input nodes"
   ]
  },
  {
   "cell_type": "markdown",
   "metadata": {},
   "source": [
    "### Training"
   ]
  },
  {
   "cell_type": "code",
   "execution_count": 42,
   "metadata": {
    "collapsed": true
   },
   "outputs": [],
   "source": [
    "input_fn = tf.estimator.inputs.pandas_input_fn(x=X_train,y=y_train,\n",
    "                                               batch_size=10,\n",
    "                                               num_epochs=5,\n",
    "                                               shuffle=True)"
   ]
  },
  {
   "cell_type": "code",
   "execution_count": 43,
   "metadata": {},
   "outputs": [
    {
     "data": {
      "text/plain": [
       "<tensorflow.python.estimator.canned.dnn.DNNClassifier at 0x2670bfe9eb8>"
      ]
     },
     "execution_count": 43,
     "metadata": {},
     "output_type": "execute_result"
    }
   ],
   "source": [
    "clf_dnn2.train(input_fn=input_fn,steps=3000)"
   ]
  },
  {
   "cell_type": "markdown",
   "metadata": {},
   "source": [
    "### Evaluation"
   ]
  },
  {
   "cell_type": "code",
   "execution_count": 44,
   "metadata": {},
   "outputs": [
    {
     "name": "stdout",
     "output_type": "stream",
     "text": [
      "DNNClassifier: Report for Training data\n",
      "Confusion Matrix for classes [0, 1]\n",
      "    0    1\n",
      "0  32    3\n",
      "1   4  137\n",
      "\n",
      "\n",
      "             precision    recall  f1-score   support\n",
      "\n",
      "          0       0.89      0.91      0.90        35\n",
      "          1       0.98      0.97      0.98       141\n",
      "\n",
      "avg / total       0.96      0.96      0.96       176\n",
      "\n"
     ]
    }
   ],
   "source": [
    "# Prepare for predicting data points in X_train \n",
    "pred_fn = tf.estimator.inputs.pandas_input_fn(x=X_train,batch_size=len(X_train),shuffle=False)\n",
    "clf_dnn2_predictions = list(clf_dnn2.predict(input_fn=pred_fn))\n",
    "# Extract predictions of model\n",
    "clf_dnn2_preds  = []\n",
    "for pred in clf_dnn2_predictions:\n",
    "    clf_dnn2_preds.append(pred['class_ids'][0])\n",
    "# Print classification metrics\n",
    "c_labels = [0,1] # [4,7]\n",
    "print_classificiation_reports(\"DNNClassifier: Report for Training data\",y_train,clf_dnn2_preds,c_labels)"
   ]
  },
  {
   "cell_type": "code",
   "execution_count": 45,
   "metadata": {},
   "outputs": [
    {
     "name": "stdout",
     "output_type": "stream",
     "text": [
      "DNNClassifier: Report for Test data\n",
      "Confusion Matrix for classes [0, 1]\n",
      "    0   1\n",
      "0  12   6\n",
      "1   2  56\n",
      "\n",
      "\n",
      "             precision    recall  f1-score   support\n",
      "\n",
      "          0       0.86      0.67      0.75        18\n",
      "          1       0.90      0.97      0.93        58\n",
      "\n",
      "avg / total       0.89      0.89      0.89        76\n",
      "\n"
     ]
    }
   ],
   "source": [
    "pred_fn = tf.estimator.inputs.pandas_input_fn(x=X_test,batch_size=len(X_test),shuffle=False)\n",
    "clf_dnn2t_predictions = list(clf_dnn2.predict(input_fn=pred_fn))\n",
    "clf_dnn2t_preds  = []\n",
    "for pred in clf_dnn2t_predictions:\n",
    "    clf_dnn2t_preds.append(pred['class_ids'][0])\n",
    "c_labels = [0,1] # [4,7]\n",
    "print_classificiation_reports(\"DNNClassifier: Report for Test data\",y_test,clf_dnn2t_preds,c_labels)"
   ]
  },
  {
   "cell_type": "code",
   "execution_count": 46,
   "metadata": {},
   "outputs": [
    {
     "data": {
      "text/html": [
       "<div>\n",
       "<style>\n",
       "    .dataframe thead tr:only-child th {\n",
       "        text-align: right;\n",
       "    }\n",
       "\n",
       "    .dataframe thead th {\n",
       "        text-align: left;\n",
       "    }\n",
       "\n",
       "    .dataframe tbody tr th {\n",
       "        vertical-align: top;\n",
       "    }\n",
       "</style>\n",
       "<table border=\"1\" class=\"dataframe\">\n",
       "  <thead>\n",
       "    <tr style=\"text-align: right;\">\n",
       "      <th></th>\n",
       "      <th>DNN [10, 20, 10]</th>\n",
       "      <th>DNN [20, 40, 80, 40, 20]</th>\n",
       "    </tr>\n",
       "  </thead>\n",
       "  <tbody>\n",
       "    <tr>\n",
       "      <th>precision</th>\n",
       "      <td>0.837002</td>\n",
       "      <td>0.892311</td>\n",
       "    </tr>\n",
       "    <tr>\n",
       "      <th>recall</th>\n",
       "      <td>0.842105</td>\n",
       "      <td>0.894737</td>\n",
       "    </tr>\n",
       "    <tr>\n",
       "      <th>f1-score</th>\n",
       "      <td>0.824642</td>\n",
       "      <td>0.889912</td>\n",
       "    </tr>\n",
       "  </tbody>\n",
       "</table>\n",
       "</div>"
      ],
      "text/plain": [
       "           DNN [10, 20, 10]  DNN [20, 40, 80, 40, 20]\n",
       "precision          0.837002                  0.892311\n",
       "recall             0.842105                  0.894737\n",
       "f1-score           0.824642                  0.889912"
      ]
     },
     "execution_count": 46,
     "metadata": {},
     "output_type": "execute_result"
    }
   ],
   "source": [
    "d = {'DNN [20, 40, 80, 40, 20]':precision_recall_fscore_support(y_test, clf_dnn2t_preds, average='weighted')[:3]}\n",
    "c = pd.DataFrame(data=d,index=cls_kpis)\n",
    "cls_results=pd.concat([cls_results,c],axis=1)\n",
    "cls_results"
   ]
  },
  {
   "cell_type": "markdown",
   "metadata": {},
   "source": [
    "## LinearClassifier"
   ]
  },
  {
   "cell_type": "code",
   "execution_count": 47,
   "metadata": {
    "collapsed": true
   },
   "outputs": [],
   "source": [
    "clf_lnr = tf.estimator.LinearClassifier(n_classes=2,                 # number of classes \n",
    "                                        feature_columns=tf_features) # Input nodes"
   ]
  },
  {
   "cell_type": "markdown",
   "metadata": {},
   "source": [
    "### Training"
   ]
  },
  {
   "cell_type": "code",
   "execution_count": 48,
   "metadata": {
    "collapsed": true
   },
   "outputs": [],
   "source": [
    "input_fn = tf.estimator.inputs.pandas_input_fn(x=X_train,y=y_train,\n",
    "                                               batch_size=10,\n",
    "                                               num_epochs=5,\n",
    "                                               shuffle=True)"
   ]
  },
  {
   "cell_type": "code",
   "execution_count": 49,
   "metadata": {},
   "outputs": [
    {
     "data": {
      "text/plain": [
       "<tensorflow.python.estimator.canned.linear.LinearClassifier at 0x2670e2332e8>"
      ]
     },
     "execution_count": 49,
     "metadata": {},
     "output_type": "execute_result"
    }
   ],
   "source": [
    "clf_lnr.train(input_fn=input_fn,steps=3000)"
   ]
  },
  {
   "cell_type": "markdown",
   "metadata": {},
   "source": [
    "### Evaluation"
   ]
  },
  {
   "cell_type": "code",
   "execution_count": 50,
   "metadata": {},
   "outputs": [
    {
     "name": "stdout",
     "output_type": "stream",
     "text": [
      "LinearClassifier: Report for Training data\n",
      "Confusion Matrix for classes [0, 1]\n",
      "    0    1\n",
      "0  26    9\n",
      "1   5  136\n",
      "\n",
      "\n",
      "             precision    recall  f1-score   support\n",
      "\n",
      "          0       0.84      0.74      0.79        35\n",
      "          1       0.94      0.96      0.95       141\n",
      "\n",
      "avg / total       0.92      0.92      0.92       176\n",
      "\n"
     ]
    }
   ],
   "source": [
    "# Prepare for predicting data points in X_train \n",
    "pred_fn = tf.estimator.inputs.pandas_input_fn(x=X_train,batch_size=len(X_train),shuffle=False)\n",
    "clf_lnr_predictions = list(clf_lnr.predict(input_fn=pred_fn))\n",
    "# Extract predictions of model\n",
    "clf_lnr_preds  = []\n",
    "for pred in clf_lnr_predictions:\n",
    "    clf_lnr_preds.append(pred['class_ids'][0])\n",
    "# Print classification metrics\n",
    "c_labels = [0,1] # [4,7]\n",
    "print_classificiation_reports(\"LinearClassifier: Report for Training data\",y_train,clf_lnr_preds,c_labels)"
   ]
  },
  {
   "cell_type": "code",
   "execution_count": 51,
   "metadata": {},
   "outputs": [
    {
     "name": "stdout",
     "output_type": "stream",
     "text": [
      "LinearClassifier: Report for Test data\n",
      "Confusion Matrix for classes [0, 1]\n",
      "    0   1\n",
      "0  10   8\n",
      "1   2  56\n",
      "\n",
      "\n",
      "             precision    recall  f1-score   support\n",
      "\n",
      "          0       0.83      0.56      0.67        18\n",
      "          1       0.88      0.97      0.92        58\n",
      "\n",
      "avg / total       0.87      0.87      0.86        76\n",
      "\n"
     ]
    }
   ],
   "source": [
    "# Prepare for predicting data points in X_test \n",
    "pred_fn = tf.estimator.inputs.pandas_input_fn(x=X_test,batch_size=len(X_test),shuffle=False)\n",
    "clf_lnrt_predictions = list(clf_lnr.predict(input_fn=pred_fn))\n",
    "# Extract predictions of model\n",
    "clf_lnrt_preds  = []\n",
    "for pred in clf_lnrt_predictions:\n",
    "    clf_lnrt_preds.append(pred['class_ids'][0])\n",
    "# Print classification metrics\n",
    "c_labels = [0,1] # [4,7]\n",
    "print_classificiation_reports(\"LinearClassifier: Report for Test data\",y_test,clf_lnrt_preds,c_labels)"
   ]
  },
  {
   "cell_type": "code",
   "execution_count": 52,
   "metadata": {},
   "outputs": [
    {
     "data": {
      "text/html": [
       "<div>\n",
       "<style>\n",
       "    .dataframe thead tr:only-child th {\n",
       "        text-align: right;\n",
       "    }\n",
       "\n",
       "    .dataframe thead th {\n",
       "        text-align: left;\n",
       "    }\n",
       "\n",
       "    .dataframe tbody tr th {\n",
       "        vertical-align: top;\n",
       "    }\n",
       "</style>\n",
       "<table border=\"1\" class=\"dataframe\">\n",
       "  <thead>\n",
       "    <tr style=\"text-align: right;\">\n",
       "      <th></th>\n",
       "      <th>DNN [10, 20, 10]</th>\n",
       "      <th>DNN [20, 40, 80, 40, 20]</th>\n",
       "      <th>LinearClassifier</th>\n",
       "    </tr>\n",
       "  </thead>\n",
       "  <tbody>\n",
       "    <tr>\n",
       "      <th>precision</th>\n",
       "      <td>0.837002</td>\n",
       "      <td>0.892311</td>\n",
       "      <td>0.865132</td>\n",
       "    </tr>\n",
       "    <tr>\n",
       "      <th>recall</th>\n",
       "      <td>0.842105</td>\n",
       "      <td>0.894737</td>\n",
       "      <td>0.868421</td>\n",
       "    </tr>\n",
       "    <tr>\n",
       "      <th>f1-score</th>\n",
       "      <td>0.824642</td>\n",
       "      <td>0.889912</td>\n",
       "      <td>0.858499</td>\n",
       "    </tr>\n",
       "  </tbody>\n",
       "</table>\n",
       "</div>"
      ],
      "text/plain": [
       "           DNN [10, 20, 10]  DNN [20, 40, 80, 40, 20]  LinearClassifier\n",
       "precision          0.837002                  0.892311          0.865132\n",
       "recall             0.842105                  0.894737          0.868421\n",
       "f1-score           0.824642                  0.889912          0.858499"
      ]
     },
     "execution_count": 52,
     "metadata": {},
     "output_type": "execute_result"
    }
   ],
   "source": [
    "d = {'LinearClassifier':precision_recall_fscore_support(y_test, clf_lnrt_preds, average='weighted')[:3]}\n",
    "cls_results=pd.concat([cls_results,pd.DataFrame(data=d,index=cls_kpis)],axis=1)\n",
    "cls_results"
   ]
  },
  {
   "cell_type": "markdown",
   "metadata": {},
   "source": [
    "## DNN Classifier (8 hidden layers)"
   ]
  },
  {
   "cell_type": "code",
   "execution_count": 53,
   "metadata": {
    "collapsed": true
   },
   "outputs": [],
   "source": [
    "clf_dnn3 = tf.estimator.DNNClassifier(hidden_units=[20, 40, 64, 128, 128, 64, 40, 20],   # 8 hidden layers\n",
    "                                     n_classes=2,                 # number of classes \n",
    "                                     feature_columns=tf_features) # Input nodes"
   ]
  },
  {
   "cell_type": "markdown",
   "metadata": {},
   "source": [
    "### Training"
   ]
  },
  {
   "cell_type": "code",
   "execution_count": 54,
   "metadata": {
    "collapsed": true
   },
   "outputs": [],
   "source": [
    "input_fn = tf.estimator.inputs.pandas_input_fn(x=X_train,y=y_train,\n",
    "                                               batch_size=10,\n",
    "                                               num_epochs=5,\n",
    "                                               shuffle=True)"
   ]
  },
  {
   "cell_type": "code",
   "execution_count": 55,
   "metadata": {},
   "outputs": [
    {
     "data": {
      "text/plain": [
       "<tensorflow.python.estimator.canned.dnn.DNNClassifier at 0x2670de98e48>"
      ]
     },
     "execution_count": 55,
     "metadata": {},
     "output_type": "execute_result"
    }
   ],
   "source": [
    "clf_dnn3.train(input_fn=input_fn,steps=5000)"
   ]
  },
  {
   "cell_type": "markdown",
   "metadata": {},
   "source": [
    "### Evaluation"
   ]
  },
  {
   "cell_type": "code",
   "execution_count": 56,
   "metadata": {},
   "outputs": [
    {
     "name": "stdout",
     "output_type": "stream",
     "text": [
      "DNNClassifier: Report for Training data\n",
      "Confusion Matrix for classes [0, 1]\n",
      "    0    1\n",
      "0  32    3\n",
      "1   9  132\n",
      "\n",
      "\n",
      "             precision    recall  f1-score   support\n",
      "\n",
      "          0       0.78      0.91      0.84        35\n",
      "          1       0.98      0.94      0.96       141\n",
      "\n",
      "avg / total       0.94      0.93      0.93       176\n",
      "\n"
     ]
    }
   ],
   "source": [
    "# Prepare for predicting data points in X_train \n",
    "pred_fn = tf.estimator.inputs.pandas_input_fn(x=X_train,batch_size=len(X_train),shuffle=False)\n",
    "clf_dnn3_predictions = list(clf_dnn3.predict(input_fn=pred_fn))\n",
    "# Extract predictions of model\n",
    "clf_dnn3_preds  = []\n",
    "for pred in clf_dnn3_predictions:\n",
    "    clf_dnn3_preds.append(pred['class_ids'][0])\n",
    "# Print classification metrics\n",
    "c_labels = [0,1] # [4,7]\n",
    "print_classificiation_reports(\"DNNClassifier: Report for Training data\",y_train,clf_dnn3_preds,c_labels)"
   ]
  },
  {
   "cell_type": "code",
   "execution_count": 57,
   "metadata": {},
   "outputs": [
    {
     "name": "stdout",
     "output_type": "stream",
     "text": [
      "DNNClassifier: Report for Test data\n",
      "Confusion Matrix for classes [0, 1]\n",
      "    0   1\n",
      "0  11   7\n",
      "1   3  55\n",
      "\n",
      "\n",
      "             precision    recall  f1-score   support\n",
      "\n",
      "          0       0.79      0.61      0.69        18\n",
      "          1       0.89      0.95      0.92        58\n",
      "\n",
      "avg / total       0.86      0.87      0.86        76\n",
      "\n"
     ]
    }
   ],
   "source": [
    "pred_fn = tf.estimator.inputs.pandas_input_fn(x=X_test,batch_size=len(X_test),shuffle=False)\n",
    "clf_dnn3t_predictions = list(clf_dnn3.predict(input_fn=pred_fn))\n",
    "clf_dnn3t_preds  = []\n",
    "for pred in clf_dnn3t_predictions:\n",
    "    clf_dnn3t_preds.append(pred['class_ids'][0])\n",
    "c_labels = [0,1] # [4,7]\n",
    "print_classificiation_reports(\"DNNClassifier: Report for Test data\",y_test,clf_dnn3t_preds,c_labels)"
   ]
  },
  {
   "cell_type": "code",
   "execution_count": 58,
   "metadata": {},
   "outputs": [
    {
     "data": {
      "text/html": [
       "<div>\n",
       "<style>\n",
       "    .dataframe thead tr:only-child th {\n",
       "        text-align: right;\n",
       "    }\n",
       "\n",
       "    .dataframe thead th {\n",
       "        text-align: left;\n",
       "    }\n",
       "\n",
       "    .dataframe tbody tr th {\n",
       "        vertical-align: top;\n",
       "    }\n",
       "</style>\n",
       "<table border=\"1\" class=\"dataframe\">\n",
       "  <thead>\n",
       "    <tr style=\"text-align: right;\">\n",
       "      <th></th>\n",
       "      <th>DNN [10, 20, 10]</th>\n",
       "      <th>DNN [20, 40, 80, 40, 20]</th>\n",
       "      <th>LinearClassifier</th>\n",
       "      <th>DNN [20, 40, 64, 128, 128, 64, 40, 20]</th>\n",
       "    </tr>\n",
       "  </thead>\n",
       "  <tbody>\n",
       "    <tr>\n",
       "      <th>precision</th>\n",
       "      <td>0.837002</td>\n",
       "      <td>0.892311</td>\n",
       "      <td>0.865132</td>\n",
       "      <td>0.892311</td>\n",
       "    </tr>\n",
       "    <tr>\n",
       "      <th>recall</th>\n",
       "      <td>0.842105</td>\n",
       "      <td>0.894737</td>\n",
       "      <td>0.868421</td>\n",
       "      <td>0.894737</td>\n",
       "    </tr>\n",
       "    <tr>\n",
       "      <th>f1-score</th>\n",
       "      <td>0.824642</td>\n",
       "      <td>0.889912</td>\n",
       "      <td>0.858499</td>\n",
       "      <td>0.889912</td>\n",
       "    </tr>\n",
       "  </tbody>\n",
       "</table>\n",
       "</div>"
      ],
      "text/plain": [
       "           DNN [10, 20, 10]  DNN [20, 40, 80, 40, 20]  LinearClassifier  \\\n",
       "precision          0.837002                  0.892311          0.865132   \n",
       "recall             0.842105                  0.894737          0.868421   \n",
       "f1-score           0.824642                  0.889912          0.858499   \n",
       "\n",
       "           DNN [20, 40, 64, 128, 128, 64, 40, 20]  \n",
       "precision                                0.892311  \n",
       "recall                                   0.894737  \n",
       "f1-score                                 0.889912  "
      ]
     },
     "execution_count": 58,
     "metadata": {},
     "output_type": "execute_result"
    }
   ],
   "source": [
    "d = {'DNN [20, 40, 64, 128, 128, 64, 40, 20]':precision_recall_fscore_support(y_test, clf_dnn2t_preds, average='weighted')[:3]}\n",
    "cls_results=pd.concat([cls_results,pd.DataFrame(data=d,index=cls_kpis)],axis=1)\n",
    "cls_results"
   ]
  }
 ],
 "metadata": {
  "kernelspec": {
   "display_name": "Python 3",
   "language": "python",
   "name": "python3"
  },
  "language_info": {
   "codemirror_mode": {
    "name": "ipython",
    "version": 3
   },
   "file_extension": ".py",
   "mimetype": "text/x-python",
   "name": "python",
   "nbconvert_exporter": "python",
   "pygments_lexer": "ipython3",
   "version": "3.5.4"
  }
 },
 "nbformat": 4,
 "nbformat_minor": 2
}
