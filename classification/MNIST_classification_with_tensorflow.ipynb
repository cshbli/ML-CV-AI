{
 "cells": [
  {
   "source": [
    "# MNIST with Tensorflow\n"
   ],
   "cell_type": "markdown",
   "metadata": {
    "colab_type": "text",
    "id": "rX8mhOLljYeM"
   }
  },
  {
   "source": [
    "## MNIST Dataset Overview\n",
    "\n",
    "This example is using MNIST handwritten digits. The dataset contains 60,000 examples for training and 10,000 examples for testing. The digits have been size-normalized and centered in a fixed-size image (28x28 pixels) with values from 0 to 1. For simplicity, each image has been flattened and converted to a 1-D numpy array of 784 features (28*28).\n",
    "\n",
    "![MNIST Dataset](http://neuralnetworksanddeeplearning.com/images/mnist_100_digits.png)\n",
    "\n",
    "More info: http://yann.lecun.com/exdb/mnist/"
   ],
   "cell_type": "markdown",
   "metadata": {
    "colab_type": "text",
    "id": "3wF5wszaj97Y"
   }
  },
  {
   "source": [
    "from __future__ import division, print_function, absolute_import\n",
    "\n",
    "import tensorflow as tf\n",
    "\n",
    "# Import MNIST data\n",
    "from tensorflow.examples.tutorials.mnist import input_data\n",
    "mnist = input_data.read_data_sets(\"/tmp/data/\", one_hot=True)"
   ],
   "cell_type": "code",
   "metadata": {
    "colab_type": "text",
    "id": "04QgGZc9bF5D",
    "tags": []
   },
   "execution_count": null,
   "outputs": []
  },
  {
   "source": [
    "# Training Parameters\n",
    "learning_rate = 0.001\n",
    "num_steps = 500\n",
    "batch_size = 128\n",
    "display_step = 10\n",
    "\n",
    "# Network Parameters\n",
    "num_input = 784 # MNIST data input (img shape: 28*28)\n",
    "num_classes = 10 # MNIST total classes (0-9 digits)\n",
    "dropout = 0.75 # Dropout, probability to keep units\n",
    "\n",
    "# tf Graph input\n",
    "X = tf.placeholder(tf.float32, [None, num_input])\n",
    "Y = tf.placeholder(tf.float32, [None, num_classes])\n",
    "keep_prob = tf.placeholder(tf.float32) # dropout (keep probability)"
   ],
   "cell_type": "code",
   "metadata": {
    "colab_type": "text",
    "id": "hiH7AC-NTniF"
   },
   "execution_count": 2,
   "outputs": []
  },
  {
   "source": [
    "# Create some wrappers for simplicity\n",
    "def conv2d(x, W, b, strides=1):\n",
    "    # Conv2D wrapper, with bias and relu activation\n",
    "    x = tf.nn.conv2d(x, W, strides=[1, strides, strides, 1], padding='SAME')\n",
    "    x = tf.nn.bias_add(x, b)\n",
    "    return tf.nn.relu(x)\n",
    "\n",
    "\n",
    "def maxpool2d(x, k=2):\n",
    "    # MaxPool2D wrapper\n",
    "    return tf.nn.max_pool(x, ksize=[1, k, k, 1], strides=[1, k, k, 1],\n",
    "                          padding='SAME')\n",
    "\n",
    "\n",
    "# Create model\n",
    "def conv_net(x, weights, biases, dropout):\n",
    "    # MNIST data input is a 1-D vector of 784 features (28*28 pixels)\n",
    "    # Reshape to match picture format [Height x Width x Channel]\n",
    "    # Tensor input become 4-D: [Batch Size, Height, Width, Channel]\n",
    "    x = tf.reshape(x, shape=[-1, 28, 28, 1])\n",
    "\n",
    "    # Convolution Layer\n",
    "    conv1 = conv2d(x, weights['wc1'], biases['bc1'])\n",
    "    # Max Pooling (down-sampling)\n",
    "    conv1 = maxpool2d(conv1, k=2)\n",
    "\n",
    "    # Convolution Layer\n",
    "    conv2 = conv2d(conv1, weights['wc2'], biases['bc2'])\n",
    "    # Max Pooling (down-sampling)\n",
    "    conv2 = maxpool2d(conv2, k=2)\n",
    "\n",
    "    # Fully connected layer\n",
    "    # Reshape conv2 output to fit fully connected layer input\n",
    "    fc1 = tf.reshape(conv2, [-1, weights['wd1'].get_shape().as_list()[0]])\n",
    "    fc1 = tf.add(tf.matmul(fc1, weights['wd1']), biases['bd1'])\n",
    "    fc1 = tf.nn.relu(fc1)\n",
    "    # Apply Dropout\n",
    "    fc1 = tf.nn.dropout(fc1, dropout)\n",
    "\n",
    "    # Output, class prediction\n",
    "    out = tf.add(tf.matmul(fc1, weights['out']), biases['out'])\n",
    "    return out"
   ],
   "cell_type": "code",
   "metadata": {
    "colab_type": "text",
    "id": "nnrWf3PCEzXL"
   },
   "execution_count": 3,
   "outputs": []
  },
  {
   "cell_type": "code",
   "execution_count": 4,
   "metadata": {
    "colab": {},
    "colab_type": "code",
    "id": "0trJmd6DjqBZ",
    "tags": []
   },
   "outputs": [
    {
     "output_type": "stream",
     "name": "stdout",
     "text": "WARNING:tensorflow:From <ipython-input-3-fce84427c804>:38: calling dropout (from tensorflow.python.ops.nn_ops) with keep_prob is deprecated and will be removed in a future version.\nInstructions for updating:\nPlease use `rate` instead of `keep_prob`. Rate should be set to `rate = 1 - keep_prob`.\nWARNING:tensorflow:From <ipython-input-4-3814cdbf73dc>:26: softmax_cross_entropy_with_logits (from tensorflow.python.ops.nn_ops) is deprecated and will be removed in a future version.\nInstructions for updating:\n\nFuture major versions of TensorFlow will allow gradients to flow\ninto the labels input on backprop by default.\n\nSee `tf.nn.softmax_cross_entropy_with_logits_v2`.\n\n"
    }
   ],
   "source": [
    "# Store layers weight & bias\n",
    "weights = {\n",
    "    # 5x5 conv, 1 input, 32 outputs\n",
    "    'wc1': tf.Variable(tf.random_normal([5, 5, 1, 32])),\n",
    "    # 5x5 conv, 32 inputs, 64 outputs\n",
    "    'wc2': tf.Variable(tf.random_normal([5, 5, 32, 64])),\n",
    "    # fully connected, 7*7*64 inputs, 1024 outputs\n",
    "    'wd1': tf.Variable(tf.random_normal([7*7*64, 1024])),\n",
    "    # 1024 inputs, 10 outputs (class prediction)\n",
    "    'out': tf.Variable(tf.random_normal([1024, num_classes]))\n",
    "}\n",
    "\n",
    "biases = {\n",
    "    'bc1': tf.Variable(tf.random_normal([32])),\n",
    "    'bc2': tf.Variable(tf.random_normal([64])),\n",
    "    'bd1': tf.Variable(tf.random_normal([1024])),\n",
    "    'out': tf.Variable(tf.random_normal([num_classes]))\n",
    "}\n",
    "\n",
    "# Construct model\n",
    "logits = conv_net(X, weights, biases, keep_prob)\n",
    "prediction = tf.nn.softmax(logits)\n",
    "\n",
    "# Define loss and optimizer\n",
    "loss_op = tf.reduce_mean(tf.nn.softmax_cross_entropy_with_logits(\n",
    "    logits=logits, labels=Y))\n",
    "optimizer = tf.train.AdamOptimizer(learning_rate=learning_rate)\n",
    "train_op = optimizer.minimize(loss_op)\n",
    "\n",
    "\n",
    "# Evaluate model\n",
    "correct_pred = tf.equal(tf.argmax(prediction, 1), tf.argmax(Y, 1))\n",
    "accuracy = tf.reduce_mean(tf.cast(correct_pred, tf.float32))\n",
    "\n",
    "# Initialize the variables (i.e. assign their default value)\n",
    "init = tf.global_variables_initializer()"
   ]
  },
  {
   "cell_type": "code",
   "execution_count": 5,
   "metadata": {
    "colab": {},
    "colab_type": "code",
    "id": "7FP5258xjs-v",
    "tags": []
   },
   "outputs": [
    {
     "output_type": "stream",
     "name": "stdout",
     "text": "Step 1, Minibatch Loss= 57781.3008, Training Accuracy= 0.117\nStep 10, Minibatch Loss= 23555.7695, Training Accuracy= 0.297\nStep 20, Minibatch Loss= 8565.0107, Training Accuracy= 0.414\nStep 30, Minibatch Loss= 5023.0566, Training Accuracy= 0.641\nStep 40, Minibatch Loss= 3920.5698, Training Accuracy= 0.641\nStep 50, Minibatch Loss= 2028.5922, Training Accuracy= 0.773\nStep 60, Minibatch Loss= 2334.3093, Training Accuracy= 0.797\nStep 70, Minibatch Loss= 2000.4214, Training Accuracy= 0.828\nStep 80, Minibatch Loss= 1560.4561, Training Accuracy= 0.859\nStep 90, Minibatch Loss= 2203.2820, Training Accuracy= 0.820\nStep 100, Minibatch Loss= 1064.1190, Training Accuracy= 0.859\nStep 110, Minibatch Loss= 858.4764, Training Accuracy= 0.898\nStep 120, Minibatch Loss= 962.6038, Training Accuracy= 0.914\nStep 130, Minibatch Loss= 1381.0117, Training Accuracy= 0.891\nStep 140, Minibatch Loss= 1139.6460, Training Accuracy= 0.906\nStep 150, Minibatch Loss= 1971.3760, Training Accuracy= 0.891\nStep 160, Minibatch Loss= 1379.2833, Training Accuracy= 0.906\nStep 170, Minibatch Loss= 1204.6354, Training Accuracy= 0.906\nStep 180, Minibatch Loss= 1147.2301, Training Accuracy= 0.914\nStep 190, Minibatch Loss= 1081.2473, Training Accuracy= 0.938\nStep 200, Minibatch Loss= 1142.8313, Training Accuracy= 0.930\nStep 210, Minibatch Loss= 848.1500, Training Accuracy= 0.922\nStep 220, Minibatch Loss= 771.1762, Training Accuracy= 0.922\nStep 230, Minibatch Loss= 1086.0779, Training Accuracy= 0.953\nStep 240, Minibatch Loss= 1129.0964, Training Accuracy= 0.945\nStep 250, Minibatch Loss= 735.9059, Training Accuracy= 0.922\nStep 260, Minibatch Loss= 807.6173, Training Accuracy= 0.914\nStep 270, Minibatch Loss= 1082.5437, Training Accuracy= 0.922\nStep 280, Minibatch Loss= 720.8595, Training Accuracy= 0.945\nStep 290, Minibatch Loss= 977.2702, Training Accuracy= 0.914\nStep 300, Minibatch Loss= 456.3548, Training Accuracy= 0.945\nStep 310, Minibatch Loss= 356.1745, Training Accuracy= 0.945\nStep 320, Minibatch Loss= 546.5989, Training Accuracy= 0.953\nStep 330, Minibatch Loss= 816.0458, Training Accuracy= 0.938\nStep 340, Minibatch Loss= 358.0466, Training Accuracy= 0.969\nStep 350, Minibatch Loss= 745.1694, Training Accuracy= 0.938\nStep 360, Minibatch Loss= 833.0060, Training Accuracy= 0.930\nStep 370, Minibatch Loss= 190.6211, Training Accuracy= 0.969\nStep 380, Minibatch Loss= 497.4445, Training Accuracy= 0.953\nStep 390, Minibatch Loss= 534.3495, Training Accuracy= 0.938\nStep 400, Minibatch Loss= 364.0131, Training Accuracy= 0.953\nStep 410, Minibatch Loss= 415.4896, Training Accuracy= 0.938\nStep 420, Minibatch Loss= 247.4175, Training Accuracy= 0.969\nStep 430, Minibatch Loss= 655.6713, Training Accuracy= 0.945\nStep 440, Minibatch Loss= 257.3464, Training Accuracy= 0.961\nStep 450, Minibatch Loss= 261.9301, Training Accuracy= 0.977\nStep 460, Minibatch Loss= 367.2194, Training Accuracy= 0.945\nStep 470, Minibatch Loss= 283.9871, Training Accuracy= 0.953\nStep 480, Minibatch Loss= 224.9075, Training Accuracy= 0.969\nStep 490, Minibatch Loss= 552.7490, Training Accuracy= 0.945\nStep 500, Minibatch Loss= 854.4854, Training Accuracy= 0.938\nOptimization Finished!\nTesting Accuracy: 0.9765625\n"
    }
   ],
   "source": [
    "# Start training\n",
    "with tf.Session() as sess:\n",
    "\n",
    "    # Run the initializer\n",
    "    sess.run(init)\n",
    "\n",
    "    for step in range(1, num_steps+1):\n",
    "        batch_x, batch_y = mnist.train.next_batch(batch_size)\n",
    "        # Run optimization op (backprop)\n",
    "        sess.run(train_op, feed_dict={X: batch_x, Y: batch_y, keep_prob: dropout})\n",
    "        if step % display_step == 0 or step == 1:\n",
    "            # Calculate batch loss and accuracy\n",
    "            loss, acc = sess.run([loss_op, accuracy], feed_dict={X: batch_x,\n",
    "                                                                 Y: batch_y,\n",
    "                                                                 keep_prob: 1.0})\n",
    "            print(\"Step \" + str(step) + \", Minibatch Loss= \" + \\\n",
    "                  \"{:.4f}\".format(loss) + \", Training Accuracy= \" + \\\n",
    "                  \"{:.3f}\".format(acc))\n",
    "\n",
    "    print(\"Optimization Finished!\")\n",
    "\n",
    "    # Calculate accuracy for 256 MNIST test images\n",
    "    print(\"Testing Accuracy:\", \\\n",
    "        sess.run(accuracy, feed_dict={X: mnist.test.images[:256],\n",
    "                                      Y: mnist.test.labels[:256],\n",
    "                                      keep_prob: 1.0}))"
   ]
  }
 ],
 "metadata": {
  "colab": {
   "collapsed_sections": [
    "rX8mhOLljYeM"
   ],
   "name": "beginner.ipynb",
   "private_outputs": true,
   "provenance": [],
   "toc_visible": true
  },
  "kernelspec": {
   "display_name": "Python 3",
   "name": "python3"
  },
  "language_info": {
   "codemirror_mode": {
    "name": "ipython",
    "version": 3
   },
   "file_extension": ".py",
   "mimetype": "text/x-python",
   "name": "python",
   "nbconvert_exporter": "python",
   "pygments_lexer": "ipython3",
   "version": "3.6.9-final"
  }
 },
 "nbformat": 4,
 "nbformat_minor": 0
}