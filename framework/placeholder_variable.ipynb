{
  "cells": [
    {
      "cell_type": "markdown",
      "metadata": {},
      "source": [
        "# tf.placeholder and tf.Variable\n",
        "\n",
        "- tf.Variable\n",
        "\n",
        "    * tf.Variable is for trainable variables such as weights (W) and biases (B) for your model.\n",
        "\n",
        "    * You have to provide an initial value when you declare it, often random.\n",
        "\n",
        "    * Initialization of the variables is done with `sess.run(tf.global_variables_initializer())`. Also while creating a variable, you need to pass a Tensor as its initial value to the Variable() constructor and when you create a variable you always know its shape.\n",
        "\n",
        "- tf.placeholder\n",
        "\n",
        "    * tf.placeholder is used to feed actual training examples.\n",
        "\n",
        "    * You don't have to provide an initial value and you can specify it at run time with the `feed_dict` argument inside `Session.run`. \n",
        "\n",
        "    * On the other hand, you can't update the placeholder. In comparison to a variable, placeholder might not know the shape. You can either provide parts of the dimensions or provide nothing at all.\n",
        "\n",
        "Other notes:\n",
        "\n",
        "* the values inside the variable can be updated during optimizations\n",
        "\n",
        "* variables can be shared, and can be non-trainable\n",
        "\n",
        "* the values inside the variable can be stored after training\n",
        "\n",
        "* when the variable is created, 3 ops are added to a graph (variable op, initializer op, ops for the initial value)\n",
        "\n",
        "* placeholder is a function, Variable is a class (hence an uppercase)\n",
        "\n",
        "* when you use TF in a distributed environment, variables are stored in a special place (parameter server) and are shared between the workers.\n",
        "    \n"
      ]
    },
    {
      "cell_type": "code",
      "execution_count": 1,
      "metadata": {},
      "outputs": [],
      "source": [
        "import numpy as np\n",
        "import tensorflow as tf\n",
        "\n",
        "### Model parameters ###\n",
        "W = tf.Variable([.3], tf.float32)\n",
        "b = tf.Variable([-.3], tf.float32)\n",
        "\n",
        "### Model input and output ###\n",
        "x = tf.placeholder(tf.float32)\n",
        "linear_model = W * x + b\n",
        "y = tf.placeholder(tf.float32)\n",
        "\n",
        "### loss ###\n",
        "loss = tf.reduce_sum(tf.square(linear_model - y)) # sum of the squares\n",
        "\n",
        "### optimizer ###\n",
        "optimizer = tf.train.GradientDescentOptimizer(0.01)\n",
        "train = optimizer.minimize(loss)\n",
        "\n",
        "### training data ###\n",
        "x_train = [1,2,3,4]\n",
        "y_train = [0,-1,-2,-3]\n",
        "\n",
        "### training loop ###\n",
        "init = tf.global_variables_initializer()\n",
        "sess = tf.Session()\n",
        "sess.run(init) # reset values to wrong\n",
        "for i in range(1000):\n",
        "  sess.run(train, {x:x_train, y:y_train})"
      ]
    },
    {
      "cell_type": "code",
      "execution_count": 3,
      "metadata": {},
      "outputs": [
        {
          "output_type": "stream",
          "name": "stdout",
          "text": "7.5\n[3. 7.]\n"
        }
      ],
      "source": [
        "import tensorflow as tf\n",
        "\n",
        "a = tf.placeholder(tf.float32)  # without shape\n",
        "b = tf.placeholder(tf.float32)  # without shape\n",
        "add_node = a + b    # + provides a shortcut for tf.add(a, b)\n",
        "\n",
        "print(sess.run(add_node, {a: 3, b:4.5}))\n",
        "print(sess.run(add_node, {a: [1,3], b: [2, 4]}))"
      ]
    },
    {
      "cell_type": "code",
      "execution_count": 5,
      "metadata": {},
      "outputs": [
        {
          "output_type": "stream",
          "name": "stdout",
          "text": "42\n"
        }
      ],
      "source": [
        "import tensorflow as tf\n",
        "\n",
        "x = tf.Variable(3, name=\"x\")\n",
        "y = tf.Variable(4, name=\"y\")\n",
        "f = x*x*y + y + 2\n",
        "\n",
        "# This creates a computation graph. The variables (x and y) can be initialized and the function\n",
        "# (f) evaluated in a tensorflow session as follows:\n",
        "\n",
        "with tf.Session() as sess:\n",
        "     x.initializer.run()\n",
        "     y.initializer.run()\n",
        "     result = f.eval()\n",
        "print(result)"
      ]
    },
    {
      "cell_type": "code",
      "execution_count": 7,
      "metadata": {},
      "outputs": [
        {
          "output_type": "stream",
          "name": "stdout",
          "text": "[[6. 7. 8.]]\n[[ 9. 10. 11.]\n [12. 13. 14.]]\n"
        }
      ],
      "source": [
        "import tensorflow as tf\n",
        "\n",
        "# Note: 'None' for a dimension means 'any size'.\n",
        "A = tf.placeholder(tf.float32, shape=(None, 3))\n",
        "B = A + 5\n",
        "\n",
        "with tf.Session() as sess:\n",
        "    B_val_1 = B.eval(feed_dict={A: [[1, 2, 3]]})\n",
        "    B_val_2 = B.eval(feed_dict={A: [[4, 5, 6], [7, 8, 9]]})\n",
        "\n",
        "print(B_val_1)\n",
        "print(B_val_2)"
      ]
    }
  ],
  "metadata": {
    "kernelspec": {
      "display_name": "Python 3.6.9 64-bit",
      "language": "python",
      "name": "python36964bit1e1001aa09194e9bb96c94cb914c3517"
    },
    "language_info": {
      "codemirror_mode": {
        "name": "ipython",
        "version": 3
      },
      "file_extension": ".py",
      "mimetype": "text/x-python",
      "name": "python",
      "nbconvert_exporter": "python",
      "pygments_lexer": "ipython3",
      "version": "3.6.9-final"
    }
  },
  "nbformat": 4,
  "nbformat_minor": 0
}