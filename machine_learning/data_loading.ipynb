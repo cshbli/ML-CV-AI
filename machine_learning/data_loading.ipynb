{
 "cells": [
  {
   "cell_type": "markdown",
   "metadata": {},
   "source": [
    "# Methods to Load CSV Data File\n",
    "\n",
    "With respect to tabular data, the most common format of data for ML projects is `CSV (Comma Separated Values)`. CSV is a simple file format which is used to store tabular data (number and text) such as a spreadsheet in plain text. \n",
    "\n",
    "## Consideration While Loading CSV data\n",
    "\n",
    "### File Header\n",
    "\n",
    "In CSV data files, the header contains the information for each field. \n",
    "The following are the two cases related to CSV file header which must be considered:\n",
    "- Case-I: When Data file is having a file header: It will automatically assign the names to each column of data if data file is having a file header.\n",
    "- Case-II: When Data file is not having a file header: We need to assign the names to each column of data manually if data file is not having a file header.\n",
    "\n",
    "In both the cases, we must need to specify explicitly weather our CSV file contains header or not.\n",
    "\n",
    "### Comments: \n",
    "In CSV data file, comments are indicated by a hash (#) at the start of the line.\n",
    "\n",
    "### Delimiter: \n",
    "In CSV data files, comma (,) character is the standard delimiter. we can also use a different delimiter such as a tab or white space. But in the case of using a different delimiter than standard one, we must have to specify it explicitly.\n",
    "\n",
    "### Quotes: \n",
    "In CSV data files, double quotation (“ ”) mark is the default quote character.\n",
    "\n",
    "The dataset we are going to use is the famous Iris data set. Some additional information about the Iris dataset is available at:\n",
    "\n",
    "https://archive.ics.uci.edu/ml/datasets/iris\n",
    "\n",
    "The dataset consists of 150 records of Iris plant with four features: 'sepal-length', 'sepal-width', 'petal-length', and 'petal-width'. All of the features are numeric. The records have been classified into one of the three classes i.e. 'Iris-setosa', 'Iris-versicolor', or 'Iris-verginica'."
   ]
  },
  {
   "cell_type": "markdown",
   "metadata": {},
   "source": [
    "## Load CSV with Python Standard Library"
   ]
  },
  {
   "cell_type": "markdown",
   "metadata": {},
   "source": [
    "First, we need to import the csv module provided by Python standard library as follows:"
   ]
  },
  {
   "cell_type": "code",
   "execution_count": 1,
   "metadata": {},
   "outputs": [],
   "source": [
    "import csv"
   ]
  },
  {
   "cell_type": "markdown",
   "metadata": {},
   "source": [
    "Next, we need to import Numpy module for converting the loaded data into NumPy array."
   ]
  },
  {
   "cell_type": "code",
   "execution_count": 2,
   "metadata": {},
   "outputs": [],
   "source": [
    "import numpy as np"
   ]
  },
  {
   "cell_type": "markdown",
   "metadata": {},
   "source": [
    "Now, provide the full path of the file, stored on my local directory, having the CSV data file:"
   ]
  },
  {
   "cell_type": "code",
   "execution_count": 3,
   "metadata": {},
   "outputs": [],
   "source": [
    "path = \"iris_with_header_without_class.csv\""
   ]
  },
  {
   "cell_type": "markdown",
   "metadata": {},
   "source": [
    "Next, use the __`csv.reader()`__function to read data from CSV file:"
   ]
  },
  {
   "cell_type": "code",
   "execution_count": 4,
   "metadata": {},
   "outputs": [],
   "source": [
    "with open(path,'r') as f:\n",
    "    reader = csv.reader(f,delimiter = ',')\n",
    "    headers = next(reader)    \n",
    "    data = list(reader)    \n",
    "    data = np.array(data).astype(float)"
   ]
  },
  {
   "cell_type": "markdown",
   "metadata": {},
   "source": [
    "We can print the names of the headers with the following line of script:"
   ]
  },
  {
   "cell_type": "code",
   "execution_count": 5,
   "metadata": {},
   "outputs": [
    {
     "name": "stdout",
     "output_type": "stream",
     "text": [
      "['sepal_length', 'sepal_width', 'petal_length', 'petal_width']\n"
     ]
    }
   ],
   "source": [
    "print(headers)"
   ]
  },
  {
   "cell_type": "markdown",
   "metadata": {},
   "source": [
    "The following line of script will print the shape of the data i.e. number of rows & columns in the file:"
   ]
  },
  {
   "cell_type": "code",
   "execution_count": 6,
   "metadata": {},
   "outputs": [
    {
     "name": "stdout",
     "output_type": "stream",
     "text": [
      "(150, 4)\n"
     ]
    }
   ],
   "source": [
    "print(data.shape)"
   ]
  },
  {
   "cell_type": "markdown",
   "metadata": {},
   "source": [
    "Next script line will give the first three line of data file:"
   ]
  },
  {
   "cell_type": "code",
   "execution_count": 7,
   "metadata": {},
   "outputs": [
    {
     "name": "stdout",
     "output_type": "stream",
     "text": [
      "[[5.1 3.5 1.4 0.2]\n",
      " [4.9 3.  1.4 0.2]\n",
      " [4.7 3.2 1.3 0.2]]\n"
     ]
    }
   ],
   "source": [
    "print(data[:3])"
   ]
  },
  {
   "cell_type": "markdown",
   "metadata": {},
   "source": [
    "---\n",
    "Let's see what is going to happen if we want to load data with class (which is string data type)"
   ]
  },
  {
   "cell_type": "code",
   "execution_count": 3,
   "metadata": {},
   "outputs": [],
   "source": [
    "path = \"iris_with_header.csv\"\n",
    "with open(path,'r') as f:\n",
    "    reader = csv.reader(f,delimiter = ',')\n",
    "    headers = next(reader)    \n",
    "    data = list(reader)    "
   ]
  },
  {
   "cell_type": "code",
   "execution_count": 6,
   "metadata": {},
   "outputs": [
    {
     "name": "stderr",
     "output_type": "stream",
     "text": [
      "/tmp/ipykernel_5213/4012140830.py:1: VisibleDeprecationWarning: Creating an ndarray from ragged nested sequences (which is a list-or-tuple of lists-or-tuples-or ndarrays with different lengths or shapes) is deprecated. If you meant to do this, you must specify 'dtype=object' when creating the ndarray.\n",
      "  data = np.array(data)\n"
     ]
    }
   ],
   "source": [
    "data = np.array(data)"
   ]
  },
  {
   "cell_type": "code",
   "execution_count": 7,
   "metadata": {},
   "outputs": [
    {
     "data": {
      "text/plain": [
       "(151,)"
      ]
     },
     "execution_count": 7,
     "metadata": {},
     "output_type": "execute_result"
    }
   ],
   "source": [
    "data.shape"
   ]
  },
  {
   "cell_type": "code",
   "execution_count": 8,
   "metadata": {},
   "outputs": [],
   "source": [
    "with open(path,'r') as f:\n",
    "    reader = csv.reader(f,delimiter = ',')\n",
    "    headers = next(reader)    \n",
    "    data = list(reader)\n",
    "    data = np.array(data, dtype='object') "
   ]
  },
  {
   "cell_type": "code",
   "execution_count": 9,
   "metadata": {},
   "outputs": [
    {
     "data": {
      "text/plain": [
       "(151,)"
      ]
     },
     "execution_count": 9,
     "metadata": {},
     "output_type": "execute_result"
    }
   ],
   "source": [
    "data.shape"
   ]
  },
  {
   "cell_type": "code",
   "execution_count": 10,
   "metadata": {},
   "outputs": [
    {
     "name": "stdout",
     "output_type": "stream",
     "text": [
      "[list(['5.1', '3.5', '1.4', '0.2', 'Iris-setosa'])\n",
      " list(['4.9', '3.0', '1.4', '0.2', 'Iris-setosa'])\n",
      " list(['4.7', '3.2', '1.3', '0.2', 'Iris-setosa'])\n",
      " list(['4.6', '3.1', '1.5', '0.2', 'Iris-setosa'])\n",
      " list(['5.0', '3.6', '1.4', '0.2', 'Iris-setosa'])\n",
      " list(['5.4', '3.9', '1.7', '0.4', 'Iris-setosa'])\n",
      " list(['4.6', '3.4', '1.4', '0.3', 'Iris-setosa'])\n",
      " list(['5.0', '3.4', '1.5', '0.2', 'Iris-setosa'])\n",
      " list(['4.4', '2.9', '1.4', '0.2', 'Iris-setosa'])\n",
      " list(['4.9', '3.1', '1.5', '0.1', 'Iris-setosa'])\n",
      " list(['5.4', '3.7', '1.5', '0.2', 'Iris-setosa'])\n",
      " list(['4.8', '3.4', '1.6', '0.2', 'Iris-setosa'])\n",
      " list(['4.8', '3.0', '1.4', '0.1', 'Iris-setosa'])\n",
      " list(['4.3', '3.0', '1.1', '0.1', 'Iris-setosa'])\n",
      " list(['5.8', '4.0', '1.2', '0.2', 'Iris-setosa'])\n",
      " list(['5.7', '4.4', '1.5', '0.4', 'Iris-setosa'])\n",
      " list(['5.4', '3.9', '1.3', '0.4', 'Iris-setosa'])\n",
      " list(['5.1', '3.5', '1.4', '0.3', 'Iris-setosa'])\n",
      " list(['5.7', '3.8', '1.7', '0.3', 'Iris-setosa'])\n",
      " list(['5.1', '3.8', '1.5', '0.3', 'Iris-setosa'])\n",
      " list(['5.4', '3.4', '1.7', '0.2', 'Iris-setosa'])\n",
      " list(['5.1', '3.7', '1.5', '0.4', 'Iris-setosa'])\n",
      " list(['4.6', '3.6', '1.0', '0.2', 'Iris-setosa'])\n",
      " list(['5.1', '3.3', '1.7', '0.5', 'Iris-setosa'])\n",
      " list(['4.8', '3.4', '1.9', '0.2', 'Iris-setosa'])\n",
      " list(['5.0', '3.0', '1.6', '0.2', 'Iris-setosa'])\n",
      " list(['5.0', '3.4', '1.6', '0.4', 'Iris-setosa'])\n",
      " list(['5.2', '3.5', '1.5', '0.2', 'Iris-setosa'])\n",
      " list(['5.2', '3.4', '1.4', '0.2', 'Iris-setosa'])\n",
      " list(['4.7', '3.2', '1.6', '0.2', 'Iris-setosa'])\n",
      " list(['4.8', '3.1', '1.6', '0.2', 'Iris-setosa'])\n",
      " list(['5.4', '3.4', '1.5', '0.4', 'Iris-setosa'])\n",
      " list(['5.2', '4.1', '1.5', '0.1', 'Iris-setosa'])\n",
      " list(['5.5', '4.2', '1.4', '0.2', 'Iris-setosa'])\n",
      " list(['4.9', '3.1', '1.5', '0.1', 'Iris-setosa'])\n",
      " list(['5.0', '3.2', '1.2', '0.2', 'Iris-setosa'])\n",
      " list(['5.5', '3.5', '1.3', '0.2', 'Iris-setosa'])\n",
      " list(['4.9', '3.1', '1.5', '0.1', 'Iris-setosa'])\n",
      " list(['4.4', '3.0', '1.3', '0.2', 'Iris-setosa'])\n",
      " list(['5.1', '3.4', '1.5', '0.2', 'Iris-setosa'])\n",
      " list(['5.0', '3.5', '1.3', '0.3', 'Iris-setosa'])\n",
      " list(['4.5', '2.3', '1.3', '0.3', 'Iris-setosa'])\n",
      " list(['4.4', '3.2', '1.3', '0.2', 'Iris-setosa'])\n",
      " list(['5.0', '3.5', '1.6', '0.6', 'Iris-setosa'])\n",
      " list(['5.1', '3.8', '1.9', '0.4', 'Iris-setosa'])\n",
      " list(['4.8', '3.0', '1.4', '0.3', 'Iris-setosa'])\n",
      " list(['5.1', '3.8', '1.6', '0.2', 'Iris-setosa'])\n",
      " list(['4.6', '3.2', '1.4', '0.2', 'Iris-setosa'])\n",
      " list(['5.3', '3.7', '1.5', '0.2', 'Iris-setosa'])\n",
      " list(['5.0', '3.3', '1.4', '0.2', 'Iris-setosa'])\n",
      " list(['7.0', '3.2', '4.7', '1.4', 'Iris-versicolor'])\n",
      " list(['6.4', '3.2', '4.5', '1.5', 'Iris-versicolor'])\n",
      " list(['6.9', '3.1', '4.9', '1.5', 'Iris-versicolor'])\n",
      " list(['5.5', '2.3', '4.0', '1.3', 'Iris-versicolor'])\n",
      " list(['6.5', '2.8', '4.6', '1.5', 'Iris-versicolor'])\n",
      " list(['5.7', '2.8', '4.5', '1.3', 'Iris-versicolor'])\n",
      " list(['6.3', '3.3', '4.7', '1.6', 'Iris-versicolor'])\n",
      " list(['4.9', '2.4', '3.3', '1.0', 'Iris-versicolor'])\n",
      " list(['6.6', '2.9', '4.6', '1.3', 'Iris-versicolor'])\n",
      " list(['5.2', '2.7', '3.9', '1.4', 'Iris-versicolor'])\n",
      " list(['5.0', '2.0', '3.5', '1.0', 'Iris-versicolor'])\n",
      " list(['5.9', '3.0', '4.2', '1.5', 'Iris-versicolor'])\n",
      " list(['6.0', '2.2', '4.0', '1.0', 'Iris-versicolor'])\n",
      " list(['6.1', '2.9', '4.7', '1.4', 'Iris-versicolor'])\n",
      " list(['5.6', '2.9', '3.6', '1.3', 'Iris-versicolor'])\n",
      " list(['6.7', '3.1', '4.4', '1.4', 'Iris-versicolor'])\n",
      " list(['5.6', '3.0', '4.5', '1.5', 'Iris-versicolor'])\n",
      " list(['5.8', '2.7', '4.1', '1.0', 'Iris-versicolor'])\n",
      " list(['6.2', '2.2', '4.5', '1.5', 'Iris-versicolor'])\n",
      " list(['5.6', '2.5', '3.9', '1.1', 'Iris-versicolor'])\n",
      " list(['5.9', '3.2', '4.8', '1.8', 'Iris-versicolor'])\n",
      " list(['6.1', '2.8', '4.0', '1.3', 'Iris-versicolor'])\n",
      " list(['6.3', '2.5', '4.9', '1.5', 'Iris-versicolor'])\n",
      " list(['6.1', '2.8', '4.7', '1.2', 'Iris-versicolor'])\n",
      " list(['6.4', '2.9', '4.3', '1.3', 'Iris-versicolor'])\n",
      " list(['6.6', '3.0', '4.4', '1.4', 'Iris-versicolor'])\n",
      " list(['6.8', '2.8', '4.8', '1.4', 'Iris-versicolor'])\n",
      " list(['6.7', '3.0', '5.0', '1.7', 'Iris-versicolor'])\n",
      " list(['6.0', '2.9', '4.5', '1.5', 'Iris-versicolor'])\n",
      " list(['5.7', '2.6', '3.5', '1.0', 'Iris-versicolor'])\n",
      " list(['5.5', '2.4', '3.8', '1.1', 'Iris-versicolor'])\n",
      " list(['5.5', '2.4', '3.7', '1.0', 'Iris-versicolor'])\n",
      " list(['5.8', '2.7', '3.9', '1.2', 'Iris-versicolor'])\n",
      " list(['6.0', '2.7', '5.1', '1.6', 'Iris-versicolor'])\n",
      " list(['5.4', '3.0', '4.5', '1.5', 'Iris-versicolor'])\n",
      " list(['6.0', '3.4', '4.5', '1.6', 'Iris-versicolor'])\n",
      " list(['6.7', '3.1', '4.7', '1.5', 'Iris-versicolor'])\n",
      " list(['6.3', '2.3', '4.4', '1.3', 'Iris-versicolor'])\n",
      " list(['5.6', '3.0', '4.1', '1.3', 'Iris-versicolor'])\n",
      " list(['5.5', '2.5', '4.0', '1.3', 'Iris-versicolor'])\n",
      " list(['5.5', '2.6', '4.4', '1.2', 'Iris-versicolor'])\n",
      " list(['6.1', '3.0', '4.6', '1.4', 'Iris-versicolor'])\n",
      " list(['5.8', '2.6', '4.0', '1.2', 'Iris-versicolor'])\n",
      " list(['5.0', '2.3', '3.3', '1.0', 'Iris-versicolor'])\n",
      " list(['5.6', '2.7', '4.2', '1.3', 'Iris-versicolor'])\n",
      " list(['5.7', '3.0', '4.2', '1.2', 'Iris-versicolor'])\n",
      " list(['5.7', '2.9', '4.2', '1.3', 'Iris-versicolor'])\n",
      " list(['6.2', '2.9', '4.3', '1.3', 'Iris-versicolor'])\n",
      " list(['5.1', '2.5', '3.0', '1.1', 'Iris-versicolor'])\n",
      " list(['5.7', '2.8', '4.1', '1.3', 'Iris-versicolor'])\n",
      " list(['6.3', '3.3', '6.0', '2.5', 'Iris-virginica'])\n",
      " list(['5.8', '2.7', '5.1', '1.9', 'Iris-virginica'])\n",
      " list(['7.1', '3.0', '5.9', '2.1', 'Iris-virginica'])\n",
      " list(['6.3', '2.9', '5.6', '1.8', 'Iris-virginica'])\n",
      " list(['6.5', '3.0', '5.8', '2.2', 'Iris-virginica'])\n",
      " list(['7.6', '3.0', '6.6', '2.1', 'Iris-virginica'])\n",
      " list(['4.9', '2.5', '4.5', '1.7', 'Iris-virginica'])\n",
      " list(['7.3', '2.9', '6.3', '1.8', 'Iris-virginica'])\n",
      " list(['6.7', '2.5', '5.8', '1.8', 'Iris-virginica'])\n",
      " list(['7.2', '3.6', '6.1', '2.5', 'Iris-virginica'])\n",
      " list(['6.5', '3.2', '5.1', '2.0', 'Iris-virginica'])\n",
      " list(['6.4', '2.7', '5.3', '1.9', 'Iris-virginica'])\n",
      " list(['6.8', '3.0', '5.5', '2.1', 'Iris-virginica'])\n",
      " list(['5.7', '2.5', '5.0', '2.0', 'Iris-virginica'])\n",
      " list(['5.8', '2.8', '5.1', '2.4', 'Iris-virginica'])\n",
      " list(['6.4', '3.2', '5.3', '2.3', 'Iris-virginica'])\n",
      " list(['6.5', '3.0', '5.5', '1.8', 'Iris-virginica'])\n",
      " list(['7.7', '3.8', '6.7', '2.2', 'Iris-virginica'])\n",
      " list(['7.7', '2.6', '6.9', '2.3', 'Iris-virginica'])\n",
      " list(['6.0', '2.2', '5.0', '1.5', 'Iris-virginica'])\n",
      " list(['6.9', '3.2', '5.7', '2.3', 'Iris-virginica'])\n",
      " list(['5.6', '2.8', '4.9', '2.0', 'Iris-virginica'])\n",
      " list(['7.7', '2.8', '6.7', '2.0', 'Iris-virginica'])\n",
      " list(['6.3', '2.7', '4.9', '1.8', 'Iris-virginica'])\n",
      " list(['6.7', '3.3', '5.7', '2.1', 'Iris-virginica'])\n",
      " list(['7.2', '3.2', '6.0', '1.8', 'Iris-virginica'])\n",
      " list(['6.2', '2.8', '4.8', '1.8', 'Iris-virginica'])\n",
      " list(['6.1', '3.0', '4.9', '1.8', 'Iris-virginica'])\n",
      " list(['6.4', '2.8', '5.6', '2.1', 'Iris-virginica'])\n",
      " list(['7.2', '3.0', '5.8', '1.6', 'Iris-virginica'])\n",
      " list(['7.4', '2.8', '6.1', '1.9', 'Iris-virginica'])\n",
      " list(['7.9', '3.8', '6.4', '2.0', 'Iris-virginica'])\n",
      " list(['6.4', '2.8', '5.6', '2.2', 'Iris-virginica'])\n",
      " list(['6.3', '2.8', '5.1', '1.5', 'Iris-virginica'])\n",
      " list(['6.1', '2.6', '5.6', '1.4', 'Iris-virginica'])\n",
      " list(['7.7', '3.0', '6.1', '2.3', 'Iris-virginica'])\n",
      " list(['6.3', '3.4', '5.6', '2.4', 'Iris-virginica'])\n",
      " list(['6.4', '3.1', '5.5', '1.8', 'Iris-virginica'])\n",
      " list(['6.0', '3.0', '4.8', '1.8', 'Iris-virginica'])\n",
      " list(['6.9', '3.1', '5.4', '2.1', 'Iris-virginica'])\n",
      " list(['6.7', '3.1', '5.6', '2.4', 'Iris-virginica'])\n",
      " list(['6.9', '3.1', '5.1', '2.3', 'Iris-virginica'])\n",
      " list(['5.8', '2.7', '5.1', '1.9', 'Iris-virginica'])\n",
      " list(['6.8', '3.2', '5.9', '2.3', 'Iris-virginica'])\n",
      " list(['6.7', '3.3', '5.7', '2.5', 'Iris-virginica'])\n",
      " list(['6.7', '3.0', '5.2', '2.3', 'Iris-virginica'])\n",
      " list(['6.3', '2.5', '5.0', '1.9', 'Iris-virginica'])\n",
      " list(['6.5', '3.0', '5.2', '2.0', 'Iris-virginica'])\n",
      " list(['6.2', '3.4', '5.4', '2.3', 'Iris-virginica'])\n",
      " list(['5.9', '3.0', '5.1', '1.8', 'Iris-virginica']) list([])]\n"
     ]
    }
   ],
   "source": [
    "print(data)"
   ]
  },
  {
   "cell_type": "markdown",
   "metadata": {},
   "source": [
    "## Load CSV with NumPy"
   ]
  },
  {
   "cell_type": "markdown",
   "metadata": {},
   "source": [
    "Another approach to load CSV data file is `NumPy` and `numpy.loadtxt()` function."
   ]
  },
  {
   "cell_type": "code",
   "execution_count": 8,
   "metadata": {},
   "outputs": [
    {
     "name": "stdout",
     "output_type": "stream",
     "text": [
      "(150, 4)\n",
      "[[5.1 3.5 1.4 0.2]\n",
      " [4.9 3.  1.4 0.2]\n",
      " [4.7 3.2 1.3 0.2]]\n"
     ]
    }
   ],
   "source": [
    "from numpy import loadtxt\n",
    "\n",
    "path = \"iris_without_header_without_class.csv\"\n",
    "datapath= open(path, 'r')\n",
    "data = loadtxt(datapath, delimiter=\",\")\n",
    "print(data.shape)\n",
    "print(data[:3])"
   ]
  },
  {
   "cell_type": "markdown",
   "metadata": {},
   "source": [
    "## Load CSV with Pandas"
   ]
  },
  {
   "cell_type": "markdown",
   "metadata": {},
   "source": [
    "Another approach to load CSV data file is by __`Pandas`__ and **`pandas.read_csv()`** function. This is the very flexible function that returns a __`pandas.DataFrame`__."
   ]
  },
  {
   "cell_type": "code",
   "execution_count": 9,
   "metadata": {},
   "outputs": [
    {
     "data": {
      "text/html": [
       "<div>\n",
       "<style scoped>\n",
       "    .dataframe tbody tr th:only-of-type {\n",
       "        vertical-align: middle;\n",
       "    }\n",
       "\n",
       "    .dataframe tbody tr th {\n",
       "        vertical-align: top;\n",
       "    }\n",
       "\n",
       "    .dataframe thead th {\n",
       "        text-align: right;\n",
       "    }\n",
       "</style>\n",
       "<table border=\"1\" class=\"dataframe\">\n",
       "  <thead>\n",
       "    <tr style=\"text-align: right;\">\n",
       "      <th></th>\n",
       "      <th>0</th>\n",
       "      <th>1</th>\n",
       "      <th>2</th>\n",
       "      <th>3</th>\n",
       "      <th>4</th>\n",
       "    </tr>\n",
       "  </thead>\n",
       "  <tbody>\n",
       "    <tr>\n",
       "      <th>145</th>\n",
       "      <td>6.7</td>\n",
       "      <td>3.0</td>\n",
       "      <td>5.2</td>\n",
       "      <td>2.3</td>\n",
       "      <td>Iris-virginica</td>\n",
       "    </tr>\n",
       "    <tr>\n",
       "      <th>146</th>\n",
       "      <td>6.3</td>\n",
       "      <td>2.5</td>\n",
       "      <td>5.0</td>\n",
       "      <td>1.9</td>\n",
       "      <td>Iris-virginica</td>\n",
       "    </tr>\n",
       "    <tr>\n",
       "      <th>147</th>\n",
       "      <td>6.5</td>\n",
       "      <td>3.0</td>\n",
       "      <td>5.2</td>\n",
       "      <td>2.0</td>\n",
       "      <td>Iris-virginica</td>\n",
       "    </tr>\n",
       "    <tr>\n",
       "      <th>148</th>\n",
       "      <td>6.2</td>\n",
       "      <td>3.4</td>\n",
       "      <td>5.4</td>\n",
       "      <td>2.3</td>\n",
       "      <td>Iris-virginica</td>\n",
       "    </tr>\n",
       "    <tr>\n",
       "      <th>149</th>\n",
       "      <td>5.9</td>\n",
       "      <td>3.0</td>\n",
       "      <td>5.1</td>\n",
       "      <td>1.8</td>\n",
       "      <td>Iris-virginica</td>\n",
       "    </tr>\n",
       "  </tbody>\n",
       "</table>\n",
       "</div>"
      ],
      "text/plain": [
       "       0    1    2    3               4\n",
       "145  6.7  3.0  5.2  2.3  Iris-virginica\n",
       "146  6.3  2.5  5.0  1.9  Iris-virginica\n",
       "147  6.5  3.0  5.2  2.0  Iris-virginica\n",
       "148  6.2  3.4  5.4  2.3  Iris-virginica\n",
       "149  5.9  3.0  5.1  1.8  Iris-virginica"
      ]
     },
     "execution_count": 9,
     "metadata": {},
     "output_type": "execute_result"
    }
   ],
   "source": [
    "import pandas as pd\n",
    "\n",
    "df = pd.read_csv('iris.data', header=None)\n",
    "df.tail()"
   ]
  },
  {
   "cell_type": "markdown",
   "metadata": {},
   "source": [
    "<hr>\n",
    "\n",
    "### Note:\n",
    "\n",
    "\n",
    "You can directly read data from the Internet. The Iris dataset is from UCI at https://archive.ics.uci.edu/ml/machine-learning-databases/iris/iris.data. For instance, to load the Iris dataset from the Internet, you can replace the line \n",
    "\n",
    "    df = pd.read_csv('your/local/path/to/iris.data', header=None)\n",
    "     \n",
    "by\n",
    "\n",
    "    df = pd.read_csv('https://archive.ics.uci.edu/ml/machine-learning-databases/iris/iris.data', header=None)\n",
    "     \n"
   ]
  },
  {
   "cell_type": "code",
   "execution_count": 10,
   "metadata": {},
   "outputs": [
    {
     "data": {
      "text/html": [
       "<div>\n",
       "<style scoped>\n",
       "    .dataframe tbody tr th:only-of-type {\n",
       "        vertical-align: middle;\n",
       "    }\n",
       "\n",
       "    .dataframe tbody tr th {\n",
       "        vertical-align: top;\n",
       "    }\n",
       "\n",
       "    .dataframe thead th {\n",
       "        text-align: right;\n",
       "    }\n",
       "</style>\n",
       "<table border=\"1\" class=\"dataframe\">\n",
       "  <thead>\n",
       "    <tr style=\"text-align: right;\">\n",
       "      <th></th>\n",
       "      <th>0</th>\n",
       "      <th>1</th>\n",
       "      <th>2</th>\n",
       "      <th>3</th>\n",
       "      <th>4</th>\n",
       "    </tr>\n",
       "  </thead>\n",
       "  <tbody>\n",
       "    <tr>\n",
       "      <th>145</th>\n",
       "      <td>6.7</td>\n",
       "      <td>3.0</td>\n",
       "      <td>5.2</td>\n",
       "      <td>2.3</td>\n",
       "      <td>Iris-virginica</td>\n",
       "    </tr>\n",
       "    <tr>\n",
       "      <th>146</th>\n",
       "      <td>6.3</td>\n",
       "      <td>2.5</td>\n",
       "      <td>5.0</td>\n",
       "      <td>1.9</td>\n",
       "      <td>Iris-virginica</td>\n",
       "    </tr>\n",
       "    <tr>\n",
       "      <th>147</th>\n",
       "      <td>6.5</td>\n",
       "      <td>3.0</td>\n",
       "      <td>5.2</td>\n",
       "      <td>2.0</td>\n",
       "      <td>Iris-virginica</td>\n",
       "    </tr>\n",
       "    <tr>\n",
       "      <th>148</th>\n",
       "      <td>6.2</td>\n",
       "      <td>3.4</td>\n",
       "      <td>5.4</td>\n",
       "      <td>2.3</td>\n",
       "      <td>Iris-virginica</td>\n",
       "    </tr>\n",
       "    <tr>\n",
       "      <th>149</th>\n",
       "      <td>5.9</td>\n",
       "      <td>3.0</td>\n",
       "      <td>5.1</td>\n",
       "      <td>1.8</td>\n",
       "      <td>Iris-virginica</td>\n",
       "    </tr>\n",
       "  </tbody>\n",
       "</table>\n",
       "</div>"
      ],
      "text/plain": [
       "       0    1    2    3               4\n",
       "145  6.7  3.0  5.2  2.3  Iris-virginica\n",
       "146  6.3  2.5  5.0  1.9  Iris-virginica\n",
       "147  6.5  3.0  5.2  2.0  Iris-virginica\n",
       "148  6.2  3.4  5.4  2.3  Iris-virginica\n",
       "149  5.9  3.0  5.1  1.8  Iris-virginica"
      ]
     },
     "execution_count": 10,
     "metadata": {},
     "output_type": "execute_result"
    }
   ],
   "source": [
    "df = pd.read_csv('https://archive.ics.uci.edu/ml/machine-learning-databases/iris/iris.data', header=None)\n",
    "df.tail()"
   ]
  },
  {
   "cell_type": "markdown",
   "metadata": {},
   "source": [
    "Load the data with header."
   ]
  },
  {
   "cell_type": "code",
   "execution_count": 11,
   "metadata": {},
   "outputs": [
    {
     "data": {
      "text/html": [
       "<div>\n",
       "<style scoped>\n",
       "    .dataframe tbody tr th:only-of-type {\n",
       "        vertical-align: middle;\n",
       "    }\n",
       "\n",
       "    .dataframe tbody tr th {\n",
       "        vertical-align: top;\n",
       "    }\n",
       "\n",
       "    .dataframe thead th {\n",
       "        text-align: right;\n",
       "    }\n",
       "</style>\n",
       "<table border=\"1\" class=\"dataframe\">\n",
       "  <thead>\n",
       "    <tr style=\"text-align: right;\">\n",
       "      <th></th>\n",
       "      <th>sepal_length</th>\n",
       "      <th>sepal_width</th>\n",
       "      <th>petal_length</th>\n",
       "      <th>petal_width</th>\n",
       "      <th>class</th>\n",
       "    </tr>\n",
       "  </thead>\n",
       "  <tbody>\n",
       "    <tr>\n",
       "      <th>145</th>\n",
       "      <td>6.7</td>\n",
       "      <td>3.0</td>\n",
       "      <td>5.2</td>\n",
       "      <td>2.3</td>\n",
       "      <td>Iris-virginica</td>\n",
       "    </tr>\n",
       "    <tr>\n",
       "      <th>146</th>\n",
       "      <td>6.3</td>\n",
       "      <td>2.5</td>\n",
       "      <td>5.0</td>\n",
       "      <td>1.9</td>\n",
       "      <td>Iris-virginica</td>\n",
       "    </tr>\n",
       "    <tr>\n",
       "      <th>147</th>\n",
       "      <td>6.5</td>\n",
       "      <td>3.0</td>\n",
       "      <td>5.2</td>\n",
       "      <td>2.0</td>\n",
       "      <td>Iris-virginica</td>\n",
       "    </tr>\n",
       "    <tr>\n",
       "      <th>148</th>\n",
       "      <td>6.2</td>\n",
       "      <td>3.4</td>\n",
       "      <td>5.4</td>\n",
       "      <td>2.3</td>\n",
       "      <td>Iris-virginica</td>\n",
       "    </tr>\n",
       "    <tr>\n",
       "      <th>149</th>\n",
       "      <td>5.9</td>\n",
       "      <td>3.0</td>\n",
       "      <td>5.1</td>\n",
       "      <td>1.8</td>\n",
       "      <td>Iris-virginica</td>\n",
       "    </tr>\n",
       "  </tbody>\n",
       "</table>\n",
       "</div>"
      ],
      "text/plain": [
       "     sepal_length  sepal_width  petal_length  petal_width           class\n",
       "145           6.7          3.0           5.2          2.3  Iris-virginica\n",
       "146           6.3          2.5           5.0          1.9  Iris-virginica\n",
       "147           6.5          3.0           5.2          2.0  Iris-virginica\n",
       "148           6.2          3.4           5.4          2.3  Iris-virginica\n",
       "149           5.9          3.0           5.1          1.8  Iris-virginica"
      ]
     },
     "execution_count": 11,
     "metadata": {},
     "output_type": "execute_result"
    }
   ],
   "source": [
    "df = pd.read_csv('iris_with_header.csv')\n",
    "df.tail()"
   ]
  },
  {
   "cell_type": "code",
   "execution_count": 12,
   "metadata": {},
   "outputs": [
    {
     "data": {
      "text/html": [
       "<div>\n",
       "<style scoped>\n",
       "    .dataframe tbody tr th:only-of-type {\n",
       "        vertical-align: middle;\n",
       "    }\n",
       "\n",
       "    .dataframe tbody tr th {\n",
       "        vertical-align: top;\n",
       "    }\n",
       "\n",
       "    .dataframe thead th {\n",
       "        text-align: right;\n",
       "    }\n",
       "</style>\n",
       "<table border=\"1\" class=\"dataframe\">\n",
       "  <thead>\n",
       "    <tr style=\"text-align: right;\">\n",
       "      <th></th>\n",
       "      <th>sepal_length</th>\n",
       "      <th>sepal_width</th>\n",
       "      <th>petal_length</th>\n",
       "      <th>petal_width</th>\n",
       "      <th>class</th>\n",
       "    </tr>\n",
       "  </thead>\n",
       "  <tbody>\n",
       "    <tr>\n",
       "      <th>0</th>\n",
       "      <td>5.1</td>\n",
       "      <td>3.5</td>\n",
       "      <td>1.4</td>\n",
       "      <td>0.2</td>\n",
       "      <td>Iris-setosa</td>\n",
       "    </tr>\n",
       "    <tr>\n",
       "      <th>1</th>\n",
       "      <td>4.9</td>\n",
       "      <td>3.0</td>\n",
       "      <td>1.4</td>\n",
       "      <td>0.2</td>\n",
       "      <td>Iris-setosa</td>\n",
       "    </tr>\n",
       "    <tr>\n",
       "      <th>2</th>\n",
       "      <td>4.7</td>\n",
       "      <td>3.2</td>\n",
       "      <td>1.3</td>\n",
       "      <td>0.2</td>\n",
       "      <td>Iris-setosa</td>\n",
       "    </tr>\n",
       "    <tr>\n",
       "      <th>3</th>\n",
       "      <td>4.6</td>\n",
       "      <td>3.1</td>\n",
       "      <td>1.5</td>\n",
       "      <td>0.2</td>\n",
       "      <td>Iris-setosa</td>\n",
       "    </tr>\n",
       "    <tr>\n",
       "      <th>4</th>\n",
       "      <td>5.0</td>\n",
       "      <td>3.6</td>\n",
       "      <td>1.4</td>\n",
       "      <td>0.2</td>\n",
       "      <td>Iris-setosa</td>\n",
       "    </tr>\n",
       "  </tbody>\n",
       "</table>\n",
       "</div>"
      ],
      "text/plain": [
       "   sepal_length  sepal_width  petal_length  petal_width        class\n",
       "0           5.1          3.5           1.4          0.2  Iris-setosa\n",
       "1           4.9          3.0           1.4          0.2  Iris-setosa\n",
       "2           4.7          3.2           1.3          0.2  Iris-setosa\n",
       "3           4.6          3.1           1.5          0.2  Iris-setosa\n",
       "4           5.0          3.6           1.4          0.2  Iris-setosa"
      ]
     },
     "execution_count": 12,
     "metadata": {},
     "output_type": "execute_result"
    }
   ],
   "source": [
    "df.head()"
   ]
  },
  {
   "cell_type": "markdown",
   "metadata": {},
   "source": [
    "<hr>"
   ]
  }
 ],
 "metadata": {
  "anaconda-cloud": {},
  "kernelspec": {
   "display_name": "Python 3",
   "language": "python",
   "name": "python3"
  },
  "language_info": {
   "codemirror_mode": {
    "name": "ipython",
    "version": 3
   },
   "file_extension": ".py",
   "mimetype": "text/x-python",
   "name": "python",
   "nbconvert_exporter": "python",
   "pygments_lexer": "ipython3",
   "version": "3.8.10"
  }
 },
 "nbformat": 4,
 "nbformat_minor": 1
}
