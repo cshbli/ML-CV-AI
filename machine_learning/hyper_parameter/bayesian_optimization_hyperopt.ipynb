{
 "cells": [
  {
   "attachments": {},
   "cell_type": "markdown",
   "metadata": {},
   "source": [
    "# Bayesian Optimization of Hyperparameter Tuning With Hyperopt"
   ]
  },
  {
   "attachments": {},
   "cell_type": "markdown",
   "metadata": {},
   "source": [
    "Common hyperparameter tuning techniques such as `Grid Search` and `Random Search` roam the full space of available parameter values in an isolated way without paying attention to past results. Tuning by means of these techniques can become a time-consuming challenge especially with large parameters spaces. The search space grows exponentially with the number of parameters tuned, whilst for each hyperparameter combination a model has to be trained, predictions have to be generated on the validation data, and the validation metric has to be calculated.\n",
    "\n",
    "Hyperparameter tuning by means of Bayesian Optimization, can bring down the time spent to get to the optimal set of parameters — and bring better generalisation performance on the test set. It does this by taking into account information on the hyperparameter combinations it has seen thus far when choosing the hyperparameter set to evaluate next.\n",
    "\n",
    "Hyperopt is a Python library that enables you to tune hyperparameters by means of this technique and harvest these potential efficiency gains."
   ]
  },
  {
   "attachments": {},
   "cell_type": "markdown",
   "metadata": {},
   "source": [
    "## Generating the dummy dataset"
   ]
  },
  {
   "cell_type": "code",
   "execution_count": 1,
   "metadata": {},
   "outputs": [],
   "source": [
    "from sklearn import datasets\n",
    "from sklearn.model_selection import train_test_split\n",
    "\n",
    "# Generate dataset with 1000 samples, 100 features and 2 classes\n",
    "def gen_dataset(n_samples=1000, n_features=100, n_classes=2, random_state=123):  \n",
    "    X, y = datasets.make_classification(\n",
    "        n_features=n_features,\n",
    "        n_samples=n_samples,  \n",
    "        n_informative=int(0.6 * n_features),    # the number of informative features\n",
    "        n_redundant=int(0.1 * n_features),      # the number of redundant features\n",
    "        n_classes=n_classes, \n",
    "        random_state=random_state)\n",
    "    return (X, y)\n",
    "\n",
    "X, y = gen_dataset(n_samples=1000, n_features=100, n_classes=2)\n",
    "\n",
    "# Train / test split\n",
    "\n",
    "X_train, X_test, y_train, y_test = train_test_split(X, y, test_size=0.2)"
   ]
  },
  {
   "attachments": {},
   "cell_type": "markdown",
   "metadata": {},
   "source": [
    "## Setting up the GridSearch and Random Search parameter grid"
   ]
  },
  {
   "cell_type": "code",
   "execution_count": 8,
   "metadata": {},
   "outputs": [],
   "source": [
    "from sklearn import pipeline\n",
    "import lightgbm as lgb\n",
    "import numpy as np\n",
    "from hyperopt import hp\n",
    "from hyperopt.pyll import scope\n",
    "\n",
    "pipe = pipeline.Pipeline([\n",
    "    ('clf', lgb.LGBMClassifier())\n",
    "    ])\n",
    "\n",
    "param_gridsearch = {\n",
    "    'clf__learning_rate' : [0.01, 0.1, 1],\n",
    "    'clf__max_depth' : [5, 10, 15],\n",
    "    'clf__n_estimators' : [5, 20, 35], \n",
    "    'clf__num_leaves' : [5, 25, 50],\n",
    "    'clf__boosting_type': ['gbdt', 'dart'],\n",
    "    'clf__colsample_bytree' : [0.6, 0.75, 1],\n",
    "    'clf__reg_lambda': [0.01, 0.1, 1],\n",
    "}\n",
    "\n",
    "param_random = {\n",
    "    'clf__learning_rate': list(np.logspace(np.log(0.01), np.log(1), num = 500, base=3)),\n",
    "    'clf__max_depth': list(range(5, 15)),\n",
    "    'clf__n_estimators': list(range(5, 35)),\n",
    "    'clf__num_leaves': list(range(5, 50)),\n",
    "    'clf__boosting_type': ['gbdt', 'dart'],\n",
    "    'clf__colsample_bytree': list(np.linspace(0.6, 1, 500)),\n",
    "    'clf__reg_lambda': list(np.linspace(0, 1, 500)),\n",
    "}\n",
    "\n",
    "param_hyperopt= {\n",
    "    'learning_rate': hp.loguniform('learning_rate', np.log(0.01), np.log(1)),\n",
    "    'max_depth': scope.int(hp.quniform('max_depth', 5, 15, 1)),\n",
    "    'n_estimators': scope.int(hp.quniform('n_estimators', 5, 35, 1)),\n",
    "    'num_leaves': scope.int(hp.quniform('num_leaves', 5, 50, 1)),\n",
    "    'boosting_type': hp.choice('boosting_type', ['gbdt', 'dart']),\n",
    "    'colsample_bytree': hp.uniform('colsample_by_tree', 0.6, 1.0),\n",
    "    'reg_lambda': hp.uniform('reg_lambda', 0.0, 1.0),\n",
    "}"
   ]
  },
  {
   "attachments": {},
   "cell_type": "markdown",
   "metadata": {},
   "source": [
    "## Grid Search & Random Search function"
   ]
  },
  {
   "cell_type": "code",
   "execution_count": 9,
   "metadata": {},
   "outputs": [],
   "source": [
    "from sklearn.model_selection import cross_val_score, GridSearchCV, RandomizedSearchCV\n",
    "import time\n",
    "import pandas as pd\n",
    "\n",
    "def search(pipeline, parameters, X_train, y_train, X_test, y_test, optimizer='grid_search', n_iter=None):\n",
    "    \n",
    "    start = time.time() \n",
    "    \n",
    "    if optimizer == 'grid_search':\n",
    "        grid_obj = GridSearchCV(estimator=pipeline,\n",
    "                                param_grid=parameters,\n",
    "                                cv=5,\n",
    "                                refit=True,\n",
    "                                return_train_score=False,\n",
    "                                scoring = 'accuracy',\n",
    "                               )\n",
    "        grid_obj.fit(X_train, y_train,)\n",
    "    \n",
    "    elif optimizer == 'random_search':\n",
    "        grid_obj = RandomizedSearchCV(estimator=pipeline,\n",
    "                            param_distributions=parameters,\n",
    "                            cv=5,\n",
    "                            n_iter=n_iter,\n",
    "                            refit=True,\n",
    "                            return_train_score=False,\n",
    "                            scoring = 'accuracy',\n",
    "                            random_state=1)\n",
    "        grid_obj.fit(X_train, y_train,)\n",
    "    \n",
    "    else:\n",
    "        print('enter search method')\n",
    "        return\n",
    "\n",
    "    estimator = grid_obj.best_estimator_\n",
    "    cvs = cross_val_score(estimator, X_train, y_train, cv=5)\n",
    "    results = pd.DataFrame(grid_obj.cv_results_)\n",
    "    \n",
    "    print(\"##### Results\")\n",
    "    print(\"Score best parameters: \", grid_obj.best_score_)\n",
    "    print(\"Best parameters: \", grid_obj.best_params_)\n",
    "    print(\"Cross-validation Score: \", cvs.mean())\n",
    "    print(\"Test Score: \", estimator.score(X_test, y_test))\n",
    "    print(\"Time elapsed: \", time.time() - start)\n",
    "    print(\"Parameter combinations evaluated: \",results.shape[0])\n",
    "    \n",
    "    return results, estimator"
   ]
  },
  {
   "attachments": {},
   "cell_type": "markdown",
   "metadata": {},
   "source": [
    "## Grid Search & Random Search (75 iterations)"
   ]
  },
  {
   "cell_type": "code",
   "execution_count": 10,
   "metadata": {},
   "outputs": [
    {
     "name": "stdout",
     "output_type": "stream",
     "text": [
      "##### Results\n",
      "Score best parameters:  0.8462500000000001\n",
      "Best parameters:  {'clf__reg_lambda': 0.38476953907815625, 'clf__num_leaves': 38, 'clf__n_estimators': 31, 'clf__max_depth': 13, 'clf__learning_rate': 0.48682048838700065, 'clf__colsample_bytree': 0.6985971943887775, 'clf__boosting_type': 'dart'}\n",
      "Cross-validation Score:  0.8462500000000001\n",
      "Test Score:  0.835\n",
      "Time elapsed:  12.481127500534058\n",
      "Parameter combinations evaluated:  75\n"
     ]
    }
   ],
   "source": [
    "num_eval =75\n",
    "#results_grid, estimator_grid = search(pipe, param_gridsearch, X_train, y_train, X_test, y_test, 'grid_search')\n",
    "results_random, estimator_random = search(pipe, param_random, X_train, y_train, X_test, y_test, 'random_search', num_eval)"
   ]
  },
  {
   "attachments": {},
   "cell_type": "markdown",
   "metadata": {},
   "source": [
    "## Hyperopt function"
   ]
  },
  {
   "cell_type": "code",
   "execution_count": 16,
   "metadata": {},
   "outputs": [],
   "source": [
    "from hyperopt import fmin, tpe, hp, STATUS_OK, Trials\n",
    "\n",
    "def hyperopt(param_space, X_train, y_train, X_test, y_test, num_eval):\n",
    "    \n",
    "    start = time.time()\n",
    "    \n",
    "    def objective_function(params):\n",
    "        clf = lgb.LGBMClassifier(**params)\n",
    "        score = cross_val_score(clf, X_train, y_train, cv=5).mean()\n",
    "        return {'loss': -score, 'status': STATUS_OK}\n",
    "\n",
    "    trials = Trials()\n",
    "    best_param = fmin(objective_function, \n",
    "                      param_space, \n",
    "                      algo=tpe.suggest, \n",
    "                      max_evals=num_eval, \n",
    "                      trials=trials,\n",
    "                      rstate = np.random.default_rng(2))\n",
    "    loss = [x['result']['loss'] for x in trials.trials]\n",
    "    \n",
    "    best_param_values = [x for x in best_param.values()]\n",
    "    \n",
    "    if best_param_values[0] == 0:\n",
    "        boosting_type = 'gbdt'\n",
    "    else:\n",
    "        boosting_type= 'dart'\n",
    "    \n",
    "    clf_best = lgb.LGBMClassifier(learning_rate=best_param_values[2],\n",
    "                                  num_leaves=int(best_param_values[5]),\n",
    "                                  max_depth=int(best_param_values[3]),\n",
    "                                  n_estimators=int(best_param_values[4]),\n",
    "                                  boosting_type=boosting_type,\n",
    "                                  colsample_bytree=best_param_values[1],\n",
    "                                  reg_lambda=best_param_values[6],\n",
    "                                 )\n",
    "                                  \n",
    "    clf_best.fit(X_train, y_train)\n",
    "    \n",
    "    print(\"\")\n",
    "    print(\"##### Results\")\n",
    "    print(\"Score best parameters: \", min(loss)*-1)\n",
    "    print(\"Best parameters: \", best_param)\n",
    "    print(\"Test Score: \", clf_best.score(X_test, y_test))\n",
    "    print(\"Time elapsed: \", time.time() - start)\n",
    "    print(\"Parameter combinations evaluated: \", num_eval)\n",
    "    \n",
    "    return trials"
   ]
  },
  {
   "attachments": {},
   "cell_type": "markdown",
   "metadata": {},
   "source": [
    "## Execute Hyperopt for 75 iterations"
   ]
  },
  {
   "cell_type": "code",
   "execution_count": 17,
   "metadata": {},
   "outputs": [
    {
     "name": "stdout",
     "output_type": "stream",
     "text": [
      "100%|██████████| 75/75 [00:14<00:00,  5.14trial/s, best loss: -0.8450000000000001]\n",
      "\n",
      "##### Results\n",
      "Score best parameters:  0.8450000000000001\n",
      "Best parameters:  {'boosting_type': 0, 'colsample_by_tree': 0.9394247905705991, 'learning_rate': 0.4970676503305924, 'max_depth': 6.0, 'n_estimators': 30.0, 'num_leaves': 41.0, 'reg_lambda': 0.6922086173168545}\n",
      "Test Score:  0.81\n",
      "Time elapsed:  14.64952540397644\n",
      "Parameter combinations evaluated:  75\n"
     ]
    }
   ],
   "source": [
    "results_hyperopt = hyperopt(param_hyperopt, X_train, y_train, X_test, y_test, num_eval)"
   ]
  },
  {
   "attachments": {},
   "cell_type": "markdown",
   "metadata": {},
   "source": [
    "## Plot top validation scores over time for GridSearch and Random Search"
   ]
  },
  {
   "cell_type": "code",
   "execution_count": 18,
   "metadata": {},
   "outputs": [],
   "source": [
    "# Retrieve Hyperopt scores\n",
    "\n",
    "hyperopt_scores = [trial['result']['loss']*-1 for trial in results_hyperopt.trials]\n",
    "hyperopt_scores = np.maximum.accumulate(hyperopt_scores)\n",
    "\n",
    "# Retrieve Random Search scores\n",
    "\n",
    "random_scores = np.maximum.accumulate(results_random['mean_test_score'])"
   ]
  },
  {
   "cell_type": "code",
   "execution_count": 19,
   "metadata": {},
   "outputs": [
    {
     "data": {
      "text/plain": [
       "[None, None, None, None]"
      ]
     },
     "execution_count": 19,
     "metadata": {},
     "output_type": "execute_result"
    },
    {
     "data": {
      "image/png": "[encoded data removed]",
      "text/plain": [
       "<Figure size 700x600 with 1 Axes>"
      ]
     },
     "metadata": {},
     "output_type": "display_data"
    }
   ],
   "source": [
    "import matplotlib.pyplot as plt\n",
    "import seaborn as sns\n",
    "\n",
    "# Plot evaluation scores of each method over time\n",
    "\n",
    "f, ax = plt.subplots(figsize=(7,6))\n",
    "sns.set_palette(\"husl\")\n",
    "sns.despine()\n",
    "ax = sns.lineplot(x=[x for x in range(num_eval)], y=random_scores, linewidth = 2)\n",
    "ax = sns.lineplot(x=[x for x in range(num_eval)], y=hyperopt_scores, linewidth = 2)\n",
    "plt.title(\"Finding the optimum\", fontsize=18)\n",
    "plt.xlabel('Iteration', fontsize=12)\n",
    "plt.ylabel('Cross-Validation Score (accuracy, %)', fontsize=12)\n",
    "plt.legend(loc='lower right', labels=['Random Search', 'Hyperopt'])\n",
    "plt.setp(ax.get_legend().get_texts(), fontsize='12')"
   ]
  },
  {
   "attachments": {},
   "cell_type": "markdown",
   "metadata": {},
   "source": [
    "## References\n",
    "\n",
    "- [Bayesian Optimization for quicker hyperparameter tuning](https://www.vantage-ai.com/en/blog/bayesian-optimization-for-quicker-hyperparameter-tuning)"
   ]
  }
 ],
 "metadata": {
  "kernelspec": {
   "display_name": "torch1.13.0",
   "language": "python",
   "name": "python3"
  },
  "language_info": {
   "codemirror_mode": {
    "name": "ipython",
    "version": 3
   },
   "file_extension": ".py",
   "mimetype": "text/x-python",
   "name": "python",
   "nbconvert_exporter": "python",
   "pygments_lexer": "ipython3",
   "version": "3.8.10"
  },
  "orig_nbformat": 4
 },
 "nbformat": 4,
 "nbformat_minor": 2
}
