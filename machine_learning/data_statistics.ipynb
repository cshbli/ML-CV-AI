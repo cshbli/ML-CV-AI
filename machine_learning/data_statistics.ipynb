{
 "cells": [
  {
   "attachments": {},
   "cell_type": "markdown",
   "metadata": {},
   "source": [
    "# Understanding Data with Descriptive Statistics\n",
    "\n",
    "<b>Descriptive statistics</b> is about describing and summarizing data. It uses two main approaches:\n",
    "\n",
    "1. The quantitative approach describes and summarizes data numerically.\n",
    "2. The visual approach illustrates data with charts, plots, histograms, and other graphs.\n",
    "\n",
    "You can apply descriptive statistics to one or many datasets or variables. \n",
    "- <b>Univariate analysis</b>: When you describe and summarize a single variable, you’re performing univariate analysis. \n",
    "- <b>Bivariate analysis</b>: When you search for statistical relationships among a pair of variables, you’re doing a bivariate analysis. \n",
    "- <b>Mulivariate analysis</b>: A multivariate analysis is concerned with multiple variables at once.\n",
    "\n",
    "Types of measures in descriptive statistics:\n",
    "\n",
    "- <b>Central tendency</b> tells you about the centers of the data. Useful measures include the mean, median, and mode.\n",
    "- <b>Variability</b> tells you about the spread of the data. Useful measures include variance and standard deviation.\n",
    "- <b>Correlation or joint variability</b> tells you about the relation between a pair of variables in a dataset. Useful measures include covariance and the correlation coefficient.\n",
    "\n",
    "<p align=\"center\">\n",
    "<img src=\"pic/descriptive_statistics.jpg\">\n",
    "</p>"
   ]
  },
  {
   "cell_type": "markdown",
   "metadata": {},
   "source": [
    "## Looking at Raw Data\n",
    "It is important to look at raw data because the insight we will get after looking at raw data will boost our chances to better pre-processing as well as handling of data for ML projects."
   ]
  },
  {
   "cell_type": "code",
   "execution_count": 1,
   "metadata": {},
   "outputs": [
    {
     "name": "stdout",
     "output_type": "stream",
     "text": [
      "   Pregnancies  Glucose  BloodPressure  SkinThickness  Insulin   BMI  \\\n",
      "0            6      148             72             35        0  33.6   \n",
      "1            1       85             66             29        0  26.6   \n",
      "2            8      183             64              0        0  23.3   \n",
      "3            1       89             66             23       94  28.1   \n",
      "4            0      137             40             35      168  43.1   \n",
      "5            5      116             74              0        0  25.6   \n",
      "6            3       78             50             32       88  31.0   \n",
      "7           10      115              0              0        0  35.3   \n",
      "8            2      197             70             45      543  30.5   \n",
      "9            8      125             96              0        0   0.0   \n",
      "\n",
      "   DiabetesPedigreeFunction  Age  Outcome  \n",
      "0                     0.627   50        1  \n",
      "1                     0.351   31        0  \n",
      "2                     0.672   32        1  \n",
      "3                     0.167   21        0  \n",
      "4                     2.288   33        1  \n",
      "5                     0.201   30        0  \n",
      "6                     0.248   26        1  \n",
      "7                     0.134   29        0  \n",
      "8                     0.158   53        1  \n",
      "9                     0.232   54        1  \n"
     ]
    }
   ],
   "source": [
    "from pandas import read_csv\n",
    "path = 'diabetes.csv'\n",
    "data = read_csv(path)\n",
    "print(data.head(10))"
   ]
  },
  {
   "cell_type": "markdown",
   "metadata": {},
   "source": [
    "## Checking Dimensions of Data\n",
    "It is always a good practice to know how much data, in terms of rows and columns, we are having for our ML project. The reasons behind are:\n",
    "\n",
    "- Suppose if we have too many rows and columns then it would take long time to run the algorithm and train the model.\n",
    "\n",
    "- Suppose if we have too less rows and columns then it we would not have enough data to well train the model.\n"
   ]
  },
  {
   "cell_type": "code",
   "execution_count": 2,
   "metadata": {},
   "outputs": [
    {
     "name": "stdout",
     "output_type": "stream",
     "text": [
      "(768, 9)\n"
     ]
    }
   ],
   "source": [
    "print(data.shape)"
   ]
  },
  {
   "cell_type": "markdown",
   "metadata": {},
   "source": [
    "## Getting Each Attribute's Data Type\n",
    "It is another good practice to know data type of each attribute. The reason behind is that, as per to the requirement, sometimes we may need to convert one data type to another. For example, we may need to convert string into floating point or int for representing `categorial` or `ordinal` values. We can have an idea about the attribute’s data type by looking at the raw data, but another way is to use dtypes property of Pandas DataFrame."
   ]
  },
  {
   "cell_type": "code",
   "execution_count": 3,
   "metadata": {},
   "outputs": [
    {
     "name": "stdout",
     "output_type": "stream",
     "text": [
      "Pregnancies                   int64\n",
      "Glucose                       int64\n",
      "BloodPressure                 int64\n",
      "SkinThickness                 int64\n",
      "Insulin                       int64\n",
      "BMI                         float64\n",
      "DiabetesPedigreeFunction    float64\n",
      "Age                           int64\n",
      "Outcome                       int64\n",
      "dtype: object\n"
     ]
    }
   ],
   "source": [
    "print(data.dtypes)"
   ]
  },
  {
   "cell_type": "markdown",
   "metadata": {},
   "source": [
    "## Statistical Summary of Data\n",
    "__`describe()`__ function of `Pandas DataFrame` can provide the following 8 statistical properties of each & every data attribute:\n",
    "\n",
    "- Count\n",
    "- Mean\n",
    "- Standard Deviation\n",
    "- Minimum Value\n",
    "- Maximum value\n",
    "- 25%\n",
    "- Median i.e. 50%\n",
    "- 75%"
   ]
  },
  {
   "cell_type": "code",
   "execution_count": 4,
   "metadata": {},
   "outputs": [
    {
     "name": "stdout",
     "output_type": "stream",
     "text": [
      "(768, 9)\n",
      "       Pregnancies  Glucose  BloodPressure  SkinThickness  Insulin     BMI  \\\n",
      "count       768.00   768.00         768.00         768.00   768.00  768.00   \n",
      "mean          3.85   120.89          69.11          20.54    79.80   31.99   \n",
      "std           3.37    31.97          19.36          15.95   115.24    7.88   \n",
      "min           0.00     0.00           0.00           0.00     0.00    0.00   \n",
      "25%           1.00    99.00          62.00           0.00     0.00   27.30   \n",
      "50%           3.00   117.00          72.00          23.00    30.50   32.00   \n",
      "75%           6.00   140.25          80.00          32.00   127.25   36.60   \n",
      "max          17.00   199.00         122.00          99.00   846.00   67.10   \n",
      "\n",
      "       DiabetesPedigreeFunction     Age  Outcome  \n",
      "count                    768.00  768.00   768.00  \n",
      "mean                       0.47   33.24     0.35  \n",
      "std                        0.33   11.76     0.48  \n",
      "min                        0.08   21.00     0.00  \n",
      "25%                        0.24   24.00     0.00  \n",
      "50%                        0.37   29.00     0.00  \n",
      "75%                        0.63   41.00     1.00  \n",
      "max                        2.42   81.00     1.00  \n"
     ]
    }
   ],
   "source": [
    "import pandas as pd\n",
    "\n",
    "pd.set_option('display.precision', 2)\n",
    "print(data.shape)\n",
    "print(data.describe())"
   ]
  },
  {
   "cell_type": "markdown",
   "metadata": {},
   "source": [
    "## Reviewing Class Distribution\n",
    "Class distribution statistics is useful in classification problems where we need to know the balance of class values. It is important to know class value distribution because if we have\n",
    "highly imbalanced class distribution i.e. one class is having lots more observations than other class, then it may need special handling at data preparation stage of our ML project. We can easily get class distribution in Python with the help of Pandas DataFrame."
   ]
  },
  {
   "cell_type": "code",
   "execution_count": 5,
   "metadata": {},
   "outputs": [
    {
     "name": "stdout",
     "output_type": "stream",
     "text": [
      "Outcome\n",
      "0    500\n",
      "1    268\n",
      "dtype: int64\n"
     ]
    }
   ],
   "source": [
    "count_Outcome = data.groupby('Outcome').size()\n",
    "print(count_Outcome)"
   ]
  },
  {
   "cell_type": "markdown",
   "metadata": {},
   "source": [
    "## Reviewing Correlation between Attributes\n",
    "The relationship between two variables is called __correlation__. In statistics, the most common method for calculating correlation is `Pearson’s Correlation Coefficient`. It can have three values as follows:\n",
    "\n",
    "- __Coefficient value = 1:__ It represents full positive correlation between variables.\n",
    "- __Coefficient value = -1:__ It represents full negative correlation between variables.\n",
    "- __Coefficient value = 0:__ It represents no correlation at all between variables.\n",
    "\n",
    "It is always good for us to review the pairwise correlations of the attributes in our dataset before using it into ML project because some machine learning algorithms such as linear\n",
    "regression and logistic regression will perform poorly if we have highly correlated attributes. In Python, we can easily calculate a correlation matrix of dataset attributes with\n",
    "the help of corr() function on Pandas DataFrame."
   ]
  },
  {
   "cell_type": "code",
   "execution_count": 6,
   "metadata": {},
   "outputs": [
    {
     "name": "stdout",
     "output_type": "stream",
     "text": [
      "                          Pregnancies  Glucose  BloodPressure  SkinThickness  \\\n",
      "Pregnancies                      1.00     0.13           0.14          -0.08   \n",
      "Glucose                          0.13     1.00           0.15           0.06   \n",
      "BloodPressure                    0.14     0.15           1.00           0.21   \n",
      "SkinThickness                   -0.08     0.06           0.21           1.00   \n",
      "Insulin                         -0.07     0.33           0.09           0.44   \n",
      "BMI                              0.02     0.22           0.28           0.39   \n",
      "DiabetesPedigreeFunction        -0.03     0.14           0.04           0.18   \n",
      "Age                              0.54     0.26           0.24          -0.11   \n",
      "Outcome                          0.22     0.47           0.07           0.07   \n",
      "\n",
      "                          Insulin   BMI  DiabetesPedigreeFunction   Age  \\\n",
      "Pregnancies                 -0.07  0.02                     -0.03  0.54   \n",
      "Glucose                      0.33  0.22                      0.14  0.26   \n",
      "BloodPressure                0.09  0.28                      0.04  0.24   \n",
      "SkinThickness                0.44  0.39                      0.18 -0.11   \n",
      "Insulin                      1.00  0.20                      0.19 -0.04   \n",
      "BMI                          0.20  1.00                      0.14  0.04   \n",
      "DiabetesPedigreeFunction     0.19  0.14                      1.00  0.03   \n",
      "Age                         -0.04  0.04                      0.03  1.00   \n",
      "Outcome                      0.13  0.29                      0.17  0.24   \n",
      "\n",
      "                          Outcome  \n",
      "Pregnancies                  0.22  \n",
      "Glucose                      0.47  \n",
      "BloodPressure                0.07  \n",
      "SkinThickness                0.07  \n",
      "Insulin                      0.13  \n",
      "BMI                          0.29  \n",
      "DiabetesPedigreeFunction     0.17  \n",
      "Age                          0.24  \n",
      "Outcome                      1.00  \n"
     ]
    }
   ],
   "source": [
    "correlations = data.corr(method='pearson')\n",
    "print(correlations)"
   ]
  },
  {
   "cell_type": "markdown",
   "metadata": {},
   "source": [
    "The matrix in above output gives the correlation between all the pairs of the attribute in dataset."
   ]
  },
  {
   "cell_type": "markdown",
   "metadata": {},
   "source": [
    "## Reviewing Skew of Attribute Distribution\n",
    "Skewness may be defined as the distribution that is assumed to be __Gaussian__ but appears distorted or shifted in one direction or another, or either to the left or right. Reviewing the\n",
    "skewness of attributes is one of the important tasks due to following reasons:\n",
    "\n",
    "- Presence of skewness in data requires the correction at data preparation stage so that we can get more accuracy from our model.\n",
    "- Most of the ML algorithms assumes that data has a Gaussian distribution i.e. either normal of bell curved data.\n",
    "\n",
    "In Python, we can easily calculate the skew of each attribute by using __`skew()`__ function on Pandas DataFrame."
   ]
  },
  {
   "cell_type": "code",
   "execution_count": 7,
   "metadata": {},
   "outputs": [
    {
     "name": "stdout",
     "output_type": "stream",
     "text": [
      "Pregnancies                 0.90\n",
      "Glucose                     0.17\n",
      "BloodPressure              -1.84\n",
      "SkinThickness               0.11\n",
      "Insulin                     2.27\n",
      "BMI                        -0.43\n",
      "DiabetesPedigreeFunction    1.92\n",
      "Age                         1.13\n",
      "Outcome                     0.64\n",
      "dtype: float64\n"
     ]
    }
   ],
   "source": [
    "print(data.skew())"
   ]
  },
  {
   "cell_type": "markdown",
   "metadata": {},
   "source": [
    "From the above output, positive or negative skew can be observed. If the value is closer to zero, then it shows less skew."
   ]
  },
  {
   "attachments": {},
   "cell_type": "markdown",
   "metadata": {},
   "source": [
    "## References\n",
    "\n",
    "- [Python Statistics Fundamentals: How to Describe Your Data](https://realpython.com/python-statistics/)"
   ]
  }
 ],
 "metadata": {
  "anaconda-cloud": {},
  "kernelspec": {
   "display_name": "Python 3",
   "language": "python",
   "name": "python3"
  },
  "language_info": {
   "codemirror_mode": {
    "name": "ipython",
    "version": 3
   },
   "file_extension": ".py",
   "mimetype": "text/x-python",
   "name": "python",
   "nbconvert_exporter": "python",
   "pygments_lexer": "ipython3",
   "version": "3.8.10"
  }
 },
 "nbformat": 4,
 "nbformat_minor": 1
}
