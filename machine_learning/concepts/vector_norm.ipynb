{
 "cells": [
  {
   "attachments": {},
   "cell_type": "markdown",
   "metadata": {},
   "source": [
    "# Vector Norm\n",
    "\n",
    "Calculating the size or length of a vector is often required either directly or as part of a vector-metric operation.\n",
    "\n",
    "The length of the vector is referred to as the vector norm or the vector’s magnitude.\n",
    "\n",
    "The length of a vector is a non-negative number that describes the extent of the vector in space, and is sometimes referred to as the vector’s magnitude or the norm.\n",
    "\n",
    "The length of the vector is always a positive number, except for a vector of all zero values. It is calculated using some distance metrics that summarizes the distance of the vector from the origin of the vector space. For example, the origin of a vector space for a vector with 3 elements is (0, 0, 0)."
   ]
  },
  {
   "attachments": {},
   "cell_type": "markdown",
   "metadata": {},
   "source": [
    "## Vector L1 Norm\n",
    "\n",
    "The length of a vector can be calculated using the L1 norm. The L1 norm, represented as ||v||1 is calculated as the sum of the absolute vector values, where the absolute value of a scalar uses the notation |a1|. Clearly, the norm is a calculation of the Manhattan distance from the origin of the vector space.\n",
    "\n",
    "$$||v||1 = |a1| + |a2| + |a3|$$\n",
    "\n",
    "The L1 norm of a vector can be calculated in NumPy using the norm() function with a parameter to specify the norm order, in this case 1."
   ]
  },
  {
   "cell_type": "code",
   "execution_count": 2,
   "metadata": {},
   "outputs": [
    {
     "name": "stdout",
     "output_type": "stream",
     "text": [
      "[1 2 3]\n",
      "6.0\n"
     ]
    }
   ],
   "source": [
    "import numpy as np\n",
    "\n",
    "a = np.array([1, 2, 3])\n",
    "print(a)\n",
    "l1 = np.linalg.norm(a, 1)\n",
    "print(l1)"
   ]
  },
  {
   "attachments": {},
   "cell_type": "markdown",
   "metadata": {},
   "source": [
    "## Vector L2 Norm\n",
    "\n",
    "The L2 norm, represented as ||v||2 is calculated as the square root of the sum of the squared vector values. Clearly, the norm is a calculation of the Euclidean distance from the origin of the vector space.\n",
    "\n",
    "$$||v||2 = sqrt(a_1² + a_2² + a_3²)$$\n",
    "\n",
    "The L2 norm of a vector can be calculated in NumPy using the norm() function with default parameters."
   ]
  },
  {
   "cell_type": "code",
   "execution_count": 3,
   "metadata": {},
   "outputs": [
    {
     "name": "stdout",
     "output_type": "stream",
     "text": [
      "[1 2 3]\n",
      "3.7416573867739413\n"
     ]
    }
   ],
   "source": [
    "import numpy as np\n",
    "\n",
    "a = np.array([1, 2, 3])\n",
    "print(a)\n",
    "l2 = np.linalg.norm(a)\n",
    "print(l2)"
   ]
  },
  {
   "attachments": {},
   "cell_type": "markdown",
   "metadata": {},
   "source": [
    "## Vector Lp Norm\n",
    "\n",
    "The Lp norm, represented as ||v||p is calculated as follows from the origin of the vector space:\n",
    "\n",
    "$$||v||p=(a_1^p + a_2^p + a_3^p)^{1/p}$$\n",
    "\n",
    "Clearly, the norm is a calculation of the Minkowski distance from the origin of the vector space."
   ]
  },
  {
   "attachments": {},
   "cell_type": "markdown",
   "metadata": {},
   "source": [
    "## References\n",
    "\n",
    "- [Role of Distance Metrics in Machine Learning](https://medium.com/analytics-vidhya/role-of-distance-metrics-in-machine-learning-e43391a6bf2e)"
   ]
  }
 ],
 "metadata": {
  "kernelspec": {
   "display_name": "torch1.13.0",
   "language": "python",
   "name": "python3"
  },
  "language_info": {
   "codemirror_mode": {
    "name": "ipython",
    "version": 3
   },
   "file_extension": ".py",
   "mimetype": "text/x-python",
   "name": "python",
   "nbconvert_exporter": "python",
   "pygments_lexer": "ipython3",
   "version": "3.8.10"
  },
  "orig_nbformat": 4
 },
 "nbformat": 4,
 "nbformat_minor": 2
}
